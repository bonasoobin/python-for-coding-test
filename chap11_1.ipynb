{
 "cells": [
  {
   "cell_type": "markdown",
   "id": "a2dc72a4-306a-460b-b097-f2e47a6acd2b",
   "metadata": {},
   "source": [
    "### 모험가 길드"
   ]
  },
  {
   "cell_type": "markdown",
   "id": "fdc1d231-5aa2-4320-bc01-e86de2e76312",
   "metadata": {},
   "source": [
    "1. 한 마을에 모험가 N명 존재\n",
    "2. 모험가 길드에서는 N명의 모험가를 대상으로 공포도를 측정\n",
    "3. 공포도가 높은 모험가는 쉽게 공포를 느껴 위험 상황에서 제대로 대처할 능력이 떨어짐\n",
    "4. 모험가 그룹을 안전하게 구성하고자 공포도가 X인 모험가는 반드시 X명 이상으로 구성한 모험가 그룹에 참여해야 여행을 떠날 수 있도록 규정\n",
    "5. 동빈이는 최대 몇 개의 모험가 그룹을 만들 수 있는지 궁금\n",
    "\n",
    "+ 동빈이를 위해 N명의 모험가에 대한 정보가 주어졌을 때, 여행을 떠날 수 있는 그룹 수의 최댓값을 구하는 프로그램 작성하기\n",
    "\n",
    "**예시**   \n",
    "N=5, 각 모험가의 공포도 2 3 1 2 2  \n",
    "그룹 1에 공포도가 1,2,3인 모험가를 한명 씩 넣고  \n",
    "그룹 2에 공포도가 2인 남은 두 명을 넣으면 총 2개의 그룹 만들 수 있음  \n",
    "몇 명의 모험가는 마을에 그대로 남아 있어도 되기 때문에 모든 모험가를 특정한 그룹에 넣을 필요는 없음  \n",
    "\n",
    "**입력 조건**   \n",
    "첫째 줄에 모험가의 수 N이 주어짐 (1<=N<=100000)    \n",
    "둘째 줄에 각 모험가의 공포도의 값을 N 이하의 자연수로 주어지며, 각 자연수는 공백으로 구분\n",
    "\n",
    "**출력 조건**     \n",
    "여행을 떠날 수 있는 그룹 수의 최댓값 출력\n",
    " \n",
    "**입력 예시**     \n",
    "5  \n",
    "2 3 1 2 2\n",
    "\n",
    "**출력 예시**  \n",
    "2"
   ]
  },
  {
   "cell_type": "code",
   "execution_count": 39,
   "id": "012757a2-b4b4-434d-bcf7-cf2a9c26bad7",
   "metadata": {},
   "outputs": [
    {
     "name": "stdin",
     "output_type": "stream",
     "text": [
      " 5\n",
      " 2 3 1 2 2\n"
     ]
    },
    {
     "name": "stdout",
     "output_type": "stream",
     "text": [
      "2\n"
     ]
    }
   ],
   "source": [
    "n = int(input())\n",
    "fear = sorted(map(int, input().split()), reverse=True) # 공포도 입력 받고 리버스 정렬하기\n",
    "\n",
    "lf = len(fear) # fear의 길이를 뒤에서 줄여야하기때문에 새로운 변수에 fear 길이 저장\n",
    "count = 0      # 그룹 개수 카운트\n",
    "b = -1         # 0이 아닌 -1로 한 이유 : for문 두번째부터는 fear[b+1]로 돌아야 하는데 처음엔 b[0]으로 하려고\n",
    "\n",
    "for i in range(lf+2):                # lf 하면 범위 오류나서 lf+2라고 지정해줬는데 그냥 lf 따로 안쓰고 len(fear) 범위로 해도될거같기도.. 한거같아요 \n",
    "    if len(fear) <= b+1:             # b+1이 fear 길이보다 크거나 같으면\n",
    "        break                        # 멈추기\n",
    "    else:\n",
    "        a = []\n",
    "        for j in range(fear[b+1]):   # 그룹 묶은거 다음꺼부터 새로운 그룹 만들기\n",
    "            a.append(fear[b+1+j])    # a라는 임의의 리스트에 그룹 만들어놓기\n",
    "        count += 1                   # 그룹 개수 +1\n",
    "        lf -= fear[b+1]              # fear 길이를 fear[b+1]만큼 빼주기 (fear[b+1]만큼 이미 그룹 묶었으니까) 근데 그냥 len(a).. 해도 될거같아요\n",
    "        b += len(a)                  # b에 a길이만큼 더해주기 (3,2,2만큼 그룹묶어줬고, 그 다움부터는 2부터 그룹 묶으라고)\n",
    "print(count)"
   ]
  }
 ],
 "metadata": {
  "kernelspec": {
   "display_name": "Python 3 (ipykernel)",
   "language": "python",
   "name": "python3"
  },
  "language_info": {
   "codemirror_mode": {
    "name": "ipython",
    "version": 3
   },
   "file_extension": ".py",
   "mimetype": "text/x-python",
   "name": "python",
   "nbconvert_exporter": "python",
   "pygments_lexer": "ipython3",
   "version": "3.9.18"
  }
 },
 "nbformat": 4,
 "nbformat_minor": 5
}
