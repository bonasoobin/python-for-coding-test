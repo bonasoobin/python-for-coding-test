{
 "cells": [
  {
   "cell_type": "markdown",
   "id": "c906e99b",
   "metadata": {},
   "source": [
    "### 금광"
   ]
  },
  {
   "cell_type": "markdown",
   "id": "ecb399fc",
   "metadata": {},
   "source": [
    "+ nxm 크기의 금광\n",
    "+ 금광은 1x1 크기의 칸으로 나누어져 있으며, 각 칸은 특정한 크기의 금이 들어있음\n",
    "+ 채굴자는 첫 번째 열부터 출발하여 금을 캐기 시작\n",
    "+ 맨 처음에는 첫 번째 열의 어느 행에서든 출발 가능\n",
    "+ 이후에 m번에 걸쳐서 매번 오른쪽 위, 오른쪽, 오른쪽 아래 3가지 중 하나의 위치로 이동해야 함\n",
    "\n",
    "+ 결과적으로 채굴자가 얻을 수 있는 금의 최대 크기를 출력하는 프로그램 작성하기\n",
    "\n",
    "**예시**  \n",
    "+ 3x4 크기의 금광이 존재한다고 가정  \n",
    "  1  3  3  2  \n",
    "  2  1  4  1  \n",
    "  0  6  4  7  \n",
    "\n",
    "+ 가장 왼쪽 위치를 (1,1), 가장 오른쪽 아래의 위치를 (n,m) 이라고 할 때,  \n",
    "  위 예시에서는 (2,1) -> (3,2) -> (3,3) -> (3,4) 의 위치로 이동하면 총 19만큼의 금을 채굴할 수 있으며  \n",
    "  이때의 값이 최댓값이 됨\n",
    "  \n",
    "**입력 조건**  \n",
    "+ 첫째 줄에 테스트 케이스 T가 입력됨 (1 <= T <= 1000)\n",
    "+ 매 테스트 케이스 첫째 줄에 n과 m이 공백으로 구분되어 입력됨 (1 <= n,m <= 20)\n",
    "+ 둘째 줄에 n x m개의 위치에 매장된 금의 개수가 공백으로 구본되어 입력됨 (0 <= 각 위치에 매장된 금의 개수 <= 100)\n",
    "\n",
    "**출력 조건**  \n",
    "+ 테스트 케이스마다 채굴자가 얻을 수 있는 금의 최대 크기를 출력함\n",
    "+ 각 테스트 케이스틑 줄 바꿈을 이용해 구분함\n",
    "\n",
    "**입력 예시**  \n",
    "2  \n",
    "3 4  \n",
    "1 3 3 2 2 1 4 1 0 6 4 7   \n",
    "4 4   \n",
    "1 3 1 5 2 2 4 1 5 0 2 3 0 6 1 2  \n",
    "\n",
    "**출력 예시**  \n",
    "19   \n",
    "16"
   ]
  },
  {
   "cell_type": "code",
   "execution_count": 35,
   "id": "fd892585",
   "metadata": {},
   "outputs": [
    {
     "name": "stdout",
     "output_type": "stream",
     "text": [
      "2\n",
      "3 4\n",
      "1 3 3 2 2 1 4 1 0 6 4 7\n",
      "4 4\n",
      "1 3 1 5 2 2 4 1 5 0 2 3 0 6 1 2\n",
      "19\n",
      "16\n"
     ]
    }
   ],
   "source": [
    "answer = []\n",
    "t = int(input())\n",
    "for _ in range(t):\n",
    "    n, m = map(int, input().split())\n",
    "    gold = list(map(int, input().split()))\n",
    "    \n",
    "    count = 0\n",
    "    first = []\n",
    "    first_index = []\n",
    "    for i in range(len(gold)):\n",
    "        if i % m == 0:\n",
    "            first.append(gold[i])\n",
    "            first_index.append(i)\n",
    "\n",
    "    count += max(first)\n",
    "    first_max_index = first.index(max(first))\n",
    "\n",
    "    for i in range(m-1):\n",
    "        if i == 0:\n",
    "            a = []\n",
    "            a.append(gold[(first_index[first_max_index])-(m-1)])\n",
    "            a.append(gold[(first_index[first_max_index])+1])\n",
    "            if (len(gold)-1) - first_index[first_max_index] >= m+1:\n",
    "                a.append(gold[(first_index[first_max_index])+(m+1)])\n",
    "            count += max(a)\n",
    "            next_index = gold.index(max(a))\n",
    "        else:\n",
    "            a = []\n",
    "            a.append(gold[(next_index)-3])\n",
    "            a.append(gold[(next_index)+1])\n",
    "            if (len(gold)-1) - next_index >= m+1:\n",
    "                a.append(gold[(next_index)+5])\n",
    "            count += max(a)\n",
    "            next_index = gold.index(max(a))\n",
    "    answer.append(count)\n",
    "    \n",
    "for i in range(len(answer)):\n",
    "    print(answer[i])"
   ]
  },
  {
   "cell_type": "markdown",
   "id": "aaeede0c",
   "metadata": {},
   "source": [
    ",, 야매로풀었어요................."
   ]
  }
 ],
 "metadata": {
  "kernelspec": {
   "display_name": "Python 3 (ipykernel)",
   "language": "python",
   "name": "python3"
  },
  "language_info": {
   "codemirror_mode": {
    "name": "ipython",
    "version": 3
   },
   "file_extension": ".py",
   "mimetype": "text/x-python",
   "name": "python",
   "nbconvert_exporter": "python",
   "pygments_lexer": "ipython3",
   "version": "3.11.5"
  }
 },
 "nbformat": 4,
 "nbformat_minor": 5
}
