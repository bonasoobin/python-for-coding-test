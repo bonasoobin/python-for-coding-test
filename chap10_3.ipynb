{
 "cells": [
  {
   "cell_type": "markdown",
   "id": "2abbdbf0",
   "metadata": {},
   "source": [
    "### 커리큘럼"
   ]
  },
  {
   "cell_type": "markdown",
   "id": "bdc3080a",
   "metadata": {},
   "source": [
    "+ 선수 강의가 있는 강의는 선수 강의를 들어야만 해당 강의를 들을 수 있음  \n",
    "  (알고리즘 강의의 선수 강의로 자료구조와 컴퓨터 기초가 존재한다면, 모두 들은 이후에 알고리즘 강의 들을 수 있음)\n",
    "+ 총 N개의 강의를 듣고자 하며, 모든 강의는 1번부터 N번까지의 번호를 가짐\n",
    "+ 동시에 여러 개의 강의를 들을 수 있다고 가정\n",
    "<br>\n",
    "\n",
    "+ 예를 들어 N=3일때, 3번 강의의 선수 강의로 1번과 2번 강의가 있고, 1번과 2번 강의는 선수 강의가 없다고 가정\n",
    "+ 1번 강의 : 30시간, 2번 강의 : 20시간, 3번 강의 : 40시간\n",
    "+ 이 경우, 1번 강의를 수강하기까지의 최소 시간은 30시간, 2번 강의를 수강하기까지의 최소 시간은 20시간,   \n",
    "  3번 강의를 수강하기까지의 최소 시간은 70시간임\n",
    "<br>\n",
    "+ N개의 강의 정보가 주어졌을 때, N개의 강의에 대하여 수강하기까지 걸리는 최소 시간을 각각 출력하는 프로그램 작성하기\n",
    "\n",
    "**입력 조건**  \n",
    "+ 첫째 줄에 듣고자 하는 강의의 수 N(1 <= N <= 500)이 주어짐\n",
    "+ 다음 N개의 줄에는 각 강의의 강의 시간과 그 강의를 듣기 위해 먼저 들어야하는 강의들의 번호가 자연수로 주어지며  \n",
    "  공백으로 구분(100,000 이하의 자연수)\n",
    "+ 각 강의 번호는 1부터 N까지로 구성되며, 각 줄은 -1로 끝남\n",
    "\n",
    "**출력 조건**  \n",
    "+ N개의 강의에 대하여 수강하기까지 걸리는 최소 시간을 한 줄에 하나씩 출력하기\n",
    "\n",
    "**입력 예시**  \n",
    "5  \n",
    "10 -1  \n",
    "10 1 -1  \n",
    "4 1 -1  \n",
    "4 3 1 -1  \n",
    "3 3 -1  \n",
    "\n",
    "**출력 예시**  \n",
    "10  \n",
    "20  \n",
    "14  \n",
    "18  \n",
    "17  "
   ]
  },
  {
   "cell_type": "code",
   "execution_count": 5,
   "id": "7a092516",
   "metadata": {},
   "outputs": [
    {
     "name": "stdout",
     "output_type": "stream",
     "text": [
      "5\n",
      "10 -1\n",
      "10 1 -1\n",
      "4 1 -1\n",
      "4 3 1 -1\n",
      "3 3 -1\n",
      "10\n",
      "20\n",
      "14\n",
      "18\n",
      "17\n"
     ]
    }
   ],
   "source": [
    "from collections import deque\n",
    "import copy\n",
    "\n",
    "n = int(input())\n",
    "\n",
    "# 진입차수 0으로 초기화\n",
    "start = [0] * (n+1)\n",
    "\n",
    "# 각 노드에 연결된 간선 정보를 담기 위한 연결 리스트 초기화\n",
    "graph = [[] for i in range(n+1)]\n",
    "\n",
    "# 각 강의 시간을 0으로 초기화\n",
    "time = [0] * (n+1)\n",
    "\n",
    "# 방향 그래프의 모든 간선 정보를 입력받기\n",
    "for i in range(1, n+1):\n",
    "    data = list(map(int, input().split()))\n",
    "    time[i] = data[0]\n",
    "    for j in data[1:-1]:\n",
    "        start[i] += 1\n",
    "        graph[j].append(i)\n",
    "        \n",
    "# 위상 정렬 함수\n",
    "def topology_sort():\n",
    "    result = copy.deepcopy(time) # 알고리즘 수행 결과를 담을 리스트\n",
    "    q = deque() # 큐 기능을 위한 deque 라이브러리 사용\n",
    "    \n",
    "    # 처음 시작할때는 진입차수가 0인 노드를 큐에 삽입\n",
    "    for i in range(1, n+1):\n",
    "        if start[i] == 0:\n",
    "            q.append(i)\n",
    "    \n",
    "    # 큐가 빌때까지 반복\n",
    "    while q:\n",
    "        # 큐에서 원소 꺼내기\n",
    "        now = q.popleft()\n",
    "        # 해당 원소와 연결된 노드들의 진입차수에서 1 빼기\n",
    "        for i in graph[now]:\n",
    "            result[i] = max(result[i], result[now]+time[i])\n",
    "            start[i] -= 1\n",
    "            # 새롭게 진입차수가 0이 되는 노드를 큐에 삽입\n",
    "            if start[i] == 0:\n",
    "                q.append(i)\n",
    "                \n",
    "    # 위상 정렬을 수행한 겨로가 출력\n",
    "    for i in range(1, n+1):\n",
    "        print(result[i])\n",
    "        \n",
    "topology_sort()"
   ]
  },
  {
   "cell_type": "code",
   "execution_count": null,
   "id": "eb1be317",
   "metadata": {},
   "outputs": [],
   "source": []
  }
 ],
 "metadata": {
  "kernelspec": {
   "display_name": "Python 3 (ipykernel)",
   "language": "python",
   "name": "python3"
  },
  "language_info": {
   "codemirror_mode": {
    "name": "ipython",
    "version": 3
   },
   "file_extension": ".py",
   "mimetype": "text/x-python",
   "name": "python",
   "nbconvert_exporter": "python",
   "pygments_lexer": "ipython3",
   "version": "3.11.5"
  }
 },
 "nbformat": 4,
 "nbformat_minor": 5
}
