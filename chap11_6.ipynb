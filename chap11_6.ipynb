{
 "cells": [
  {
   "cell_type": "markdown",
   "id": "498789a9-325b-4034-8e8f-9841e33b6f7d",
   "metadata": {},
   "source": [
    "### 무지의 먹방 라이브"
   ]
  },
  {
   "cell_type": "markdown",
   "id": "5668b0ad-2fc2-4b08-b001-1739fa89c169",
   "metadata": {},
   "source": [
    "+ 회전판에 먹어야 할 N개의 음식이 있음\n",
    "+ 각 음식에는 1부터 N까지 번호가 붙어있고, 각 음식을 섭취하는데 일정 시간이 소요됨\n",
    "1. 1번 음식부터 먹기 시작하며, 회전판은 번호가 증가하는 순서대로 음식을 앞으로 가져다 놓음\n",
    "2. 마지막 번호의 음식을 섭취한 후에는 회전판에 의해 다시 1번 음식이 앞으로 옴\n",
    "3. 음식 하나를 1초동안 섭취한 후 남은 음식은 그대로 두고, 다음 음식을 섭취함(가장 가까운 번호의 음식)\n",
    "4. 회전판이 다음 음식을 앞으로 가져오는 데 걸리는 시간은 없다고 가정\n",
    "\n",
    "+ 먹방을 시작한 후 K초 후에 네트워크 장애로 인해 방송이 잠시 중단됨\n",
    "+ 네트워크 정상화 후 다시 방송을 이어갈 때, 몇 번 음식부터 섭취해야 하는지를 알고자 함\n",
    "\n",
    "+ 각 음식을 모두 먹는 데 필요한 시간이 담겨 있는 배열 food_times\n",
    "+ 네트워크 장애가 발생한 시간 K초가 매개변수로 주어질 때 몇 번 음식부터 다시 섭취하면 되는지 return 하도록 함수 완성하기\n",
    "\n",
    "**제한 사항**   \n",
    "+ food_times는 각 음식을 모두 먹는 데 필요한 시간이 음식의 번호 순서대로 들어있는 배열\n",
    "+ k는 방송이 중단된 시간을 나타냄\n",
    "+ 만약 더 섭취해야 할 음식이 없다면 -1을 반환하기\n",
    "\n",
    "**정확성 테스트 제한 사항**\n",
    "+ food_times의 길이는 1 이상 2,000 이하\n",
    "+ food_times의 원소는 1 이상 1,000 이하의 자연수\n",
    "+ k는 1 이상 2,000,000 이하의 자연수\n",
    "\n",
    "**효율성 테스트 제한 사항**  \n",
    "+ food_times의 길이는 1 이상 200,000 이하\n",
    "+ food_times의 원소는 1 이상 100,000,000 이하의 자연수\n",
    "+ k는 1 이상 2x10^13 이하의 자연수\n",
    "\n",
    "**입출력 예시**          \n",
    "food_times : [3,1,2]  \n",
    "k : 5  \n",
    "result : 1  \n",
    "\n",
    "**입출력 예시에 대한 설명**   \n",
    "0 ~ 1초 동안에 1번 음식을 섭취한다. 남은 시간은 [2,1,2]      \n",
    "1 ~ 2초 동안 2번 음식을 섭취한다. 남은 시간은 [2,0,2]    \n",
    "2 ~ 3초 동안 3번 음식을 섭취한다. 남은 시간은 [2,0,1]    \n",
    "3 ~ 4초 동안 1번 음식을 섭취한다. 남은 시간은 [1,0,1]  \n",
    "4 ~ 5초 동안 (2번 음식은 다 먹었으므로) 3번 음식을 섭취한다. 남은 시간은 [1,0,0]  \n",
    "5초에서 네트워크 장애 발생 -> 1번 음식을 섭취해야 할 때 중단되었으므로, 장애 복구 후 1번부터 다시 먹으면 됨  "
   ]
  },
  {
   "cell_type": "code",
   "execution_count": 9,
   "id": "df68f1d6-dd7d-451a-8784-9d5be9e959f8",
   "metadata": {},
   "outputs": [],
   "source": [
    "def food(food_times, k):\n",
    "    idx = 0\n",
    "    for i in range(k):\n",
    "        food_times[idx] -= 1\n",
    "        idx += 1\n",
    "        \n",
    "        if idx == len(food_times):\n",
    "            idx = 0\n",
    "            \n",
    "        while food_times[idx] == 0:\n",
    "            idx += 1\n",
    "            if idx == len(food_times):\n",
    "                idx = 0\n",
    "        \n",
    "    count = 0\n",
    "    for j in range(len(food_times)):\n",
    "        count += food_times[j]\n",
    "    if count == 0:\n",
    "        return -1\n",
    "    else:\n",
    "        return idx+1\n",
    "\n"
   ]
  },
  {
   "cell_type": "code",
   "execution_count": 10,
   "id": "6a778a2b-1971-4a12-a92d-7657e77cef55",
   "metadata": {},
   "outputs": [
    {
     "data": {
      "text/plain": [
       "1"
      ]
     },
     "execution_count": 10,
     "metadata": {},
     "output_type": "execute_result"
    }
   ],
   "source": [
    "food([3,1,2],5)"
   ]
  },
  {
   "cell_type": "code",
   "execution_count": null,
   "id": "f3555bef-1402-4977-9a4b-7c818d31527e",
   "metadata": {},
   "outputs": [],
   "source": [
    "# 정확성 테스트 16 19 20 23번 시간초과됨\n",
    "# 효율성 테스트는 물론 빵점^^.."
   ]
  }
 ],
 "metadata": {
  "kernelspec": {
   "display_name": "Python 3 (ipykernel)",
   "language": "python",
   "name": "python3"
  },
  "language_info": {
   "codemirror_mode": {
    "name": "ipython",
    "version": 3
   },
   "file_extension": ".py",
   "mimetype": "text/x-python",
   "name": "python",
   "nbconvert_exporter": "python",
   "pygments_lexer": "ipython3",
   "version": "3.9.18"
  }
 },
 "nbformat": 4,
 "nbformat_minor": 5
}
