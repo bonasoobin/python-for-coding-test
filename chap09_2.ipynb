{
 "cells": [
  {
   "cell_type": "markdown",
   "id": "29bea964",
   "metadata": {},
   "source": [
    "### 전보"
   ]
  },
  {
   "cell_type": "markdown",
   "id": "88003904",
   "metadata": {},
   "source": [
    "+ 어떤 나라에는 N개의 도시가 있음\n",
    "+ 각 도시는 보내고자 하는 메시지가 있는 경우, 다른 도시로 전보를 보내서 다른 도시로 해당 메시지 전송 가능\n",
    "+ 하지만 X라는 도시에서 Y라는 도시로 전보를 보내고자 한다면, 도시 X에서 Y로 향하는 통로가 설치되어 있어야 함\n",
    "+ 예를 들어 X에서 Y로 향하는 통로는 있지만, Y에서 X로 향하는 통로가 없다면 Y->X는 불가능\n",
    "+ 또한 통로를 거쳐 메시지를 보낼 때는 일정 시간이 소요됨"
   ]
  },
  {
   "cell_type": "markdown",
   "id": "6ace30e2",
   "metadata": {},
   "source": [
    "**예시**  \n",
    "C라는 도시에서 위급 상황이 발생해서 최대한 많은 도시로 메시지를 보내고자 함  \n",
    "메시지는 도시 C에서 출발하여 각 도시 사이에 설치된 통로를 거쳐, 최대한 많이 퍼져나갈 것  \n",
    "각 도시의 번호와 통로가 설치되어 있는 정보가 주여졌을 때,  \n",
    "도시 C에서 보낸 메시지를 받게 되는 도시의 개수는 총 몇 개이며 도시들이 모두 메시지를 받는 데까지 걸리는 시간은 얼마인지 계산하는 프로그램 작성하기\n",
    "\n",
    "**입력 조건**  \n",
    "첫째 줄에 도시의 개수 N, 통로의 개수 M, 메시지를 보내고자 하는 도시 C가 주어짐  \n",
    "(1 <= N <= 30,000, 1 <= M <= 200,000, 1 <= C <= N)  \n",
    "둘째 줄부터 M+1번째 줄에 걸쳐서 통로에 대한 정보 X, Y, Z가 주어짐  \n",
    "이는 특정 도시 X에서 다른 특정 도시 Y로 이어지는 통로가 있으며, 메시지가 전달되는 시간이 Z라는 의미  \n",
    "(1 <= X, Y <= N, 1 <= Z <= 1,000)  \n",
    "\n",
    "**출력 조건**  \n",
    "첫째 줄에 도시 C에서 보낸 메시지를 받는 도시의 총 개수와 총 걸리는 시간을 공백으로 구분하여 출력하기  \n",
    "\n",
    "**입력 예시**  \n",
    "3 2 1  \n",
    "1 2 4  \n",
    "1 3 2  \n",
    "\n",
    "**출력 예시**  \n",
    "2 4  "
   ]
  },
  {
   "cell_type": "code",
   "execution_count": 3,
   "id": "6af8d983",
   "metadata": {},
   "outputs": [
    {
     "name": "stdout",
     "output_type": "stream",
     "text": [
      "3 2 1\n",
      "1 2 4\n",
      "1 3 2\n"
     ]
    }
   ],
   "source": [
    "n, m, c = map(int, input().split())\n",
    "\n",
    "ex = []\n",
    "\n",
    "for i in range(m):\n",
    "    x, y, z = map(int, input().split())\n",
    "    ex.append([x, y, z])"
   ]
  },
  {
   "cell_type": "code",
   "execution_count": 4,
   "id": "daaaa6a0",
   "metadata": {},
   "outputs": [
    {
     "data": {
      "text/plain": [
       "[[1, 2, 4], [1, 3, 2]]"
      ]
     },
     "execution_count": 4,
     "metadata": {},
     "output_type": "execute_result"
    }
   ],
   "source": [
    "ex"
   ]
  },
  {
   "cell_type": "code",
   "execution_count": 18,
   "id": "716a6f32",
   "metadata": {},
   "outputs": [],
   "source": [
    "receive = []\n",
    "time_ing = []\n",
    "time = 0\n",
    "for i in range(len(ex)):\n",
    "    if ex[i][0] == c:\n",
    "        receive.append(ex[i][1])\n",
    "        time_ing.append(ex[i][2])\n",
    "time += max(time_ing)"
   ]
  },
  {
   "cell_type": "code",
   "execution_count": 19,
   "id": "0d6420b5",
   "metadata": {},
   "outputs": [
    {
     "name": "stdout",
     "output_type": "stream",
     "text": [
      "2 4\n"
     ]
    }
   ],
   "source": [
    "print(len(receive), time)"
   ]
  }
 ],
 "metadata": {
  "kernelspec": {
   "display_name": "Python 3 (ipykernel)",
   "language": "python",
   "name": "python3"
  },
  "language_info": {
   "codemirror_mode": {
    "name": "ipython",
    "version": 3
   },
   "file_extension": ".py",
   "mimetype": "text/x-python",
   "name": "python",
   "nbconvert_exporter": "python",
   "pygments_lexer": "ipython3",
   "version": "3.11.5"
  }
 },
 "nbformat": 4,
 "nbformat_minor": 5
}
