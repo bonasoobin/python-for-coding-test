{
 "cells": [
  {
   "cell_type": "code",
   "execution_count": 45,
   "id": "df23d95e-788e-4bed-ab2e-d5f19ad0a53a",
   "metadata": {},
   "outputs": [
    {
     "name": "stdout",
     "output_type": "stream",
     "text": [
      "[['??odo', '??ont', '??ost', '??ozen', '??ame', '????o'], ['?????', '????t', '????t', '????en', '????e', '????o'], ['???d?', '???nt', '???st', '???zen', '???me', '????o'], ['???d?', '???nt', '???st', '???zen', '???me', '????o'], ['?rodo', '?ront', '?rost', '?rozen', '?rame', '?a?ao']]\n"
     ]
    }
   ],
   "source": [
    "words = [\"frodo\", \"front\", \"frost\", \"frozen\", \"frame\", \"kakao\"]\n",
    "queries = [\"fro??\", \"????o\", \"fr???\", \"fro???\", \"pro?\"]\n",
    "\n",
    "words1 = words.copy()\n",
    "question = [[i for i, char in enumerate(query) if char == '?'] for query in queries]\n",
    "#print(question) # [[3, 4], [0, 1, 2, 3], [2, 3, 4], [3, 4, 5], [3]]\n",
    "\n",
    "result = []\n",
    "for i in range(len(question)):\n",
    "    words1 = words.copy()\n",
    "    for j in range(len(words1)):\n",
    "        for k in range(len(question[i])):\n",
    "            words1[j] = words1[j].replace(words1[j][k], '?')\n",
    "    result.append(words1)\n",
    "print(result)"
   ]
  },
  {
   "cell_type": "code",
   "execution_count": 56,
   "id": "0b22a8f2-50f8-4a65-891e-219225f3f7d6",
   "metadata": {},
   "outputs": [
    {
     "name": "stdout",
     "output_type": "stream",
     "text": [
      "[['fro??', 'fro??', 'fro??', 'fro??n', 'fra??', 'kak??'], ['????o', '????t', '????t', '????en', '????e', '????o'], ['fr???', 'fr???', 'fr???', 'fr???n', 'fr???', 'ka???'], ['fro???', 'fro???', 'fro???', 'fro???', 'fra???', 'kak???'], ['fro?o', 'fro?t', 'fro?t', 'fro?en', 'fra?e', 'kak?o']]\n",
      "[3, 2, 4, 4, 0]\n"
     ]
    }
   ],
   "source": [
    "words = [\"frodo\", \"front\", \"frost\", \"frozen\", \"frame\", \"kakao\"]\n",
    "queries = [\"fro??\", \"????o\", \"fr???\", \"fro???\", \"pro?\"]\n",
    "\n",
    "words1 = words.copy()\n",
    "question = [[i for i, char in enumerate(query) if char == '?'] for query in queries]\n",
    "\n",
    "result = []\n",
    "for i in range(len(question)):\n",
    "    words1 = words.copy()\n",
    "    for j in range(len(words1)):\n",
    "        for k in range(len(question[i])):\n",
    "            #if j >\n",
    "            words1[j] = words1[j][:question[i][k]] + '?' + words1[j][question[i][k]+1:]\n",
    "    result.append(words1)\n",
    "print(result)\n",
    "\n",
    "answer = []\n",
    "for i in range(len(queries)):\n",
    "    count = 0\n",
    "    for j in range(len(result)):\n",
    "        for k in range(len(result[j])):\n",
    "            if len(queries[i]) == len(result[j][k]):\n",
    "                if queries[i] == result[j][k]:\n",
    "                    count += 1\n",
    "    answer.append(count)\n",
    "print(answer)"
   ]
  }
 ],
 "metadata": {
  "kernelspec": {
   "display_name": "Python 3 (ipykernel)",
   "language": "python",
   "name": "python3"
  },
  "language_info": {
   "codemirror_mode": {
    "name": "ipython",
    "version": 3
   },
   "file_extension": ".py",
   "mimetype": "text/x-python",
   "name": "python",
   "nbconvert_exporter": "python",
   "pygments_lexer": "ipython3",
   "version": "3.9.18"
  }
 },
 "nbformat": 4,
 "nbformat_minor": 5
}
