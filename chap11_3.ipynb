{
 "cells": [
  {
   "cell_type": "markdown",
   "id": "a6474501-70d0-4783-96fd-74802b875ecb",
   "metadata": {},
   "source": [
    "### 문자열 뒤집기"
   ]
  },
  {
   "cell_type": "markdown",
   "id": "8315adc3-e8d7-4ace-9a67-6bc9049e6cee",
   "metadata": {},
   "source": [
    "+ 0과 1로만 이루어진 문자열 S 가지고 있음\n",
    "+ 이 문자열 S에 있는 모든 숫자를 전부 같게 만들려고 함\n",
    "+ S에서 연속된 하나 이상의 숫자를 잡고 모두 뒤집는 것을 할 수 있음(0은 1로, 1은 0으로)\n",
    "\n",
    "**예시**   \n",
    "S = 0001100일 때,\n",
    "1. 전체를 뒤집으면 1110011이 됨\n",
    "2. 4번째 문자부터 5번째 문자까지 뒤집으면 1111111이 되어서 두 번만에 모두 같은 숫자로 만들 수 있음\n",
    "3. 하지만, 처음부터 4번째 문자부터 5번째 문자까지 뒤집으면 한번에 0000000이 되어서 1번만에 모두 같은 숫자로 만들 수 있음\n",
    "\n",
    "+ 문자열 S가 주어졌을 때, 해야하는 행동의 최소 횟수 구하기\n",
    "\n",
    "**입력 조건**   \n",
    "첫째 줄에 0과 1로만 이루어진 문자열 S가 주어짐(len(S) <= 1000000)\n",
    "\n",
    "**출력 조건**     \n",
    "첫째 줄에 해야 하는 행동의 최소 횟수 출력\n",
    " \n",
    "**입출력 예시**     \n",
    "0001100 / 1\n"
   ]
  },
  {
   "cell_type": "code",
   "execution_count": 23,
   "id": "c7204898-447a-40b3-9aa1-0fb6dcdd7d08",
   "metadata": {},
   "outputs": [
    {
     "name": "stdin",
     "output_type": "stream",
     "text": [
      " 0001100\n"
     ]
    },
    {
     "name": "stdout",
     "output_type": "stream",
     "text": [
      "1\n",
      "실행 시간: 0.0010020732879638672 초\n"
     ]
    }
   ],
   "source": [
    "# 문자열 입력받아서 한자리씩 쪼개기\n",
    "s = list(input())\n",
    "\n",
    "import time \n",
    "start_time = time.time()  # 시작 시간 \n",
    "\n",
    "count = 0\n",
    "zzero = []\n",
    "oone = []\n",
    "for i in range(len(s)):    \n",
    "    if s[i] == '0':\n",
    "        zzero.append(i)\n",
    "    else:\n",
    "        oone.append(i)\n",
    "\n",
    "if len(zzero) >= len(oone):                  # 0문자열 길이가 1문자열 길이보다 크거나같다면\n",
    "    for j in range(len(oone)):\n",
    "        if (j+1 < len(oone)):                # 범위 오류 안나게 방지\n",
    "            if len(set(s)) == 1:             # 중복제거한 개수가 1개면 break\n",
    "                break\n",
    "            elif (oone[j+1] - oone[j]) == 1: # 다음인덱스랑 지금인덱스 차이가 1이면 \n",
    "                s[oone[j]] = '0'             # 지금 인덱스 0으로 바꿔주고\n",
    "                s[oone[j+1]] = '0'           # 다음 인덱스도 0으로 바꿔주고\n",
    "                count += 1                   # count +=1\n",
    "            else:\n",
    "                s[oone[j]] = '0'             # 차이가 1이 아니면 지금 인덱스만 0으로 바꿔주고 count+=1\n",
    "                count += 1\n",
    "        else:                                # 범위 벗어나면 밑에 수행(위와같음)\n",
    "            if len(set(s)) == 1:\n",
    "                break\n",
    "            else:\n",
    "                s[oone[j]] = '0'\n",
    "                count += 1\n",
    "else :                                       # 1이 0 개수보다 많다면\n",
    "    for j in range(len(zzero)):\n",
    "        if (j+1 < len(zzero)):\n",
    "            if len(set(s)) == 1:\n",
    "                break\n",
    "            elif (zzero[j+1] - zzero[j]) == 1:\n",
    "                s[zzero[j]] = '1'\n",
    "                s[zzero[j+1]] = '1'\n",
    "                count += 1\n",
    "            else:\n",
    "                s[zzero[j]] = '1'\n",
    "                count += 1\n",
    "        else:\n",
    "            if len(set(s)) == 1:\n",
    "                break\n",
    "            else:\n",
    "                s[oone[j]] = '1'\n",
    "                count += 1\n",
    "print(count)\n",
    "\n",
    "\n",
    "end_time = time.time()  # 종료 시간 \n",
    "# 실행 시간 출력\n",
    "running_time = end_time - start_time\n",
    "print(f\"실행 시간: {running_time} 초\")"
   ]
  },
  {
   "cell_type": "code",
   "execution_count": 24,
   "id": "c306369e-1c92-492d-8e3d-ebef2f17ca3c",
   "metadata": {},
   "outputs": [
    {
     "name": "stdin",
     "output_type": "stream",
     "text": [
      " 101101\n"
     ]
    },
    {
     "name": "stdout",
     "output_type": "stream",
     "text": [
      "2\n",
      "실행 시간: 0.002004384994506836 초\n"
     ]
    }
   ],
   "source": [
    "# 문자열 입력받아서 한자리씩 쪼개기\n",
    "s = list(input())\n",
    "\n",
    "import time \n",
    "start_time = time.time()  # 시작 시간 \n",
    "\n",
    "count = 0\n",
    "zzero = []\n",
    "oone = []\n",
    "for i in range(len(s)):    \n",
    "    if s[i] == '0':\n",
    "        zzero.append(i)\n",
    "    else:\n",
    "        oone.append(i)\n",
    "\n",
    "if len(zzero) >= len(oone):\n",
    "    for j in range(len(oone)):\n",
    "        if (j+1 < len(oone)):\n",
    "            if len(set(s)) == 1:\n",
    "                break\n",
    "            elif (oone[j+1] - oone[j]) == 1:\n",
    "                s[oone[j]] = '0'\n",
    "                s[oone[j+1]] = '0'\n",
    "                count += 1\n",
    "            else:\n",
    "                s[oone[j]] = '0'\n",
    "                count += 1\n",
    "        else:\n",
    "            if len(set(s)) == 1:\n",
    "                break\n",
    "            else:\n",
    "                s[oone[j]] = '0'\n",
    "                count += 1\n",
    "else :\n",
    "    for j in range(len(zzero)):\n",
    "        if (j+1 < len(zzero)):\n",
    "            if len(set(s)) == 1:\n",
    "                break\n",
    "            elif (zzero[j+1] - zzero[j]) == 1:\n",
    "                s[zzero[j]] = '1'\n",
    "                s[zzero[j+1]] = '1'\n",
    "                count += 1\n",
    "            else:\n",
    "                s[zzero[j]] = '1'\n",
    "                count += 1\n",
    "        else:\n",
    "            if len(set(s)) == 1:\n",
    "                break\n",
    "            else:\n",
    "                s[oone[j]] = '1'\n",
    "                count += 1\n",
    "print(count)\n",
    "\n",
    "\n",
    "end_time = time.time()  # 종료 시간 \n",
    "# 실행 시간 출력\n",
    "running_time = end_time - start_time\n",
    "print(f\"실행 시간: {running_time} 초\")"
   ]
  }
 ],
 "metadata": {
  "kernelspec": {
   "display_name": "Python 3 (ipykernel)",
   "language": "python",
   "name": "python3"
  },
  "language_info": {
   "codemirror_mode": {
    "name": "ipython",
    "version": 3
   },
   "file_extension": ".py",
   "mimetype": "text/x-python",
   "name": "python",
   "nbconvert_exporter": "python",
   "pygments_lexer": "ipython3",
   "version": "3.9.18"
  }
 },
 "nbformat": 4,
 "nbformat_minor": 5
}
