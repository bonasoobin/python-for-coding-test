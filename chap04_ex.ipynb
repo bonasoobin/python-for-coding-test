{
 "cells": [
  {
   "cell_type": "markdown",
   "id": "2029feb7-5cca-49a1-a01b-a659d9d61dc2",
   "metadata": {},
   "source": [
    "### 예제 4-1 상하좌우"
   ]
  },
  {
   "cell_type": "code",
   "execution_count": 1,
   "id": "0cca0808-e46d-4072-a8d7-cf54cb6974d7",
   "metadata": {},
   "outputs": [],
   "source": [
    "# 가장 왼쪽 위 좌표 (1,1) : 시작 좌표\n",
    "# 가장 오른쪽 아래 좌표 (N,N)\n",
    "\n",
    "# L : 왼쪽으로 한 칸 이동\n",
    "# R : 오른쪽으로 한 칸 이동\n",
    "# U : 위로 한 칸 이동\n",
    "# D : 아래로 한 칸 이동\n",
    "\n",
    "# 입력 조건\n",
    "# 첫째 줄에 공간의 크기를 나타내는 N이 주어짐 (1 <= N <= 100)\n",
    "# 둘째 줄에 여행가 A가 이동할 계획서 내용이 주어짐 (1 <= 이동 횟수 <= 100)\n",
    "\n",
    "# 출력 조건\n",
    "# 첫째 줄에 여행가 A가 최종적으로 도착할 지점의 좌표 (X,Y)를 공백으로 구분하여 출력"
   ]
  },
  {
   "cell_type": "code",
   "execution_count": 2,
   "id": "1f9d9e3a-64c9-48f4-93cb-e235de6ec621",
   "metadata": {},
   "outputs": [
    {
     "name": "stdin",
     "output_type": "stream",
     "text": [
      " 5\n"
     ]
    }
   ],
   "source": [
    "n = int(input())"
   ]
  },
  {
   "cell_type": "code",
   "execution_count": 4,
   "id": "f7386175-04cc-4cb4-bb96-8fbcb520dec9",
   "metadata": {},
   "outputs": [
    {
     "name": "stdin",
     "output_type": "stream",
     "text": [
      " R R R U D D\n"
     ]
    }
   ],
   "source": [
    "data = input().split()"
   ]
  },
  {
   "cell_type": "code",
   "execution_count": 14,
   "id": "1bec233e-34e6-4b0a-8ba8-f7eb3367c06f",
   "metadata": {},
   "outputs": [
    {
     "name": "stdout",
     "output_type": "stream",
     "text": [
      "3 4\n"
     ]
    }
   ],
   "source": [
    "x = 1; y = 1\n",
    "\n",
    "for i in range(len(data)):\n",
    "    if data[i] == 'R':\n",
    "        if y<5:\n",
    "            y += 1\n",
    "    elif data[i] == 'L':\n",
    "        if y>1:\n",
    "            y -= 1\n",
    "    elif data[i] == 'U':\n",
    "        if x>1:\n",
    "            x -= 1\n",
    "    elif data[i] == 'D':\n",
    "        if x<5:\n",
    "            x += 1\n",
    "print(x,y)"
   ]
  },
  {
   "cell_type": "code",
   "execution_count": null,
   "id": "f4bbafb6-0254-4653-a211-aeba5c1c9497",
   "metadata": {},
   "outputs": [],
   "source": []
  },
  {
   "cell_type": "markdown",
   "id": "bee7c50d-eb8c-4076-be03-732cc7b37226",
   "metadata": {},
   "source": [
    "### 예제 4-2 시각"
   ]
  },
  {
   "cell_type": "code",
   "execution_count": 16,
   "id": "c3698509-2c24-465a-976a-330a96446857",
   "metadata": {},
   "outputs": [],
   "source": [
    "# 정수 N이 입력되면 00시 00분 00초부터 N시 59분 59초까지의 모든 시각 중에서 3이 하나라도 포함되는 모든 경우의 수를 구하는 프로그램 작성하기\n",
    "\n",
    "# 입력 조건\n",
    "# 첫째 줄에 정수 N이 입력된다. (0 <= N <= 23)\n",
    "\n",
    "# 출력 조건\n",
    "# 00시 00분 00초부터 N시 59분 59초까지의 모든 시각 중에서 3이 하나라도 포함되는 모든 경우의 수 출력하기\n",
    "\n",
    "# 입력 예시 5\n",
    "# 출력 예시 11475"
   ]
  },
  {
   "cell_type": "code",
   "execution_count": 17,
   "id": "cc0ab30e-28f4-4785-ae93-936ddf2ee987",
   "metadata": {},
   "outputs": [
    {
     "name": "stdin",
     "output_type": "stream",
     "text": [
      " 5\n"
     ]
    }
   ],
   "source": [
    "n = int(input())"
   ]
  },
  {
   "cell_type": "code",
   "execution_count": 21,
   "id": "9f8662a4-cda5-470b-a04c-19a5b44566c1",
   "metadata": {},
   "outputs": [
    {
     "name": "stdout",
     "output_type": "stream",
     "text": [
      "11475\n"
     ]
    }
   ],
   "source": [
    "count = 0\n",
    "\n",
    "for i in range(n+1):\n",
    "    for j in range(60):\n",
    "        for k in range(60):\n",
    "            if '3' in str(i) + str(j) + str(k):\n",
    "                count += 1\n",
    "print(count)"
   ]
  }
 ],
 "metadata": {
  "kernelspec": {
   "display_name": "Python 3 (ipykernel)",
   "language": "python",
   "name": "python3"
  },
  "language_info": {
   "codemirror_mode": {
    "name": "ipython",
    "version": 3
   },
   "file_extension": ".py",
   "mimetype": "text/x-python",
   "name": "python",
   "nbconvert_exporter": "python",
   "pygments_lexer": "ipython3",
   "version": "3.9.18"
  }
 },
 "nbformat": 4,
 "nbformat_minor": 5
}
