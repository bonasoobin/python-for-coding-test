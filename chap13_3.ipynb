{
 "cells": [
  {
   "cell_type": "markdown",
   "id": "2e325925",
   "metadata": {},
   "source": [
    "### 경쟁적 전염"
   ]
  },
  {
   "cell_type": "markdown",
   "id": "2b51556c",
   "metadata": {},
   "source": [
    "[백준 링크](https://www.acmicpc.net/problem/18405) []"
   ]
  },
  {
   "cell_type": "markdown",
   "id": "8ffdcbed",
   "metadata": {},
   "source": [
    "+ N x N 크기의 시험관\n",
    "+ 시험관은 1x1 크기의 칸으로 나누어지며, 특정한 위치에는 바이러스 존재 가능\n",
    "+ 바이러스 종류는 1~K번으로 K가지가 있으며 모든 바이러스는 이 중 하나에 속함\n",
    "<br>\n",
    "\n",
    "+ 시험관에 존재하는 모든 바이러스는 1초마다 상하좌우의 방향으로 증식하는데, 매초 번호가 낮은 종류의 바이러스부터 증식\n",
    "+ 또한 증식 과정에서 특정한 칸에 이미 어떠한 바이러스가 있다면, 그곳에는 다른 바이러스가 들어갈 수 없음\n",
    "<br>\n",
    "\n",
    "+ 시험관의 크기와 바이러스의 위치 정보가 주어졌을 때, S초가 지난 후에 (X,Y)에 존재하는 바이러스의 종류를 출력하는 프로그램 작성하기\n",
    "<br>\n",
    "\n",
    "+ 만약 S초가 지난 후에 해당 위치에 바이러스가 존재하지 않는다면, 0을 출력\n",
    "+ 이 때, X와 Y는 각각 행과 열의 위치를 의미하며, 시험관의 가장 왼쪽 위에 해당하는 곳은 (1,1)에 해당함"
   ]
  },
  {
   "cell_type": "markdown",
   "id": "1f4790ee",
   "metadata": {},
   "source": [
    "**예시**  \n",
    "+ 3x3 크기의 시험관에 서로 다른 1,2,3번 바이러스가 각각 (1,1), (1,3), (3,1)에 위치해 있을 때   \n",
    "  2초가 지난 뒤 (3,2)에 존재하는 바이러스의 종류를 계산  \n",
    "  \n",
    "  1 2       1 1 2        1 1 2  \n",
    "        =>  1 2    =>  1 1 2  \n",
    "  3       3 3         3 3 2  \n",
    "\n",
    "+ 결과적으로 2초가 지난 뒤에 (3,2)에 존재하는 바이러스의 종류는 3번 바이러스이므로 3 출력"
   ]
  },
  {
   "cell_type": "markdown",
   "id": "fcf85d87",
   "metadata": {},
   "source": [
    "**입력 조건**  \n",
    "+ 첫째 줄에 자연수 N, K가 주어지며, 각 자연수는 공백으로 구분함(1 <= N <= 200, 1 <= K <= 1,000)\n",
    "+ 둘째 줄부터 N개의 줄에 걸쳐서 시험관의 정보가 주어짐  \n",
    "  각 행은 N개의 원소로 구성되며, 해당 위치에 존재하는 바이러스의 번호가 주어지며 공백으로 구분  \n",
    "  단, 해당 위치에 바이러스가 존재하지 않는 경우 0이 주어짐  \n",
    "  또한 모든 바이러스의 번호는 K 이하의 자연수로만 주어짐  \n",
    "+ N+2번째 줄에는 S, X, Y가 주어지며 공백으로 구분 (0 <= S <= 10,000, 1 <= X,Y <= N)\n",
    "\n",
    "**출력 조건**  \n",
    "+ S초 뒤에 (X,Y)에 존재하는 바이러스의 종류를 출력\n",
    "+ 만약 S초 뒤에 해당 위치에 바이러스가 존재하지 않는다면, 0을 출력\n",
    "\n",
    "**입력 예시1**  \n",
    "3 3  \n",
    "1 0 2  \n",
    "0 0 0  \n",
    "3 0 0  \n",
    "2 3 2  \n",
    "\n",
    "**출력 예시1**  \n",
    "3  \n",
    "\n",
    "**입력 예시2**  \n",
    "3 3  \n",
    "1 0 2  \n",
    "0 0 0  \n",
    "3 0 0  \n",
    "1 2 2  \n",
    "\n",
    "**출력 예시2**  \n",
    "0  "
   ]
  },
  {
   "cell_type": "code",
   "execution_count": 7,
   "id": "ce4f6d48",
   "metadata": {},
   "outputs": [
    {
     "name": "stdout",
     "output_type": "stream",
     "text": [
      "3 3\n",
      "1 0 2\n",
      "0 0 0\n",
      "3 0 0\n",
      "2 3 2\n",
      "3\n"
     ]
    }
   ],
   "source": [
    "from collections import deque\n",
    "\n",
    "n, k = map(int, input().split())\n",
    "\n",
    "graph = []\n",
    "data = []\n",
    "\n",
    "for i in range(n):\n",
    "    graph.append(list(map(int, input().split())))\n",
    "    for j in range(n):\n",
    "        if graph[i][j] != 0:\n",
    "            data.append((graph[i][j], 0, i, j))\n",
    "\n",
    "data.sort()\n",
    "q = deque(data)\n",
    "\n",
    "target_s, target_x, target_y = map(int, input().split())\n",
    "\n",
    "dx = [-1, 0, 1, 0]\n",
    "dy = [0, 1, 0, -1]\n",
    "\n",
    "while q:\n",
    "    virus, s, x, y = q.popleft()\n",
    "    if s == target_s:\n",
    "        break\n",
    "    for i in range(4):\n",
    "        nx = x + dx[i]\n",
    "        ny = y + dy[i]\n",
    "        if 0 <= nx and nx < n and 0 <= ny and ny < n:\n",
    "            if graph[nx][ny] == 0:\n",
    "                graph[nx][ny] = virus\n",
    "                q.append((virus, s+1, nx, ny))\n",
    "                \n",
    "print(graph[target_x-1][target_y-1])"
   ]
  },
  {
   "cell_type": "code",
   "execution_count": 8,
   "id": "46070f78",
   "metadata": {},
   "outputs": [
    {
     "name": "stdout",
     "output_type": "stream",
     "text": [
      "3 3\n",
      "1 0 2\n",
      "0 0 0\n",
      "3 0 0\n",
      "1 2 2\n",
      "0\n"
     ]
    }
   ],
   "source": [
    "from collections import deque\n",
    "\n",
    "n, k = map(int, input().split())\n",
    "\n",
    "graph = []\n",
    "data = []\n",
    "\n",
    "for i in range(n):\n",
    "    graph.append(list(map(int, input().split())))\n",
    "    for j in range(n):\n",
    "        if graph[i][j] != 0:\n",
    "            data.append((graph[i][j], 0, i, j))\n",
    "\n",
    "data.sort()\n",
    "q = deque(data)\n",
    "\n",
    "target_s, target_x, target_y = map(int, input().split())\n",
    "\n",
    "dx = [-1, 0, 1, 0]\n",
    "dy = [0, 1, 0, -1]\n",
    "\n",
    "while q:\n",
    "    virus, s, x, y = q.popleft()\n",
    "    if s == target_s:\n",
    "        break\n",
    "    for i in range(4):\n",
    "        nx = x + dx[i]\n",
    "        ny = y + dy[i]\n",
    "        if 0 <= nx and nx < n and 0 <= ny and ny < n:\n",
    "            if graph[nx][ny] == 0:\n",
    "                graph[nx][ny] = virus\n",
    "                q.append((virus, s+1, nx, ny))\n",
    "                \n",
    "print(graph[target_x-1][target_y-1])"
   ]
  },
  {
   "cell_type": "code",
   "execution_count": null,
   "id": "907e7aa2",
   "metadata": {},
   "outputs": [],
   "source": [
    "from collections import deque\n",
    "\n",
    "n, k = map(int, input().split()) \n",
    "\n",
    "graph = []  # 맵 정보\n",
    "data = []   # 바이러스 정보\n",
    "\n",
    "# 맵 정보를 입력받고 초기 바이러스의 위치를 저장\n",
    "for i in range(n):\n",
    "    graph.append(list(map(int, input().split())))\n",
    "    for j in range(n):\n",
    "        if graph[i][j] != 0:  # 만약 바이러스가 있는 위치라면\n",
    "            data.append((graph[i][j], 0, i, j))  # 바이러스의 종류, 시간, x좌표, y좌표 저장\n",
    "\n",
    "data.sort()  # 초기 바이러스 정보를 시간순으로 정렬\n",
    "q = deque(data)  # 바이러스 정보를 큐에 저장\n",
    "\n",
    "target_s, target_x, target_y = map(int, input().split())  # 목표 시간과 위치\n",
    "\n",
    "dx = [-1, 0, 1, 0] \n",
    "dy = [0, 1, 0, -1]\n",
    "\n",
    "while q:\n",
    "    virus, s, x, y = q.popleft()  # 큐에서 바이러스 정보를 꺼내서\n",
    "    if s == target_s:  # 목표 시간에 도달했으면 종료\n",
    "        break\n",
    "    for i in range(4):  # 상하좌우로 이동하면서 바이러스를 퍼뜨림\n",
    "        nx = x + dx[i]\n",
    "        ny = y + dy[i]\n",
    "        if 0 <= nx and nx < n and 0 <= ny and ny < n:  # 맵의 범위 내에서\n",
    "            if graph[nx][ny] == 0:  # 빈 공간이면\n",
    "                graph[nx][ny] = virus  # 바이러스를 퍼뜨림\n",
    "                q.append((virus, s+1, nx, ny))  # 다음 시간과 위치를 큐에 추가\n",
    "                \n",
    "print(graph[target_x-1][target_y-1])  # 목표 위치의 바이러스 종류를 출력"
   ]
  },
  {
   "cell_type": "code",
   "execution_count": 1,
   "id": "9de3ad11",
   "metadata": {},
   "outputs": [
    {
     "name": "stdout",
     "output_type": "stream",
     "text": [
      "3 3\n",
      "1 0 2\n",
      "0 0 0\n",
      "3 0 0\n"
     ]
    }
   ],
   "source": [
    "from collections import deque\n",
    "\n",
    "n, k = map(int, input().split()) \n",
    "\n",
    "graph = []  # 맵 정보\n",
    "data = []   # 바이러스 정보\n",
    "\n",
    "# 맵 정보를 입력받고 초기 바이러스의 위치를 저장\n",
    "for i in range(n):\n",
    "    graph.append(list(map(int, input().split())))\n",
    "    for j in range(n):\n",
    "        if graph[i][j] != 0:  # 만약 바이러스가 있는 위치라면\n",
    "            data.append((graph[i][j], 0, i, j))  # 바이러스의 종류, 시간, x좌표, y좌표 저장"
   ]
  },
  {
   "cell_type": "code",
   "execution_count": 2,
   "id": "d51f9ba6",
   "metadata": {},
   "outputs": [
    {
     "data": {
      "text/plain": [
       "[[1, 0, 2], [0, 0, 0], [3, 0, 0]]"
      ]
     },
     "execution_count": 2,
     "metadata": {},
     "output_type": "execute_result"
    }
   ],
   "source": [
    "graph"
   ]
  },
  {
   "cell_type": "code",
   "execution_count": 3,
   "id": "a756c880",
   "metadata": {},
   "outputs": [
    {
     "data": {
      "text/plain": [
       "[(1, 0, 0, 0), (2, 0, 0, 2), (3, 0, 2, 0)]"
      ]
     },
     "execution_count": 3,
     "metadata": {},
     "output_type": "execute_result"
    }
   ],
   "source": [
    "data # 0초에 1번 바이러스 (0,0) / 2번 바이러스 (0,2) / 3번 바이러스 (2,0)"
   ]
  },
  {
   "cell_type": "code",
   "execution_count": 4,
   "id": "fb0873cb",
   "metadata": {},
   "outputs": [
    {
     "data": {
      "text/plain": [
       "[(1, 0, 0, 0), (2, 0, 0, 2), (3, 0, 2, 0)]"
      ]
     },
     "execution_count": 4,
     "metadata": {},
     "output_type": "execute_result"
    }
   ],
   "source": [
    "data.sort()  # 초기 바이러스 정보를 시간순으로 정렬\n",
    "data"
   ]
  },
  {
   "cell_type": "code",
   "execution_count": 5,
   "id": "d8f6c434",
   "metadata": {},
   "outputs": [
    {
     "data": {
      "text/plain": [
       "deque([(1, 0, 0, 0), (2, 0, 0, 2), (3, 0, 2, 0)])"
      ]
     },
     "execution_count": 5,
     "metadata": {},
     "output_type": "execute_result"
    }
   ],
   "source": [
    "q = deque(data)  # 바이러스 정보를 큐에 저장\n",
    "q"
   ]
  },
  {
   "cell_type": "code",
   "execution_count": 6,
   "id": "386ff4dc",
   "metadata": {},
   "outputs": [
    {
     "name": "stdout",
     "output_type": "stream",
     "text": [
      "2 3 2\n"
     ]
    }
   ],
   "source": [
    "target_s, target_x, target_y = map(int, input().split())  # 목표 시간과 위치\n",
    "\n",
    "dx = [-1, 0, 1, 0] \n",
    "dy = [0, 1, 0, -1]"
   ]
  },
  {
   "cell_type": "code",
   "execution_count": 7,
   "id": "8788b0aa",
   "metadata": {},
   "outputs": [],
   "source": [
    "while q:\n",
    "    virus, s, x, y = q.popleft()  # 큐에서 바이러스 정보를 꺼내서\n",
    "    if s == target_s:  # 목표 시간에 도달했으면 종료\n",
    "        break\n",
    "    for i in range(4):  # 상하좌우로 이동하면서 바이러스를 퍼뜨림\n",
    "        nx = x + dx[i]\n",
    "        ny = y + dy[i]\n",
    "        if 0 <= nx and nx < n and 0 <= ny and ny < n:  # 맵의 범위 내에서\n",
    "            if graph[nx][ny] == 0:  # 빈 공간이면\n",
    "                graph[nx][ny] = virus  # 바이러스를 퍼뜨림\n",
    "                q.append((virus, s+1, nx, ny))  # 다음 시간과 위치를 큐에 추가"
   ]
  },
  {
   "attachments": {
    "image.png": {
     "image/png": "[encoded data removed]"
    }
   },
   "cell_type": "markdown",
   "id": "f6b1636c",
   "metadata": {},
   "source": [
    "![image.png](attachment:image.png)"
   ]
  },
  {
   "cell_type": "code",
   "execution_count": null,
   "id": "fb9b7732",
   "metadata": {},
   "outputs": [],
   "source": []
  }
 ],
 "metadata": {
  "kernelspec": {
   "display_name": "Python 3 (ipykernel)",
   "language": "python",
   "name": "python3"
  },
  "language_info": {
   "codemirror_mode": {
    "name": "ipython",
    "version": 3
   },
   "file_extension": ".py",
   "mimetype": "text/x-python",
   "name": "python",
   "nbconvert_exporter": "python",
   "pygments_lexer": "ipython3",
   "version": "3.11.5"
  }
 },
 "nbformat": 4,
 "nbformat_minor": 5
}
