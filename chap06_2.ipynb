{
 "cells": [
  {
   "cell_type": "markdown",
   "id": "7982ac1b-481b-4ba0-876d-c72346acf5a0",
   "metadata": {},
   "source": [
    "### 성적이 낮은 순서로 학생 출력하기"
   ]
  },
  {
   "cell_type": "markdown",
   "id": "84b33587-022c-4d49-a487-86ea4bcda8fc",
   "metadata": {},
   "source": [
    "+ N명의 학생 정보  \n",
    "+ 학생 정보는 학생의 이름과 학생의 성적으로 구분됨  \n",
    "\n",
    "+ 각 학생의 이름과 성적 정보가 주어졌을 때 성적이 낮은 순서대로 학생의 이름을 출력하는 프로그램 작성하기\n",
    "\n",
    "**입력 조건**  \n",
    "+ 첫 번째 줄에 학생의 수 N이 입력됨 (1<=N<=100,000) \n",
    "+ 두 번째 줄부터 N+1번째 줄에는 학생의 이름을 나타내는 문자열 A와  \n",
    "  학생의 성적을 나타내는 정수 B가 공백으로 구분되어 입력됨  \n",
    "  문자열 A의 길이와 학생의 성적은 100 이하 자연수\n",
    "\n",
    "**출력 조건**\n",
    "+ 모든 학생의 이름을 성적이 낮은 순서대로 출력하기 (성적이 동일하다면 순서 자유롭게)\n",
    "\n",
    "**입력 예시**  \n",
    "2  \n",
    "홍길동 95  \n",
    "이순신 77  \n",
    "\n",
    "**출력 예시**  \n",
    "이순신 홍길동  "
   ]
  },
  {
   "cell_type": "code",
   "execution_count": 25,
   "id": "6b92698b-d5bb-44c9-9fea-d47b051e7eb5",
   "metadata": {},
   "outputs": [
    {
     "name": "stdin",
     "output_type": "stream",
     "text": [
      " 2\n",
      " 홍길동 95\n",
      " 이순신 77\n"
     ]
    },
    {
     "name": "stdout",
     "output_type": "stream",
     "text": [
      "이순신 홍길동 "
     ]
    }
   ],
   "source": [
    "n = int(input())\n",
    "a = []\n",
    "\n",
    "# n만큼 이름/성적 입력받기\n",
    "for _ in range(n):\n",
    "    b = list(input().split())\n",
    "    a.append(b)\n",
    "\n",
    "# 성적을 숫자로 변환\n",
    "for i in range(len(a)):\n",
    "    a[i][1] = int(a[i][1])\n",
    "\n",
    "# 성적만 따로 뽑아서 새 리스트에 저장\n",
    "c = []\n",
    "for i in range(len(a)):\n",
    "    c.append(a[i][1])\n",
    "# [77,95]\n",
    "\n",
    "# 성적 낮은 순으로 정렬\n",
    "c = sorted(c, reverse = False)\n",
    "\n",
    "# c의 성적과 a의 성적이 같으면 이름 출력\n",
    "for i in range(len(c)):\n",
    "    for j in range(len(a)):\n",
    "        if c[i] == a[j][1]:\n",
    "            print(a[j][0], end = ' ')"
   ]
  },
  {
   "cell_type": "code",
   "execution_count": 32,
   "id": "8349a688-a257-4469-9947-53ad603bb424",
   "metadata": {},
   "outputs": [
    {
     "name": "stdin",
     "output_type": "stream",
     "text": [
      " 3\n",
      " 홍길동 99\n",
      " 이순신 99\n",
      " 신짱구 89\n"
     ]
    },
    {
     "name": "stdout",
     "output_type": "stream",
     "text": [
      "신짱구 홍길동 이순신 "
     ]
    }
   ],
   "source": [
    "n = int(input())\n",
    "a = []\n",
    "\n",
    "# n만큼 이름/성적 입력받기\n",
    "for _ in range(n):\n",
    "    b = list(input().split())\n",
    "    a.append(b)\n",
    "\n",
    "# 성적을 숫자로 변환\n",
    "for i in range(len(a)):\n",
    "    a[i][1] = int(a[i][1])\n",
    "\n",
    "# 성적만 따로 뽑아서 새 리스트에 저장\n",
    "c = []\n",
    "for i in range(len(a)):\n",
    "    c.append(a[i][1])\n",
    "# [77,95]\n",
    "\n",
    "# 성적 낮은 순으로 정렬\n",
    "c = sorted(c, reverse = False)\n",
    "c = list(set(c)) # 성적이 같으면 같은 숫자 개수만큼 print되니까 그걸 방지하기 위해서 중복 제거\n",
    "\n",
    "# c의 성적과 a의 성적이 같으면 이름 출력\n",
    "for i in range(len(c)):\n",
    "    for j in range(len(a)):\n",
    "        if c[i] == a[j][1]:\n",
    "            print(a[j][0], end = ' ')\n"
   ]
  }
 ],
 "metadata": {
  "kernelspec": {
   "display_name": "Python 3 (ipykernel)",
   "language": "python",
   "name": "python3"
  },
  "language_info": {
   "codemirror_mode": {
    "name": "ipython",
    "version": 3
   },
   "file_extension": ".py",
   "mimetype": "text/x-python",
   "name": "python",
   "nbconvert_exporter": "python",
   "pygments_lexer": "ipython3",
   "version": "3.9.18"
  }
 },
 "nbformat": 4,
 "nbformat_minor": 5
}
