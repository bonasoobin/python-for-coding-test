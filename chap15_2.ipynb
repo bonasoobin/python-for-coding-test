{
 "cells": [
  {
   "cell_type": "markdown",
   "id": "0c8f8115-6ca1-4df1-9d26-c9c846dda7c7",
   "metadata": {},
   "source": [
    "### 고정점 찾기"
   ]
  },
  {
   "cell_type": "markdown",
   "id": "3398b6d7-e964-4f67-b99a-140de88630df",
   "metadata": {},
   "source": [
    "+ 고정점이란, 수열의 원소 중에서 그 값이 인덱스와 동일한 원소를 의미\n",
    "+ 예를 들어, a=[-15,-4,2,8,13]일때, a[2]=2 이므로, 고정점은 2가 됨\n",
    "+ 하나의 수열이 N개의 서로 다른 원소를 포함하고 있으며, 모든 원소가 오름차순으로 정렬되어 있음\n",
    "+ 이 수열에서 고정점이 있다면, 고정점을 출력하는 프로그램 작성하기\n",
    "+ 고정점은 최대 1개만 존재하며, 없다면 -1 출력하기\n",
    "+ 단, 이 문제는 시간 복잡도 O(logN)으로 알고리즘을 설계하지 않으면 시간초과 판정을 받음\n",
    "\n",
    "**입력 조건**  \n",
    "+ 첫째 줄에 N이 입력됨 (1 <= N <= 1,000,000)  \n",
    "+ 둘째 줄에 N개의 원소가 정수 형태로 공백으로 구분되어 입력됨  \n",
    "  (-10^9 <= 각 원소의 값 <= 10^9)  \n",
    "\n",
    "**출력 조건**  \n",
    "+ 고정점 출력, 없으면 -1 출력\n",
    "\n",
    "**입력 예시 1**  \n",
    "5  \n",
    "-15 -6 1 3 7  \n",
    "\n",
    "**출력 예시 1**  \n",
    "3  \n",
    "\n",
    "**입력 예시 2**  \n",
    "7  \n",
    "-15 -4 2 8 9 13 15 \n",
    "\n",
    "**출력 예시 2**  \n",
    "2\n",
    "\n",
    "**입력 예시 3**  \n",
    "7  \n",
    "-15 -4 3 8 9 13 15\n",
    "\n",
    "**출력 예시 3**  \n",
    "-1"
   ]
  },
  {
   "cell_type": "code",
   "execution_count": 1,
   "id": "7ead1135-acd6-4adc-8974-fce01223bc20",
   "metadata": {},
   "outputs": [
    {
     "name": "stdin",
     "output_type": "stream",
     "text": [
      " 5\n",
      " -15 -6 1 3 7\n"
     ]
    },
    {
     "name": "stdout",
     "output_type": "stream",
     "text": [
      "[-15, -6, 1, 3, 7]\n"
     ]
    }
   ],
   "source": [
    "n = int(input())\n",
    "suyeol = sorted(list(map(int, input().split())))\n",
    "print(suyeol)"
   ]
  },
  {
   "cell_type": "code",
   "execution_count": 8,
   "id": "0a656f80-39d5-4bcd-aab9-13bd1ac32c08",
   "metadata": {},
   "outputs": [],
   "source": [
    "def solution():\n",
    "    global mid\n",
    "    # 인덱스가 수열 길이 초과 방지 & 수열 원소가 0 미만 방지 & 인덱스가 0 미만인거 방지\n",
    "    if (mid < len(suyeol)) & (0 <= mid) & (0 <= suyeol[mid]):\n",
    "        if suyeol[mid] == mid:\n",
    "            return mid\n",
    "        elif (suyeol[mid] < mid):\n",
    "            mid += 1\n",
    "            return solution()\n",
    "        else:\n",
    "            mid -= 1\n",
    "            return solution()\n",
    "    else:\n",
    "        return -1"
   ]
  },
  {
   "cell_type": "code",
   "execution_count": 6,
   "id": "e536096b-c709-448c-9324-b23f1f81633b",
   "metadata": {},
   "outputs": [
    {
     "name": "stdin",
     "output_type": "stream",
     "text": [
      " 5\n",
      " -15 -6 1 3 7\n"
     ]
    },
    {
     "data": {
      "text/plain": [
       "3"
      ]
     },
     "execution_count": 6,
     "metadata": {},
     "output_type": "execute_result"
    }
   ],
   "source": [
    "n = int(input())\n",
    "suyeol = sorted(list(map(int, input().split())))\n",
    "mid = int(n/2)\n",
    "\n",
    "solution()"
   ]
  },
  {
   "cell_type": "code",
   "execution_count": 7,
   "id": "6e375731-66b3-48e8-8239-a84a02153f07",
   "metadata": {},
   "outputs": [
    {
     "name": "stdin",
     "output_type": "stream",
     "text": [
      " 7\n",
      " -15 -4 2 8 9 13 15\n"
     ]
    },
    {
     "data": {
      "text/plain": [
       "2"
      ]
     },
     "execution_count": 7,
     "metadata": {},
     "output_type": "execute_result"
    }
   ],
   "source": [
    "n = int(input())\n",
    "suyeol = sorted(list(map(int, input().split())))\n",
    "mid = int(n/2)\n",
    "\n",
    "solution()"
   ]
  },
  {
   "cell_type": "code",
   "execution_count": 5,
   "id": "d26de9b2-0d10-443c-b30c-7f9c565b1458",
   "metadata": {},
   "outputs": [
    {
     "name": "stdin",
     "output_type": "stream",
     "text": [
      " 7\n",
      " -15 -4 3 8 9 13 15\n"
     ]
    },
    {
     "data": {
      "text/plain": [
       "-1"
      ]
     },
     "execution_count": 5,
     "metadata": {},
     "output_type": "execute_result"
    }
   ],
   "source": [
    "n = int(input())\n",
    "suyeol = sorted(list(map(int, input().split())))\n",
    "mid = int(n/2)\n",
    "\n",
    "solution()"
   ]
  }
 ],
 "metadata": {
  "kernelspec": {
   "display_name": "Python 3 (ipykernel)",
   "language": "python",
   "name": "python3"
  },
  "language_info": {
   "codemirror_mode": {
    "name": "ipython",
    "version": 3
   },
   "file_extension": ".py",
   "mimetype": "text/x-python",
   "name": "python",
   "nbconvert_exporter": "python",
   "pygments_lexer": "ipython3",
   "version": "3.9.18"
  }
 },
 "nbformat": 4,
 "nbformat_minor": 5
}
