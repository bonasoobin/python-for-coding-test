{
 "cells": [
  {
   "cell_type": "markdown",
   "id": "906ab45d-bd46-44e5-99bd-22ffb1fcda9b",
   "metadata": {},
   "source": [
    "### 미로 탈출"
   ]
  },
  {
   "cell_type": "markdown",
   "id": "57b1d46b",
   "metadata": {},
   "source": [
    "+ NxM 크기의 직사각형 형태에 갇혀 있으며 미로에는 여러 마리의 괴물이 있어 이를 피해 탈출해야 함\n",
    "+ 동빈이의 위치 : (1,1), 미로의 출구 : (N,M)\n",
    "+ 한 번에 한 칸씩 이동 가능\n",
    "+ 괴물이 있는 부분 0, 괴물이 없는 부분 1\n",
    "+ 반드시 탈출할 수 있는 형태로 제시됨\n",
    "+ 탈출하기 위해 움직여야 하는 최소 칸의 개수 구하기\n",
    "+ (칸을 셀 때는 시작 칸과 마지막 칸을 모두 포함해서 계산함)\n",
    "\n",
    "**입력 조건**  \n",
    "+ 첫째 줄에 두 정수 N,M (4 <= N,M <= 200)이 주어짐\n",
    "+ 다음 N개의 줄에는 각각 M개의 정수(0 혹은 1)로 미로의 정보가 주어짐\n",
    "+ 각각의 수들은 공백 없이 붙어서 입력으로 제시됨\n",
    "+ 또한 시작칸과 마지막칸은 항상 1\n",
    "\n",
    "**출력 조건**  \n",
    "+ 첫째 줄에 최소 이동 칸의 개수를 출력\n",
    "\n",
    "**입력 예시**  \n",
    "5 6  \n",
    "101010  \n",
    "111111  \n",
    "000001  \n",
    "111111  \n",
    "111111  "
   ]
  },
  {
   "cell_type": "code",
   "execution_count": 4,
   "id": "32abcc68-19bc-4875-a281-c458b4b343ac",
   "metadata": {},
   "outputs": [
    {
     "name": "stdout",
     "output_type": "stream",
     "text": [
      "5 6\n",
      "101010\n",
      "111111\n",
      "000001\n",
      "111111\n",
      "111111\n"
     ]
    }
   ],
   "source": [
    "n, m = map(int, input().split())\n",
    "graph = []\n",
    "for _ in range(n):\n",
    "    graph.append(list(map(int, input())))"
   ]
  },
  {
   "cell_type": "code",
   "execution_count": 5,
   "id": "98a87dab",
   "metadata": {},
   "outputs": [
    {
     "data": {
      "text/plain": [
       "[[1, 0, 1, 0, 1, 0],\n",
       " [1, 1, 1, 1, 1, 1],\n",
       " [0, 0, 0, 0, 0, 1],\n",
       " [1, 1, 1, 1, 1, 1],\n",
       " [1, 1, 1, 1, 1, 1]]"
      ]
     },
     "execution_count": 5,
     "metadata": {},
     "output_type": "execute_result"
    }
   ],
   "source": [
    "graph"
   ]
  },
  {
   "cell_type": "code",
   "execution_count": 8,
   "id": "4079de0a",
   "metadata": {},
   "outputs": [],
   "source": [
    "dx = [-1, 1, 0, 0]\n",
    "dy = [0, 0, -1, 1]"
   ]
  },
  {
   "cell_type": "code",
   "execution_count": 21,
   "id": "59a88068",
   "metadata": {},
   "outputs": [],
   "source": [
    "from collections import deque\n",
    "\n",
    "def bfs(x, y):\n",
    "    # 새로운 큐 만들고 x,y좌표 집어넣고\n",
    "    queue = deque()\n",
    "    queue.append((x,y))\n",
    "    while queue:\n",
    "        x, y = queue.popleft()\n",
    "        # 새로운 nx, ny 계산\n",
    "        for i in range(4):\n",
    "            nx = x + dx[i]\n",
    "            ny = y + dy[i]\n",
    "            # 범위 벗어나면 무시\n",
    "            if nx < 0 or ny < 0 or nx >= n or ny >= m:\n",
    "                continue\n",
    "            # 괴물있으면 무시\n",
    "            if graph[nx][ny] == 0:\n",
    "                continue\n",
    "            # 길이라면 진행\n",
    "            if graph[nx][ny] == 1:\n",
    "                graph[nx][ny] = graph[x][y] + 1 # 시간 1초 더해줌\n",
    "                queue.append((nx, ny)) # 다음에 방문할 위치\n",
    "    # 그래프 좌표는 0부터 시작하니까 1씩 빼서 return 해주기\n",
    "    return graph[n-1][m-1]"
   ]
  },
  {
   "cell_type": "code",
   "execution_count": 22,
   "id": "698fa301",
   "metadata": {},
   "outputs": [
    {
     "name": "stdout",
     "output_type": "stream",
     "text": [
      "10\n"
     ]
    }
   ],
   "source": [
    "print(bfs(0,0))"
   ]
  }
 ],
 "metadata": {
  "kernelspec": {
   "display_name": "Python 3 (ipykernel)",
   "language": "python",
   "name": "python3"
  },
  "language_info": {
   "codemirror_mode": {
    "name": "ipython",
    "version": 3
   },
   "file_extension": ".py",
   "mimetype": "text/x-python",
   "name": "python",
   "nbconvert_exporter": "python",
   "pygments_lexer": "ipython3",
   "version": "3.11.5"
  }
 },
 "nbformat": 4,
 "nbformat_minor": 5
}
