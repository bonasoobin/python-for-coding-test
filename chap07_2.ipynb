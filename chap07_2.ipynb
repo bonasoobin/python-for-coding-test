{
 "cells": [
  {
   "cell_type": "markdown",
   "id": "b56cb609-31ce-4cb2-81bd-96e2cd6bcc7e",
   "metadata": {},
   "source": [
    "### 떡볶이 떡 만들기"
   ]
  },
  {
   "cell_type": "markdown",
   "id": "608e021f-6037-4da9-aa42-b7f4df3dc24b",
   "metadata": {},
   "source": [
    "+ 떡볶이 떡의 길이가 일정하지 않지만, 한 봉지 안에 들어가는 떡의 총 길이는 절단기로 잘라 맞춰줌\n",
    "+ 절단기에 높이(H)를 지정하면 줄지어진 떡을 한 번에 절단함\n",
    "+ 높이가 H보다 긴 떡은 H 위의 부분이 잘릴 것이고, 낮은 떡은 잘리지 않음\n",
    "\n",
    "**예시**  \n",
    "높이가 19, 14, 10, 17cm인 떡이 나란히 있고 절단기 높이를 15cm로 지정하면  \n",
    "자른 뒤 떡의 높이는 15, 14, 10, 15cm가 될 것이며,  \n",
    "잘린 떡의 길이는 차례로 4, 0, 0, 2cm이며 손님은 6cm만큼의 길이를 가져감\n",
    "\n",
    "+ 손님이 왔을 때 요청한 길이가 M일 때 적어도 M만큼의 떡을 얻기 위해 절단기에 설정할 수 있는 높이의 최댓값 구하는 프로그램 작성하기\n",
    "\n",
    "**입력 조건**  \n",
    "+ 첫째 줄에 떡의 개수 N과 떡의 길이 M이 주어짐(1<=N<=1,000,000, ,1<=M<=2,000,000,000)\n",
    "+ 둘째 줄에 떡의 개별 높이가 주어짐\n",
    "  떡 높이의 총합은 항상 M 이상이므로, 손님은 필요한 양만큼 떡을 사갈 수 있음  \n",
    "  높이는 10억보다 작거나 같은 양의 정수 또는 0\n",
    "\n",
    "**출력 조건**  \n",
    "+ 적어도 M만큼의 떡을 집에 가져가기 위해 절단기에 설정할 수 있는 높이의 최댓값 출력하기\n",
    "\n",
    "**입력 예시**  \n",
    "4 6  \n",
    "19 15 10 17  \n",
    "\n",
    "**출력 예시**  \n",
    "15"
   ]
  },
  {
   "cell_type": "code",
   "execution_count": 37,
   "id": "1f7f4954-527a-4d40-893b-aec03dc2994b",
   "metadata": {},
   "outputs": [
    {
     "name": "stdin",
     "output_type": "stream",
     "text": [
      " 4 6\n",
      " 19 15 10 17\n"
     ]
    },
    {
     "name": "stdout",
     "output_type": "stream",
     "text": [
      "15\n"
     ]
    }
   ],
   "source": [
    "n, m = map(int, input().split())\n",
    "tteok = sorted(list(map(int, input().split())), reverse = True)\n",
    "h = tteok[0]\n",
    "home = 0\n",
    "\n",
    "while home < m:\n",
    "    home = 0\n",
    "    for i in range(len(tteok)):\n",
    "        if tteok[i] > h:\n",
    "            home += (tteok[i] - h)\n",
    "                \n",
    "    h -= 1\n",
    "\n",
    "print(h+1)"
   ]
  }
 ],
 "metadata": {
  "kernelspec": {
   "display_name": "Python 3 (ipykernel)",
   "language": "python",
   "name": "python3"
  },
  "language_info": {
   "codemirror_mode": {
    "name": "ipython",
    "version": 3
   },
   "file_extension": ".py",
   "mimetype": "text/x-python",
   "name": "python",
   "nbconvert_exporter": "python",
   "pygments_lexer": "ipython3",
   "version": "3.9.18"
  }
 },
 "nbformat": 4,
 "nbformat_minor": 5
}
