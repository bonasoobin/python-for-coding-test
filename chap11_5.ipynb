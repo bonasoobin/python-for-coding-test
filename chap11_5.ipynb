{
 "cells": [
  {
   "cell_type": "markdown",
   "id": "d7c4c9f0-58c5-4f03-9fe3-ffc66c084db7",
   "metadata": {},
   "source": [
    "### 볼링공 고르기"
   ]
  },
  {
   "cell_type": "markdown",
   "id": "26da4631-3eaf-41c2-b94d-ee3d59f01b52",
   "metadata": {},
   "source": [
    "+ 두 사람은 서로 무게가 다른 볼링공을 고르려고 함\n",
    "+ 볼링공은 총 N개가 있으며, 각 볼링공마다 무게가 적혀있고, 공의 번호는 1번부터 순서대로 부여됨\n",
    "+ 같은 무게의 공이 여러 개 있을 수 있지만, 서로 다른 공으로 간주\n",
    "+ 볼링공의 무게는 1부터 M까지의 자연수 형태로 존재함\n",
    "\n",
    "**예시**   \n",
    "N=5 / M=3 / 무게=1,3,2,3,2 일 때,  \n",
    "각 공의 번호가 차례대로 1번부터 5번까지 부여됨  \n",
    "두 사람이 고를 수 있는 볼링공 번호의 조합을 구하면  \n",
    "(1,2),(1,3),(1,4),(1,5),(2,3),(2,5),(3,4),(4,5) 이므로  \n",
    "결과적으로 두 사람이 공을 고르는 경우의 수는 8가지가 됨\n",
    "\n",
    "+ N개의 공의 무게가 각각 주어질 때, 두 사람이 볼링공을 고르는 경우의 수를 구하는 프로그램 작성하기\n",
    "\n",
    "**입력 조건**   \n",
    "첫째 줄에 볼링 공의 개수 N, 공의 최대 무게 M이 공백으로 구분되어 각각 자연수 형태로 주어짐(1<=N<=1000, 1<=M<=10)  \n",
    "둘째 줄에 각 볼링공의 무게 K가 공백으로 구분되어 순서대로 자연수 형태로 주어짐 (1<=K<=M)  \n",
    "\n",
    "**출력 조건**     \n",
    "첫째 줄에 두 사람이 볼링공을 고르는 경우의 수를 출력\n",
    " \n",
    "**입력 예시 1**       \n",
    "5 3  \n",
    "1 3 2 3 2  \n",
    "\n",
    "**출력 예시 1**  \n",
    "8\n",
    "\n",
    "**입력 예시 2**       \n",
    "8 5  \n",
    "1 5 4 3 2 4 5 2  \n",
    "\n",
    "**출력 예시 2**    \n",
    "25"
   ]
  },
  {
   "cell_type": "code",
   "execution_count": 46,
   "id": "132e99d5-8d44-48e5-a6f6-256dcb39a485",
   "metadata": {},
   "outputs": [
    {
     "name": "stdin",
     "output_type": "stream",
     "text": [
      " 5 3\n",
      " 1 3 2 3 2\n"
     ]
    },
    {
     "name": "stdout",
     "output_type": "stream",
     "text": [
      "8\n",
      "실행 시간: 0.0010030269622802734 초\n"
     ]
    }
   ],
   "source": [
    "import itertools\n",
    "\n",
    "n, m = map(int, input().split())\n",
    "k = list(map(int, input().split()))\n",
    "\n",
    "import time \n",
    "start_time = time.time()  # 시작 시간 \n",
    "\n",
    "# dict 형태로 저장 ({1: 1, 2: 3, 3: 2, 4: 3, 5: 2})\n",
    "a = {}\n",
    "for i in range(len(k)):\n",
    "    a[i+1] = k[i]\n",
    "\n",
    "# 빈 리스트에 각 공의 번호 저장\n",
    "b = []\n",
    "for i in range(n):\n",
    "    b.append(i+1)\n",
    "\n",
    "# nCr 조합 형태로 2개씩 뽑아서 더하기\n",
    "nCr = itertools.combinations(b, 2)\n",
    "\n",
    "# 뽑은 번호의 공의 무게가 다르면 count + 1 해주기\n",
    "count = 0\n",
    "for c in nCr:\n",
    "    if a[c[0]] != a[c[1]]:\n",
    "        count += 1\n",
    "\n",
    "\n",
    "print(count)\n",
    "\n",
    "end_time = time.time()  # 종료 시간 \n",
    "# 실행 시간 출력\n",
    "running_time = end_time - start_time\n",
    "print(f\"실행 시간: {running_time} 초\")"
   ]
  },
  {
   "cell_type": "code",
   "execution_count": 47,
   "id": "24b34bec-a6bc-46d7-97f7-2694f108f89c",
   "metadata": {},
   "outputs": [
    {
     "name": "stdin",
     "output_type": "stream",
     "text": [
      " 8 5\n",
      " 1 5 4 3 2 4 5 2\n"
     ]
    },
    {
     "name": "stdout",
     "output_type": "stream",
     "text": [
      "25\n",
      "실행 시간: 0.0010023117065429688 초\n"
     ]
    }
   ],
   "source": [
    "import itertools\n",
    "\n",
    "n, m = map(int, input().split())\n",
    "k = list(map(int, input().split()))\n",
    "\n",
    "import time \n",
    "start_time = time.time()  # 시작 시간 \n",
    "\n",
    "# dict 형태로 저장 ({1: 1, 2: 3, 3: 2, 4: 3, 5: 2})\n",
    "a = {}\n",
    "for i in range(len(k)):\n",
    "    a[i+1] = k[i]\n",
    "\n",
    "# 빈 리스트에 각 공의 번호 저장\n",
    "b = []\n",
    "for i in range(n):\n",
    "    b.append(i+1)\n",
    "\n",
    "# nCr 조합 형태로 2개씩 뽑아서 더하기\n",
    "nCr = itertools.combinations(b, 2)\n",
    "\n",
    "# 뽑은 번호의 공의 무게가 다르면 count + 1 해주기\n",
    "count = 0\n",
    "for c in nCr:\n",
    "    if a[c[0]] != a[c[1]]:\n",
    "        count += 1\n",
    "\n",
    "\n",
    "print(count)\n",
    "\n",
    "end_time = time.time()  # 종료 시간 \n",
    "# 실행 시간 출력\n",
    "running_time = end_time - start_time\n",
    "print(f\"실행 시간: {running_time} 초\")"
   ]
  }
 ],
 "metadata": {
  "kernelspec": {
   "display_name": "Python 3 (ipykernel)",
   "language": "python",
   "name": "python3"
  },
  "language_info": {
   "codemirror_mode": {
    "name": "ipython",
    "version": 3
   },
   "file_extension": ".py",
   "mimetype": "text/x-python",
   "name": "python",
   "nbconvert_exporter": "python",
   "pygments_lexer": "ipython3",
   "version": "3.9.18"
  }
 },
 "nbformat": 4,
 "nbformat_minor": 5
}
