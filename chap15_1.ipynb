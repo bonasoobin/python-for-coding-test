{
 "cells": [
  {
   "cell_type": "markdown",
   "id": "57a059d8-1284-4996-93e0-9bd4c8245f61",
   "metadata": {},
   "source": [
    "### 정렬된 배열에서 특정 수의 개수 구하기"
   ]
  },
  {
   "cell_type": "markdown",
   "id": "cb738ece-363c-4b5d-a9ee-6d237de5cb0e",
   "metadata": {},
   "source": [
    "+ N개의 원소를 포함하고 있는 수열이 오름차순으로 정렬되어 있음\n",
    "+ 이 수열에서 x가 등장하는 횟수 구하기\n",
    "\n",
    "**예시**  \n",
    "x = 2이고 수열이 {1,1,2,2,2,2,3} 일 때,  \n",
    "현재 수열에서 값이 2인 원소가 4개 이므로 4를 출력  \n",
    "단, 이 문제는 시간 복잡도 O(logN)으로 알고리즘을 설계하지 않으면 시간초과 판정을 받음  \n",
    "\n",
    "**입력 조건**  \n",
    "+ 첫째 줄에 N과 x가 정수 형태로 공백으로 구분되어 입력됨  \n",
    "  (1 <= N <= 1,000,000), (-10^9 <= x <= 10^9)\n",
    "+ 둘째 줄에 N개의 원소가 정수 형태로 공백으로 구분되어 입력됨  \n",
    "  (-10^9 <= 각 원소의 값 <= 10^9)\n",
    "\n",
    "**출력 조건**  \n",
    "+ 수열의 원소 중에서 값이 x인 원소의 개수 출력  \n",
    "  단, 값이 x인 원소가 하나도 없다면 -1 출력"
   ]
  },
  {
   "cell_type": "code",
   "execution_count": 4,
   "id": "8c2a57b3-3531-443c-891a-5e5bdf85ef7d",
   "metadata": {},
   "outputs": [
    {
     "name": "stdin",
     "output_type": "stream",
     "text": [
      " 7 2\n",
      " 1 1 2 2 2 2 3\n"
     ]
    },
    {
     "name": "stdout",
     "output_type": "stream",
     "text": [
      "4\n"
     ]
    }
   ],
   "source": [
    "n, x = map(int, input().split())\n",
    "suyeol = sorted(list(map(int, input().split())))\n",
    "\n",
    "if x in suyeol:\n",
    "    print(suyeol.count(x))\n",
    "else:\n",
    "    print -1"
   ]
  },
  {
   "cell_type": "code",
   "execution_count": 6,
   "id": "a28dcd8f-01dc-432b-8b09-0344d597b5cd",
   "metadata": {},
   "outputs": [
    {
     "name": "stdin",
     "output_type": "stream",
     "text": [
      " 7 4\n",
      " 1 1 2 2 2 2 3\n"
     ]
    },
    {
     "name": "stdout",
     "output_type": "stream",
     "text": [
      "-1\n"
     ]
    }
   ],
   "source": [
    "n, x = map(int, input().split())\n",
    "suyeol = sorted(list(map(int, input().split())))\n",
    "\n",
    "if x in suyeol:\n",
    "    print(suyeol.count(x))\n",
    "else:\n",
    "    print(-1)"
   ]
  },
  {
   "cell_type": "markdown",
   "id": "55d61f6c-54a5-43c5-8418-8874eaca950b",
   "metadata": {},
   "source": [
    "근데 이렇게 하면 시간복잡도 O로 알고리즘을 설계하진 않은 것 같은데 뭘까요"
   ]
  }
 ],
 "metadata": {
  "kernelspec": {
   "display_name": "Python 3 (ipykernel)",
   "language": "python",
   "name": "python3"
  },
  "language_info": {
   "codemirror_mode": {
    "name": "ipython",
    "version": 3
   },
   "file_extension": ".py",
   "mimetype": "text/x-python",
   "name": "python",
   "nbconvert_exporter": "python",
   "pygments_lexer": "ipython3",
   "version": "3.9.18"
  }
 },
 "nbformat": 4,
 "nbformat_minor": 5
}
