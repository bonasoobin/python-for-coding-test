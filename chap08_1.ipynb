{
 "cells": [
  {
   "cell_type": "markdown",
   "id": "cdc7a378-b82d-4a32-9551-6b9fa676ee2d",
   "metadata": {},
   "source": [
    "### 1로 만들기"
   ]
  },
  {
   "cell_type": "code",
   "execution_count": 1,
   "id": "94624879-d605-4ff1-a3f5-bc3816d4a7b5",
   "metadata": {},
   "outputs": [],
   "source": [
    "# 정수 X가 주어질 때 정수 X에 사용할 수 있는 연산은 4가지이고 연산을 적절히 사용해서 1을 만들기\n",
    "# 1. X가 5로 나누어떨어지면, 5로 나누기\n",
    "# 2. X가 3으로 나누어 떨어지면, 3으로 나누기\n",
    "# 3. X가 2로 나누어떨어지면, 2로 나누기\n",
    "# 4. X에서 1을 빼기\n",
    "\n",
    "# 입력 조건\n",
    "# 첫째 줄에 정수 X가 주어진다. (1<=X<=30000)\n",
    "\n",
    "# 출력 조건\n",
    "# 첫째 줄에 연산을 하는 횟수의 최솟값을 출력한다\n",
    "\n",
    "# 입력 예시 26\n",
    "# 출력 예시 3"
   ]
  },
  {
   "cell_type": "code",
   "execution_count": 26,
   "id": "a3a22b9a-45fb-499a-913c-d92ae484c94b",
   "metadata": {},
   "outputs": [],
   "source": [
    "count = 0\n",
    "\n",
    "def cal(x):\n",
    "# 전역변수로 count 사용\n",
    "    global count\n",
    "# 입력받은 숫자 한자리씩 쪼개기\n",
    "    num_list = list(map(int, str(x)))\n",
    "\n",
    "# x가 1이라면 count 출력\n",
    "    if x == 1:\n",
    "        return count\n",
    "# x의 1의자리가 1이거나 6이면 1빼주기\n",
    "    elif num_list[-1] == 1 or num_list[-1] == 6:\n",
    "        x -= 1\n",
    "        count += 1\n",
    "        return cal(x)\n",
    "    elif x%5 == 0:\n",
    "        x = int(x/5)\n",
    "        count += 1\n",
    "        return cal(x)\n",
    "    elif x%3 == 0:\n",
    "        x = int(x/3)\n",
    "        count += 1\n",
    "        return cal(x)\n",
    "    elif x%2 == 0:\n",
    "        x = int(x/2)\n",
    "        count += 1\n",
    "        return cal(x)"
   ]
  },
  {
   "cell_type": "code",
   "execution_count": 27,
   "id": "aab22f31-ccf6-4121-8582-842d83fe1e15",
   "metadata": {},
   "outputs": [
    {
     "name": "stdin",
     "output_type": "stream",
     "text": [
      " 26\n"
     ]
    },
    {
     "data": {
      "text/plain": [
       "3"
      ]
     },
     "execution_count": 27,
     "metadata": {},
     "output_type": "execute_result"
    }
   ],
   "source": [
    "a = int(input())\n",
    "cal(a)"
   ]
  }
 ],
 "metadata": {
  "kernelspec": {
   "display_name": "Python 3 (ipykernel)",
   "language": "python",
   "name": "python3"
  },
  "language_info": {
   "codemirror_mode": {
    "name": "ipython",
    "version": 3
   },
   "file_extension": ".py",
   "mimetype": "text/x-python",
   "name": "python",
   "nbconvert_exporter": "python",
   "pygments_lexer": "ipython3",
   "version": "3.9.18"
  }
 },
 "nbformat": 4,
 "nbformat_minor": 5
}
