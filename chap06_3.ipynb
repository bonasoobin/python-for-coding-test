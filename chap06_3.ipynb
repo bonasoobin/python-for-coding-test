{
 "cells": [
  {
   "cell_type": "markdown",
   "id": "21a36d83-b5e0-4380-b071-bcaeec964b9a",
   "metadata": {},
   "source": [
    "### 두 배열의 원소 교체"
   ]
  },
  {
   "cell_type": "markdown",
   "id": "d2e2e62d-2f25-4908-a635-7360e229ca99",
   "metadata": {},
   "source": [
    "+ 두 개의 배열 A와 B\n",
    "+ 두 배열은 N개의 원소로 구성되어 있으며, 배열의 원소는 모두 자연수\n",
    "+ 최대 K번의 바꿔치기 연산을 수행할 수 있음\n",
    "+ 바꿔치기 연산이란 배열 A에 있는 원소 하나와 배열 B에 있는 원소 하나를 골라서 두 원소를 서로 바꾸는 것\n",
    "+ 최종 목표 : 배열 A의 모든 원소의 합이 최대가 되도록 하기\n",
    "\n",
    "+ N, K 그리고 배열 A와 B의 정보가 주어졌을 때, 최대 K번의 바꿔치기 연산을 수행하여 만들 수 있는\n",
    "  배열 A의 모든 원소의 합의 최댓값을 출력하는 프로그램 작성하기\n",
    "\n",
    "**예시**  \n",
    "N=5, K=3, A=[1,2,5,4,3], B=[5,5,6,6,5] 일 때,  \n",
    "1. 배열 A의 원소 '1'과 배열 B의 원소 '6'을 바꾸기  \n",
    "2. 배열 A의 원소 '2'와 배열 B의 원소 '6'을 바꾸기  \n",
    "3. 배열 A의 원소 '3'과 배열 B의 원소 '5'을 바꾸기\n",
    "세 번의 연산 이후, A=[6,6,5,4,5], B=[3,5,1,2,5]이다.  \n",
    "이때 배열 A의 모든 원소의 합은 26이 되며, 이보다 더 합을 크게 만들 수는 없으므로 정답 26\n",
    "\n",
    "**입력 조건**\n",
    "+ 첫 번째 줄에 N, K가 공백으로 구분되어 입력됨(1<=N<=100,000,  0<=K<=N)  \n",
    "+ 두 번째 줄에 배열 A의 원소들이 공백으로 구분되어 입력됨 (모든 원소는 10,000,000보다 작은 자연수)  \n",
    "+ 세 번째 줄에 배열 B의 원소들이 공백으로 구분되어 입력됨 (모든 원소는 10,000,000보다 작은 자연수)\n",
    "\n",
    "**출력 조건**  \n",
    "+ 최대 K번의 바꿔치기 연산을 수행하여 만들 수 있는 배열 A의 모든 원소의 합의 최댓값 출력하기\n",
    "\n",
    "**입력 예시**  \n",
    "5 3  \n",
    "1 2 5 4 3  \n",
    "5 5 6 6 5  \n",
    "\n",
    "**출력 예시**  \n",
    "26  "
   ]
  },
  {
   "cell_type": "code",
   "execution_count": 34,
   "id": "c2ae21ff-af6b-41cd-8daa-52fd76c053ed",
   "metadata": {},
   "outputs": [
    {
     "name": "stdin",
     "output_type": "stream",
     "text": [
      " 5 3\n",
      " 1 2 5 4 3\n",
      " 5 5 6 6 5\n"
     ]
    },
    {
     "name": "stdout",
     "output_type": "stream",
     "text": [
      "26\n"
     ]
    }
   ],
   "source": [
    "n, k = map(int, input().split())\n",
    "a = list(map(int, input().split()))\n",
    "b = list(map(int, input().split()))\n",
    "\n",
    "a = sorted(a, reverse = False) # [1, 2, 3, 4, 5]\n",
    "b = sorted(b, reverse = True) # [6, 6, 5, 5, 5]\n",
    "\n",
    "# 큰 수로 작은 수를 바꾸기\n",
    "c = []\n",
    "for i in range(k):\n",
    "    if a[i] < b[i]:\n",
    "        a[i] = b[i]\n",
    "    \n",
    "result = sum(a)\n",
    "print(result)"
   ]
  }
 ],
 "metadata": {
  "kernelspec": {
   "display_name": "Python 3 (ipykernel)",
   "language": "python",
   "name": "python3"
  },
  "language_info": {
   "codemirror_mode": {
    "name": "ipython",
    "version": 3
   },
   "file_extension": ".py",
   "mimetype": "text/x-python",
   "name": "python",
   "nbconvert_exporter": "python",
   "pygments_lexer": "ipython3",
   "version": "3.9.18"
  }
 },
 "nbformat": 4,
 "nbformat_minor": 5
}
