{
 "cells": [
  {
   "cell_type": "markdown",
   "id": "c2ef38dd-837e-4daf-845f-58fa452eaffe",
   "metadata": {},
   "source": [
    "### 문자열 압축"
   ]
  },
  {
   "cell_type": "markdown",
   "id": "d3bdd14f-e184-4b3e-a091-2650581c8f60",
   "metadata": {},
   "source": [
    "[프로그래머스 링크](https://school.programmers.co.kr/learn/courses/30/lessons/60057) [통과 완료]"
   ]
  },
  {
   "cell_type": "markdown",
   "id": "a84be93a-99dc-47be-8a4d-f6942bf20ee4",
   "metadata": {},
   "source": [
    "+ 문자열에서 같은 값이 연속해서 나타나는 것을 그 문자의 개수와 반복되는 값으로 표현하여 더 짧은 문자열로 줄여 표현하기\n",
    "\n",
    "**예시**  \n",
    "'aabbaccc'의 경우, '2a2ba3c'(문자가 반복되지 않아 한 번만 나타난 경우 1은 생략함)와 같이 표현할 수 있음   \n",
    "&rarr; 'abcabcdede'와 같은 문자열은 전혀 압축되지 않음(최종 방법 X)  \n",
    "<br>\n",
    "'ababcdcdababcdcd'의 경우 문자를 1개 단위로 자르면 전혀 압축되지 않지만,  \n",
    "2개 단위로 잘라서 압축한다면 '2ab2cd2ab2cd'로 표현 가능  \n",
    "8개 단위로 잘라서 압축한다면 '2ababcdcd'로 표현 가능 &rarr; 가장 짧게 압축 가능\n",
    "<br>  \n",
    "'abcabcdede'와 같은 경우, 문자를 2개 단위로 잘라 압축하면 'abcabc2de'가 되지만,  \n",
    "3개 단위로 잘라 압축하면 '2abcdede'가 되어 가장 짧은 압축 방법이 됨  \n",
    "(3개 단위로 자르고 마지막에 남는 문자열은 뒤에 그대로 붙여주기)\n",
    "\n",
    "+ 압축할 문자열 s가 매개변수로 주어질 때, 위에 설명한 방법으로 1개 이상 단위로 문자열을 잘라 압축하여\n",
    "  표현한 문자열 중 가장 짧은 것의 길이를 return 하도록 solution 함수를 완성하기\n",
    "  \n",
    "**제한 사항**          \n",
    "+ s의 길이는 1 이상 1,000 이하  \n",
    "+ s는 알파벳 소문자로만 이루어져 있음\n",
    "\n",
    "**입출력 예시**  \n",
    "'aabbaccc' / 7(1)  \n",
    "'ababcdcdababcdcd' / 9(8)  \n",
    "'abcabcdede' / 8(3)  \n",
    "'abcabcabcabcdededededede' / 14(6)  \n",
    "'xababcdcdababcdcd' / 17(안잘림)"
   ]
  },
  {
   "cell_type": "code",
   "execution_count": 8,
   "id": "0b6f7949-42dc-423a-892a-e378e654b338",
   "metadata": {},
   "outputs": [],
   "source": [
    "def solution(s):\n",
    "    a = [] # 자를 문자 단위 저장\n",
    "    for i in range(len(s)):\n",
    "        a.append(i+1)\n",
    "        \n",
    "    \n",
    "    c = [] # 각 개수별로 잘린 문자열 저장\n",
    "    \n",
    "    for i in range(len(a)): # 몇개씩 잘라볼지 정하고 \n",
    "        b = [] # j개별로 잘린 문자열 저장\n",
    "        for j in range(len(s)//a[i]): # 실제로 그만큼씩 쪼개기\n",
    "            strr = s[(a[i]*(j)):(a[i]*(j+1))]\n",
    "            b.append(strr)\n",
    "        if (len(s)%a[i]) != 0:\n",
    "            b.append(s[-(len(s)%a[i]):])\n",
    "        c.append(b)\n",
    "    '''\n",
    "    print(c)\n",
    "    [['a', 'a', 'b', 'b', 'a', 'c', 'c', 'c'], ['aa', 'bb', 'ac', 'cc'], ['aab', 'bac', 'cc'], \n",
    "    ['aabb', 'accc'], ['aabba', 'ccc'], ['aabbac', 'cc'], ['aabbacc', 'c'], ['aabbaccc']]\n",
    "    '''\n",
    "    \n",
    "    d = []\n",
    "    for i in range(len(c)):\n",
    "        count = 1\n",
    "        e = []\n",
    "        for j in range(len(c[i])):\n",
    "            # 마지막에 범위오류 생기지 않도록 if문 지정\n",
    "            if j < (len(c[i])-1):\n",
    "                # 만약 지금꺼랑 다음꺼랑 같다면 count += 1\n",
    "                if c[i][j] == c[i][j+1]:\n",
    "                    count += 1\n",
    "                else:\n",
    "                    # 지금꺼랑 다음꺼랑 같지 않은데 j=0이 아닐때\n",
    "                    if (j-1) >= 0:\n",
    "                        f = []\n",
    "                        # count가 1이라면 count = 1.로 지정해주기(나중에 1 없앨건데 10의 1이 지워지지않게)\n",
    "                        if count == 1:\n",
    "                            count = 1.\n",
    "                            f.append(str(count))\n",
    "                            f.append(str(c[i][j]))\n",
    "                        # count가 1이 아니라면 그대로\n",
    "                        else:\n",
    "                            f.append(str(count))\n",
    "                            f.append(str(c[i][j-1]))\n",
    "                        count = 1\n",
    "                        result = ''.join(f)\n",
    "                        e.append(result)\n",
    "                    # 지금꺼랑 다음꺼랑 같지 않은데 j=0일때 (count=1일수밖에없음(처음이니까) -> 그냥 지금꺼 추가해주기)\n",
    "                    else:\n",
    "                        f = []\n",
    "                        f.append(str(c[i][j]))\n",
    "                        result = ''.join(f)\n",
    "                        e.append(result)                    \n",
    "            # 마지막꺼일때\n",
    "            else:\n",
    "                f = []\n",
    "                # 위와 같은 방식으로 count=1이면 1.로 바꿔주고 아니라면 그대로 추가해주기\n",
    "                if count == 1:\n",
    "                    count = 1.\n",
    "                    f.append(str(count))\n",
    "                    f.append(str(c[i][j]))\n",
    "                    result = ''.join(f)\n",
    "                    e.append(result)\n",
    "                else:\n",
    "                    f.append(str(count))\n",
    "                    f.append(str(c[i][j]))\n",
    "                    result = ''.join(f)\n",
    "                    e.append(result)\n",
    "        d.append(e)\n",
    "    '''    \n",
    "    print(d)\n",
    "    [['2a', '2b', '1.0a', '3c'], ['aa', '1.0bb', '1.0ac', '1.0cc'], ['aab', '1.0bac', '1.0cc'], \n",
    "    ['aabb', '1.0accc'], ['aabba', '1.0ccc'], ['aabbac', '1.0cc'], ['aabbacc', '1.0c'], ['1.0aabbaccc']]\n",
    "    '''\n",
    "    \n",
    "    # 1.0이 있다면 제외해주기\n",
    "    h = []\n",
    "    for i in d:\n",
    "        g = []\n",
    "        g.append(''.join(i))\n",
    "        result = ''.join(g)\n",
    "        result = result.replace('1.0', '')\n",
    "        h.append(result)\n",
    "    '''\n",
    "    print(h)\n",
    "    ['2a2ba3c', 'aabbaccc', 'aabbaccc', 'aabbaccc', 'aabbaccc', 'aabbaccc', 'aabbaccc', 'aabbaccc']\n",
    "    '''\n",
    "\n",
    "    # 길이 구하기\n",
    "    q = []\n",
    "    for i in range(len(h)):\n",
    "        q.append(len(h[i]))\n",
    "    '''\n",
    "    print(q)\n",
    "    [7, 8, 8, 8, 8, 8, 8, 8]\n",
    "    '''\n",
    "\n",
    "    # 최솟값 return\n",
    "    return min(q)"
   ]
  },
  {
   "cell_type": "code",
   "execution_count": 9,
   "id": "616fb610-fe70-466c-a49b-20db1849bccd",
   "metadata": {},
   "outputs": [
    {
     "data": {
      "text/plain": [
       "7"
      ]
     },
     "execution_count": 9,
     "metadata": {},
     "output_type": "execute_result"
    }
   ],
   "source": [
    "solution('aabbaccc')"
   ]
  },
  {
   "cell_type": "code",
   "execution_count": 10,
   "id": "56bde2cd-d9f8-4a71-a777-10303ea5028f",
   "metadata": {},
   "outputs": [
    {
     "data": {
      "text/plain": [
       "9"
      ]
     },
     "execution_count": 10,
     "metadata": {},
     "output_type": "execute_result"
    }
   ],
   "source": [
    "solution('ababcdcdababcdcd')"
   ]
  },
  {
   "cell_type": "code",
   "execution_count": 11,
   "id": "8d17ebb3-448e-4ed0-a559-edda3376aa05",
   "metadata": {},
   "outputs": [
    {
     "data": {
      "text/plain": [
       "8"
      ]
     },
     "execution_count": 11,
     "metadata": {},
     "output_type": "execute_result"
    }
   ],
   "source": [
    "solution('abcabcdede')"
   ]
  },
  {
   "cell_type": "code",
   "execution_count": 12,
   "id": "2b294a59-b2a7-48bb-8f61-e83e88358eb4",
   "metadata": {},
   "outputs": [
    {
     "data": {
      "text/plain": [
       "14"
      ]
     },
     "execution_count": 12,
     "metadata": {},
     "output_type": "execute_result"
    }
   ],
   "source": [
    "solution('abcabcabcabcdededededede')"
   ]
  },
  {
   "cell_type": "code",
   "execution_count": 13,
   "id": "2ffdb795-6a68-41a1-b236-6b0178f8cffa",
   "metadata": {},
   "outputs": [
    {
     "data": {
      "text/plain": [
       "17"
      ]
     },
     "execution_count": 13,
     "metadata": {},
     "output_type": "execute_result"
    }
   ],
   "source": [
    "solution('xababcdcdababcdcd')"
   ]
  }
 ],
 "metadata": {
  "kernelspec": {
   "display_name": "Python 3 (ipykernel)",
   "language": "python",
   "name": "python3"
  },
  "language_info": {
   "codemirror_mode": {
    "name": "ipython",
    "version": 3
   },
   "file_extension": ".py",
   "mimetype": "text/x-python",
   "name": "python",
   "nbconvert_exporter": "python",
   "pygments_lexer": "ipython3",
   "version": "3.9.18"
  }
 },
 "nbformat": 4,
 "nbformat_minor": 5
}
