{
 "cells": [
  {
   "cell_type": "markdown",
   "id": "67d674fb",
   "metadata": {},
   "source": [
    "### 효율적인 화폐 구성"
   ]
  },
  {
   "cell_type": "markdown",
   "id": "9e07f01f",
   "metadata": {},
   "source": [
    "+ N가지 종류의 화폐\n",
    "+ 화폐들의 개수를 최소한으로 이용해서 그 가치의 합이 M원이 되도록 하기\n",
    "+ 각 화폐는 몇 개라도 사용할 수 있으며, 사용한 화폐의 구성은 같지만 순서만 다른 것은 같은 경우로 구분\n",
    "\n",
    "**예시**  \n",
    "2원, 3원 단위의 화폐가 있을 때는 15원을 만들기 위해 3원을 5개 사용하는 것이 최소한의 화폐 개수임  \n",
    "\n",
    "**입력 조건**  \n",
    "+ 첫째 줄에 N, M이 주어짐(1 <= N <= 100, 1 <= M <= 10,000)\n",
    "+ 이후 N개의 줄에는 각 화폐의 가치가 주어짐(화폐 가치는 10,000보다 작거나 같은 자연수)\n",
    "\n",
    "**출력 조건**  \n",
    "+ 첫째 줄에 M원을 만들기 위한 최소한의 화폐 개수 출력\n",
    "+ 불가능할 때는 -1 출력하기\n",
    "\n",
    "**입력 예시 1**  \n",
    "2 15  \n",
    "2  \n",
    "3  \n",
    "\n",
    "**출력 예시 1**  \n",
    "5  \n",
    "\n",
    "**입력 예시 2**  \n",
    "3 4  \n",
    "3  \n",
    "5  \n",
    "7  \n",
    "\n",
    "**출력 예시 2**  \n",
    "-1  "
   ]
  },
  {
   "cell_type": "code",
   "execution_count": 5,
   "id": "c0e89405",
   "metadata": {},
   "outputs": [
    {
     "name": "stdout",
     "output_type": "stream",
     "text": [
      "2 15\n",
      "2\n",
      "3\n",
      "5\n"
     ]
    }
   ],
   "source": [
    "n, m = map(int, input().split())\n",
    "money = []\n",
    "for _ in range(n):\n",
    "    a = int(input())\n",
    "    money.append(a)\n",
    "    \n",
    "d = [10001] * (m+1)\n",
    "\n",
    "d[0] = 0\n",
    "for i in range(n):\n",
    "    for j in range(money[i], m+1):\n",
    "        if d[j - money[i]] != 10001:\n",
    "            d[j] = min(d[j], d[j-money[i]] + 1)\n",
    "            \n",
    "if d[m] == 10001:\n",
    "    print(-1)\n",
    "else:\n",
    "    print(d[m])"
   ]
  },
  {
   "cell_type": "code",
   "execution_count": 6,
   "id": "ec2790c7",
   "metadata": {},
   "outputs": [
    {
     "name": "stdout",
     "output_type": "stream",
     "text": [
      "3 4\n",
      "3\n",
      "5\n",
      "7\n",
      "-1\n"
     ]
    }
   ],
   "source": [
    "n, m = map(int, input().split())\n",
    "money = []\n",
    "for _ in range(n):\n",
    "    a = int(input())\n",
    "    money.append(a)\n",
    "    \n",
    "d = [10001] * (m+1)\n",
    "\n",
    "d[0] = 0\n",
    "for i in range(n):\n",
    "    for j in range(money[i], m+1):\n",
    "        if d[j - money[i]] != 10001:\n",
    "            d[j] = min(d[j], d[j-money[i]] + 1)\n",
    "            \n",
    "if d[m] == 10001:\n",
    "    print(-1)\n",
    "else:\n",
    "    print(d[m])"
   ]
  }
 ],
 "metadata": {
  "kernelspec": {
   "display_name": "Python 3 (ipykernel)",
   "language": "python",
   "name": "python3"
  },
  "language_info": {
   "codemirror_mode": {
    "name": "ipython",
    "version": 3
   },
   "file_extension": ".py",
   "mimetype": "text/x-python",
   "name": "python",
   "nbconvert_exporter": "python",
   "pygments_lexer": "ipython3",
   "version": "3.11.5"
  }
 },
 "nbformat": 4,
 "nbformat_minor": 5
}
