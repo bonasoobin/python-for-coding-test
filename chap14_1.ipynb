{
 "cells": [
  {
   "cell_type": "markdown",
   "id": "c532ad8c-89cd-4b0f-af00-172842186ee5",
   "metadata": {},
   "source": [
    "### 국영수"
   ]
  },
  {
   "cell_type": "markdown",
   "id": "fdb8969a-c9c2-4e3d-afc5-4329619de319",
   "metadata": {},
   "source": [
    "+ 반 학생 N명의 이름과 국어, 영어, 수학 점수가 주어짐\n",
    "  1. 국어 점수가 감소하는 순서로\n",
    "  2. 국어 점수가 같다면 영어 점수가 증가하는 순서로\n",
    "  3. 국어 점수와 영어 점수가 같다면 수학 점수가 감소하는 순서로\n",
    "  4. 모든 점수가 같으면 이름이 사전 순으로 증가하는 순서로(아스키코드에서 대문자는 소문자보다 작으므로 앞에옴)\n",
    "\n",
    "**입력 조건**  \n",
    "+ 첫째 줄에 도현이네 반의 학생 수 N(1<=N<=100,000)이 주어짐\n",
    "+ 둘째 줄부터 한 줄에 하나씩 각 학생의 이름, 국어, 영어, 수학 점수가 공백으로 구분해 주어짐\n",
    "+ 점수는 1보다 크거나 같고, 100보다 작거나 같은 자연수\n",
    "+ 이름은 알파벳 대소문자로 이루어진 문자열이고, 길이는 10자리를 넘지 않음\n",
    "\n",
    "**출력 조건**\n",
    "+ 문제에 나와있는 정렬 기준으로 정렬한 후 첫째 줄부터 N개의 줄에 걸쳐 각 학생의 이름 출력\n",
    "\n",
    "**입력 예시**  \n",
    "12  \n",
    "Junkyu 50 60 100  \n",
    "Sangkeun 80 60 50    \n",
    "Sunyoung 80 70 100    \n",
    "Soong 50 60 90    \n",
    "Haebin 50 60 100  \n",
    "Kangsoo 60 80 100  \n",
    "Donghyuk 80 60 100  \n",
    "Sei 70 70 70  \n",
    "Wonseob 70 70 90  \n",
    "Sanghyun 70 70 80  \n",
    "nsj 80 80 80  \n",
    "Taewhan 50 60 90  \n",
    "\n",
    "**출력 예시**  \n",
    "Donghyuk    \n",
    "Sangkeun  \n",
    "Sunyoung  \n",
    "nsj  \n",
    "Wonseob  \n",
    "Sanghyun  \n",
    "Sei  \n",
    "Kangsoo  \n",
    "Haebin  \n",
    "Junkyu  \n",
    "Soong  \n",
    "Taewhan  "
   ]
  },
  {
   "cell_type": "code",
   "execution_count": 1,
   "id": "d99b38ad-3642-4394-b387-c1e7f973d401",
   "metadata": {},
   "outputs": [
    {
     "name": "stdin",
     "output_type": "stream",
     "text": [
      " 12\n",
      " Junkyu 50 60 100\n",
      " Sangkeun 80 60 50\n",
      " Sunyoung 80 70 100\n",
      " Soong 50 60 90\n",
      " Haebin 50 60 100\n",
      " Kangsoo 60 80 100\n",
      " Donghyuk 80 60 100\n",
      " Sei 70 70 70\n",
      " Wonseob 70 70 90\n",
      " Sanghyun 70 70 80\n",
      " nsj 80 80 80\n",
      " Taewhan 50 60 90\n"
     ]
    }
   ],
   "source": [
    "n = int(input())\n",
    "\n",
    "student = []\n",
    "for _ in range(n):\n",
    "    a = list(input().split())\n",
    "    student.append(a)"
   ]
  },
  {
   "cell_type": "code",
   "execution_count": 5,
   "id": "8fb8e1ef-8816-417e-888b-a62d7505e306",
   "metadata": {},
   "outputs": [
    {
     "data": {
      "text/plain": [
       "[['Junkyu', 50, 60, 100],\n",
       " ['Sangkeun', 80, 60, 50],\n",
       " ['Sunyoung', 80, 70, 100],\n",
       " ['Soong', 50, 60, 90],\n",
       " ['Haebin', 50, 60, 100],\n",
       " ['Kangsoo', 60, 80, 100],\n",
       " ['Donghyuk', 80, 60, 100],\n",
       " ['Sei', 70, 70, 70],\n",
       " ['Wonseob', 70, 70, 90],\n",
       " ['Sanghyun', 70, 70, 80],\n",
       " ['nsj', 80, 80, 80],\n",
       " ['Taewhan', 50, 60, 90]]"
      ]
     },
     "execution_count": 5,
     "metadata": {},
     "output_type": "execute_result"
    }
   ],
   "source": [
    "# 점수는 int형으로 바꿔주기\n",
    "for i in range(len(student)):\n",
    "    for j in range(1,4):\n",
    "        student[i][j] = int(student[i][j])\n",
    "\n",
    "student"
   ]
  },
  {
   "cell_type": "code",
   "execution_count": 13,
   "id": "9397a189-5299-48f6-b852-1ec2c8eaa691",
   "metadata": {},
   "outputs": [
    {
     "name": "stdout",
     "output_type": "stream",
     "text": [
      "Donghyuk\n",
      "Sangkeun\n",
      "Sunyoung\n",
      "nsj\n",
      "Wonseob\n",
      "Sanghyun\n",
      "Sei\n",
      "Kangsoo\n",
      "Haebin\n",
      "Junkyu\n",
      "Soong\n",
      "Taewhan\n"
     ]
    }
   ],
   "source": [
    "# 2차원 리스트 정렬하기 (이거 처음알았는데 진짜 사람들 똑똑하다)\n",
    "student.sort(key=lambda x: (-x[1], x[2], -x[3], x[0]))\n",
    "student\n",
    "'''\n",
    "[['Donghyuk', 80, 60, 100],\n",
    " ['Sangkeun', 80, 60, 50],\n",
    " ['Sunyoung', 80, 70, 100],\n",
    " ['nsj', 80, 80, 80],\n",
    " ['Wonseob', 70, 70, 90],\n",
    " ['Sanghyun', 70, 70, 80],\n",
    " ['Sei', 70, 70, 70],\n",
    " ['Kangsoo', 60, 80, 100],\n",
    " ['Haebin', 50, 60, 100],\n",
    " ['Junkyu', 50, 60, 100],\n",
    " ['Soong', 50, 60, 90],\n",
    " ['Taewhan', 50, 60, 90]]\n",
    " '''\n",
    "for i in range(len(student)):\n",
    "    print(student[i][0])"
   ]
  }
 ],
 "metadata": {
  "kernelspec": {
   "display_name": "Python 3 (ipykernel)",
   "language": "python",
   "name": "python3"
  },
  "language_info": {
   "codemirror_mode": {
    "name": "ipython",
    "version": 3
   },
   "file_extension": ".py",
   "mimetype": "text/x-python",
   "name": "python",
   "nbconvert_exporter": "python",
   "pygments_lexer": "ipython3",
   "version": "3.9.18"
  }
 },
 "nbformat": 4,
 "nbformat_minor": 5
}
