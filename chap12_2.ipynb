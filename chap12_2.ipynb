{
 "cells": [
  {
   "cell_type": "markdown",
   "id": "34892bc0-4e47-4610-9660-d812f90ccef0",
   "metadata": {},
   "source": [
    "### 문자열 재정렬"
   ]
  },
  {
   "cell_type": "markdown",
   "id": "f117e605-849f-4bc6-9dc1-35ab42fd8fac",
   "metadata": {},
   "source": [
    "+ 알파벳 대문자와 숫자(0 ~ 9)로만 구성된 문자열이 입력으로 주어짐\n",
    "+ 이 때, 모든 알파벳을 오름차순으로 정렬하여 출력한 뒤에, 그 뒤에 모든 숫자를 더한 값을 이어 출력하기\n",
    "\n",
    "**입력 조건**          \n",
    "+ 첫째 줄에 하나의 문자열 S가 주어짐(1<=S의 길이<= 10,000)\n",
    "\n",
    "**출력 조건**   \n",
    "+ 첫째 줄에 문제에서 요구하는 정답 출력\n",
    "\n",
    "**입출력 예시 1**  \n",
    "K1KA5CB7 / ABCKK13  \n",
    "\n",
    "**입출력 예시2**  \n",
    "AJKDLSI412K4JSJ9D / ADDIJJJKKLSS20"
   ]
  },
  {
   "cell_type": "code",
   "execution_count": 33,
   "id": "751338ad-93e7-43ff-8c39-af1552c2d338",
   "metadata": {},
   "outputs": [
    {
     "name": "stdin",
     "output_type": "stream",
     "text": [
      " K1KA5CB7\n"
     ]
    },
    {
     "name": "stdout",
     "output_type": "stream",
     "text": [
      "ABCKK13\n"
     ]
    }
   ],
   "source": [
    "s = str(input())\n",
    "\n",
    "a = 0\n",
    "b = []\n",
    "for i in range(len(s)):\n",
    "    # s[i]가 숫자이면 타입 숫자로 바꿔준 후 a에 더하기\n",
    "    if s[i].isdecimal() == True:\n",
    "        a += int(s[i])\n",
    "    # s[i]가 숫자가 아니라면 빈 리스트에 더해주기\n",
    "    else:\n",
    "        b.append(s[i])\n",
    "\n",
    "b = sorted(b)\n",
    "\n",
    "answer = ''.join(b) + str(a)\n",
    "print(answer)"
   ]
  },
  {
   "cell_type": "code",
   "execution_count": 34,
   "id": "01df3811-cd29-4b61-a410-6fa2f5e05646",
   "metadata": {},
   "outputs": [
    {
     "name": "stdin",
     "output_type": "stream",
     "text": [
      " AJKDLSI412K4JSJ9D\n"
     ]
    },
    {
     "name": "stdout",
     "output_type": "stream",
     "text": [
      "ADDIJJJKKLSS20\n"
     ]
    }
   ],
   "source": [
    "s = str(input())\n",
    "\n",
    "a = 0\n",
    "b = []\n",
    "for i in range(len(s)):\n",
    "    # s[i]가 숫자이면 타입 숫자로 바꿔준 후 a에 더하기\n",
    "    if s[i].isdecimal() == True:\n",
    "        a += int(s[i])\n",
    "    # s[i]가 숫자가 아니라면 빈 리스트에 더해주기\n",
    "    else:\n",
    "        b.append(s[i])\n",
    "\n",
    "b = sorted(b)\n",
    "\n",
    "answer = ''.join(b) + str(a)\n",
    "print(answer)"
   ]
  }
 ],
 "metadata": {
  "kernelspec": {
   "display_name": "Python 3 (ipykernel)",
   "language": "python",
   "name": "python3"
  },
  "language_info": {
   "codemirror_mode": {
    "name": "ipython",
    "version": 3
   },
   "file_extension": ".py",
   "mimetype": "text/x-python",
   "name": "python",
   "nbconvert_exporter": "python",
   "pygments_lexer": "ipython3",
   "version": "3.9.18"
  }
 },
 "nbformat": 4,
 "nbformat_minor": 5
}
