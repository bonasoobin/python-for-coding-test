{
 "cells": [
  {
   "cell_type": "markdown",
   "id": "3ed752c6-6a35-42cf-be45-5b4c8537b115",
   "metadata": {},
   "source": [
    "### 왕실의 나이트"
   ]
  },
  {
   "cell_type": "code",
   "execution_count": 1,
   "id": "737fee5c-efdb-40e8-872a-75a5ae88574b",
   "metadata": {},
   "outputs": [],
   "source": [
    "# 나이트는 말을 타고 있기 때문에 이동을 할 때는 L자 형태로만 이동할 수 있으며 정원 밖으로 나갈 수 없음\n",
    "# 나이트는 특정한 위치에서 다음과 같은 2가지 경우로 이동할 수 있음\n",
    "# 수평으로 두 칸 이동한 뒤에 수직으로 한 칸 이동하기\n",
    "# 수직으로 두 칸 이동한 뒤에 수평으로 한 칸 이동하기\n",
    "\n",
    "# 입력 조건\n",
    "# 첫째 줄에 8 x 8 좌표 평면상에서 현재 나이트가 위치한 곳의 좌표를 나타내는 두 문자로 구성된 문자열 입력됨\n",
    "# 입력 문자는 a1처럼 열과 행으로 이뤄짐\n",
    "\n",
    "# 출력 조건\n",
    "# 첫째 줄에 나이트가 이동할 수 있는 경우의 수 출력하기\n",
    "\n",
    "# 입력 예시 : a1\n",
    "# 출력 예시 : 2"
   ]
  },
  {
   "cell_type": "code",
   "execution_count": 2,
   "id": "8d42bd47-89cf-4972-bc94-0b7f1c6bea56",
   "metadata": {},
   "outputs": [
    {
     "name": "stdin",
     "output_type": "stream",
     "text": [
      " a1\n"
     ]
    }
   ],
   "source": [
    "data = input()"
   ]
  },
  {
   "cell_type": "code",
   "execution_count": 6,
   "id": "99836d6d-74b7-447c-8386-253d33fa4192",
   "metadata": {},
   "outputs": [],
   "source": [
    "d = {'a':1, 'b':2, 'c':3, 'd':4, 'e':5, 'f':6, 'g':7, 'h':8}"
   ]
  },
  {
   "cell_type": "code",
   "execution_count": 11,
   "id": "a328a262-8a9e-4a5c-9268-60e9a9a4b192",
   "metadata": {},
   "outputs": [],
   "source": [
    "move = [(-2,-1),(-2,1),(-1,-2),(-1,2),(1,-2),(1,2),(2,-1),(2,1)]"
   ]
  },
  {
   "cell_type": "code",
   "execution_count": 19,
   "id": "5f9e29fb-362e-41aa-b2fc-bcd7ee1c6650",
   "metadata": {},
   "outputs": [
    {
     "name": "stdout",
     "output_type": "stream",
     "text": [
      "2\n"
     ]
    }
   ],
   "source": [
    "count = 0\n",
    "\n",
    "for i in range(len(move)):\n",
    "    x = d[data[0]] + move[i][0]\n",
    "    y = int(data[1]) + move[i][1]\n",
    "\n",
    "    if (((x>=1) & (x<=8)) & ((y>=1) & (y<=8))) is True:\n",
    "        count += 1\n",
    "print(count)"
   ]
  }
 ],
 "metadata": {
  "kernelspec": {
   "display_name": "Python 3 (ipykernel)",
   "language": "python",
   "name": "python3"
  },
  "language_info": {
   "codemirror_mode": {
    "name": "ipython",
    "version": 3
   },
   "file_extension": ".py",
   "mimetype": "text/x-python",
   "name": "python",
   "nbconvert_exporter": "python",
   "pygments_lexer": "ipython3",
   "version": "3.9.18"
  }
 },
 "nbformat": 4,
 "nbformat_minor": 5
}
