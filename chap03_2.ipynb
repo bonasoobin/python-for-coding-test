{
 "cells": [
  {
   "cell_type": "code",
   "execution_count": 8,
   "id": "eda55487-bac4-4b2c-8f7c-fa1b6fe292b5",
   "metadata": {},
   "outputs": [],
   "source": [
    "### 숫자 카드 게임\n",
    "\n",
    "# 입력 조건\n",
    "# 첫째 줄에 숫자 카드들이 놓인 행의 개수 N과 열의 개수 M이 공백을 기준으로 하여 각각 자연수로 주어짐 (1 <= N, M <= 100)\n",
    "# 둘째 주부터 N개의 줄에 걸쳐 각 카드에 적힌 숫자가 주어진다. 각 숫자는 1 이상 10000 이하의 자연수\n",
    "\n",
    "# 출력 조건\n",
    "# 첫째 줄에 게임의 룰에 맞게 카드에 적힌 숫자를 출력함\n",
    "\n",
    "# 입력 예시 1\n",
    "# 3 3\n",
    "# 3 1 2\n",
    "# 4 1 4\n",
    "# 2 2 2\n",
    "\n",
    "# 입력 예시 2\n",
    "# 2 4 \n",
    "# 7 3 1 8\n",
    "# 3 3 3 4\n"
   ]
  },
  {
   "cell_type": "code",
   "execution_count": 11,
   "id": "896e0a1d-88af-4af0-823e-50a79cb441d6",
   "metadata": {},
   "outputs": [
    {
     "name": "stdin",
     "output_type": "stream",
     "text": [
      " 3 3\n"
     ]
    }
   ],
   "source": [
    "# 입력 예시 1\n",
    "n , m = map(int, input().split())"
   ]
  },
  {
   "cell_type": "code",
   "execution_count": 12,
   "id": "ea4964da-2e97-46fa-90cc-a7a92a84258c",
   "metadata": {},
   "outputs": [
    {
     "name": "stdin",
     "output_type": "stream",
     "text": [
      " 3 1 2\n",
      " 4 1 4\n",
      " 2 2 2\n"
     ]
    },
    {
     "name": "stdout",
     "output_type": "stream",
     "text": [
      "2\n"
     ]
    }
   ],
   "source": [
    "answer = 0\n",
    "minn = []\n",
    "for i in range(n):\n",
    "    data = list(map(int, input().split()))\n",
    "    minn.append(min(data))\n",
    "print(max(minn))"
   ]
  },
  {
   "cell_type": "code",
   "execution_count": 10,
   "id": "87963663-c4ac-4d00-98da-0086bd8c0e36",
   "metadata": {},
   "outputs": [
    {
     "name": "stdin",
     "output_type": "stream",
     "text": [
      " 7\n",
      " 5\n",
      " 4\n"
     ]
    },
    {
     "name": "stdout",
     "output_type": "stream",
     "text": [
      "7\n"
     ]
    }
   ],
   "source": [
    "n , m = map(int, input().split())"
   ]
  },
  {
   "cell_type": "code",
   "execution_count": 3,
   "id": "59a5cc9e-3ac5-4fa8-8632-2e289e7c9815",
   "metadata": {},
   "outputs": [
    {
     "data": {
      "text/plain": [
       "3"
      ]
     },
     "execution_count": 3,
     "metadata": {},
     "output_type": "execute_result"
    }
   ],
   "source": []
  },
  {
   "cell_type": "code",
   "execution_count": null,
   "id": "14657e04-0e24-45df-9491-77ab2cd4cfa5",
   "metadata": {},
   "outputs": [],
   "source": []
  }
 ],
 "metadata": {
  "kernelspec": {
   "display_name": "Python 3 (ipykernel)",
   "language": "python",
   "name": "python3"
  },
  "language_info": {
   "codemirror_mode": {
    "name": "ipython",
    "version": 3
   },
   "file_extension": ".py",
   "mimetype": "text/x-python",
   "name": "python",
   "nbconvert_exporter": "python",
   "pygments_lexer": "ipython3",
   "version": "3.9.18"
  }
 },
 "nbformat": 4,
 "nbformat_minor": 5
}
