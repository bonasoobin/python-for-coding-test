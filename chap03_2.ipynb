{
 "cells": [
  {
   "cell_type": "markdown",
   "id": "531f763d-c3a2-4919-ae56-d85704cbb16c",
   "metadata": {},
   "source": [
    "### 숫자 카드 게임"
   ]
  },
  {
   "cell_type": "code",
   "execution_count": 8,
   "id": "eda55487-bac4-4b2c-8f7c-fa1b6fe292b5",
   "metadata": {},
   "outputs": [],
   "source": [
    "# 가장 높은 숫자가 쓰인 카드 한 장 뽑기\n",
    "\n",
    "# NxM 형태\n",
    "# 먼저 뽑고자 하는 카드가 포함되어 있는 행 선택\n",
    "# 선택된 행에 포함된 카드들 중 가장 숫자가 낮은 카드 뽑기\n",
    "# 카드를 처음 골라낼 행을 선택할 때, 해당 행에서 가장 숫자가 낮은 카드를 뽑을 것을 고려하여 최종적으로 가장 높은 숫자의 카드를 뽑을 수 있도록 전략 짜기\n",
    "\n",
    "# 입력 조건\n",
    "# 첫째 줄에 숫자 카드들이 놓인 행의 개수 N과 열의 개수 M이 공백을 기준으로 하여 각각 자연수로 주어짐 (1 <= N, M <= 100)\n",
    "# 둘째 줄부터 N개의 줄에 걸쳐 각 카드에 적힌 숫자가 주어진다. 각 숫자는 1 이상 10000 이하의 자연수\n",
    "\n",
    "# 출력 조건\n",
    "# 첫째 줄에 게임의 룰에 맞게 카드에 적힌 숫자를 출력함\n",
    "\n",
    "# 입력 예시 1\n",
    "# 3 3\n",
    "# 3 1 2\n",
    "# 4 1 4\n",
    "# 2 2 2\n",
    "\n",
    "# 입력 예시 2\n",
    "# 2 4 \n",
    "# 7 3 1 8\n",
    "# 3 3 3 4"
   ]
  },
  {
   "cell_type": "code",
   "execution_count": 1,
   "id": "896e0a1d-88af-4af0-823e-50a79cb441d6",
   "metadata": {},
   "outputs": [
    {
     "name": "stdin",
     "output_type": "stream",
     "text": [
      " 3 3\n",
      " 3 1 2\n",
      " 4 1 4\n",
      " 2 2 2\n"
     ]
    },
    {
     "name": "stdout",
     "output_type": "stream",
     "text": [
      "2\n"
     ]
    }
   ],
   "source": [
    "# 입력 예시 1\n",
    "n , m = map(int, input().split())\n",
    "\n",
    "answer = 0\n",
    "minn = []\n",
    "for i in range(n):\n",
    "    data = list(map(int, input().split()))\n",
    "    minn.append(min(data))\n",
    "print(max(minn))"
   ]
  },
  {
   "cell_type": "code",
   "execution_count": 2,
   "id": "ea4964da-2e97-46fa-90cc-a7a92a84258c",
   "metadata": {},
   "outputs": [
    {
     "name": "stdin",
     "output_type": "stream",
     "text": [
      " 2 4\n",
      " 7 3 1 8\n",
      " 3 3 3 4\n"
     ]
    },
    {
     "name": "stdout",
     "output_type": "stream",
     "text": [
      "3\n"
     ]
    }
   ],
   "source": [
    "# 입력 예시 2\n",
    "n , m = map(int, input().split())\n",
    "\n",
    "answer = 0\n",
    "minn = []\n",
    "for i in range(n):\n",
    "    data = list(map(int, input().split()))\n",
    "    minn.append(min(data))\n",
    "print(max(minn))"
   ]
  }
 ],
 "metadata": {
  "kernelspec": {
   "display_name": "Python 3 (ipykernel)",
   "language": "python",
   "name": "python3"
  },
  "language_info": {
   "codemirror_mode": {
    "name": "ipython",
    "version": 3
   },
   "file_extension": ".py",
   "mimetype": "text/x-python",
   "name": "python",
   "nbconvert_exporter": "python",
   "pygments_lexer": "ipython3",
   "version": "3.9.18"
  }
 },
 "nbformat": 4,
 "nbformat_minor": 5
}
