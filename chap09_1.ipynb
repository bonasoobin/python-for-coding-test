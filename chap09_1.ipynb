{
 "cells": [
  {
   "cell_type": "markdown",
   "id": "2c0e7bcc",
   "metadata": {},
   "source": [
    "### 미래도시"
   ]
  },
  {
   "cell_type": "markdown",
   "id": "4fe4e951",
   "metadata": {},
   "source": [
    "+ 많은 회사가 모여 있는 공중 미래 도시\n",
    "+ 공중 미래 도시에는 1번부터 N번까지의 회사가 있는데 특정 회사끼리는 서로 도로를 통해 연결되어있음\n",
    "+ 현재 1번 회사에 위치해 있으며, X번 회사에 방문해 물건을 판매하고자 함\n",
    "+ 특정 회사에 도착하기 위한 방법 : 회사끼리 연결되어 있는 도로를 이용하기\n",
    "+ 연결된 2개의 회사는 양방향으로 이동할 수 있음\n",
    "+ 특정 회사와 다른 회사가 도로로 연결되어 있다면, 정확히 1만큼의 시간으로 이동 가능  "
   ]
  },
  {
   "cell_type": "markdown",
   "id": "8605b531",
   "metadata": {},
   "source": [
    "+ 1번 회사에서 출발해 K번 회사를 방문한 후 X번 회사로 가는 것이 목표\n",
    "+ 가능한 한 빠르게 이동하고자 함\n",
    "+ 회사 사이를 이동하게 되는 최소 시간을 계산하는 프로그램 작성하기"
   ]
  },
  {
   "cell_type": "markdown",
   "id": "d574d605",
   "metadata": {},
   "source": [
    "**예시**  \n",
    "N = 5, X = 4, K = 5이고 회사 간 도로가 7개이면서 아래와 같이 연결되어 있을 때  \n",
    "(1,2), (1,3), (1,4), (2,4), (3,4), (3,5), (4,5)  \n",
    "최종적으로 4번 회사에 가는 경로를 1-3-5-4으로 설정하면 3만큼의 시간으로 이동할 수 있음"
   ]
  },
  {
   "cell_type": "markdown",
   "id": "b05f00c6",
   "metadata": {},
   "source": [
    "**입력 조건**  \n",
    "첫째 줄에 전체 회사의 개수 N과 경로의 개수 M이 공백으로 구분되어 차례대로 주어짐(1 <= N, M <= 100)  \n",
    "둘째 줄부터 M+1번째 줄에는 연결된 두 회사의 번호가 공백으로 구분되어 주어짐  \n",
    "M+2번째 줄에는 X와 K가 공백으로 구분되어 차례대로 주어짐(1 <= K <= 100)"
   ]
  },
  {
   "cell_type": "markdown",
   "id": "62f80dc5",
   "metadata": {},
   "source": [
    "**출력 조건**  \n",
    "첫째 줄에 방문 판매원 A가 K번 회사를 거쳐 X번 회사로 가는 최소 이동 시간 출력하기  \n",
    "만약 X번 회사에 도달할 수 없다면 -1 출력"
   ]
  },
  {
   "cell_type": "markdown",
   "id": "71e4600b",
   "metadata": {},
   "source": [
    "**입력 예시1**  \n",
    "5 7  \n",
    "1 2  \n",
    "1 3  \n",
    "1 4  \n",
    "2 4  \n",
    "3 4  \n",
    "3 5  \n",
    "4 5  \n",
    "4 5  \n",
    "\n",
    "**출력 예시1**  \n",
    "3"
   ]
  },
  {
   "cell_type": "markdown",
   "id": "3ce89a51",
   "metadata": {},
   "source": [
    "**입력 예시2**  \n",
    "4 2  \n",
    "1 3  \n",
    "2 4  \n",
    "3 4  \n",
    "\n",
    "**출력 예시2**  \n",
    "-1"
   ]
  },
  {
   "cell_type": "code",
   "execution_count": 9,
   "id": "9ddfe11c",
   "metadata": {},
   "outputs": [
    {
     "name": "stdout",
     "output_type": "stream",
     "text": [
      "5 7\n",
      "1 2\n",
      "1 3\n",
      "1 4\n",
      "2 4\n",
      "3 4\n",
      "3 5\n",
      "4 5\n",
      "4 5\n"
     ]
    }
   ],
   "source": [
    "n, m = map(int, input().split())\n",
    "\n",
    "route = []\n",
    "for i in range(m):\n",
    "    route.append(list(map(int, input().split())))\n",
    "    \n",
    "x, k = map(int, input().split())"
   ]
  },
  {
   "cell_type": "code",
   "execution_count": 51,
   "id": "8186da42",
   "metadata": {},
   "outputs": [
    {
     "data": {
      "text/plain": [
       "[[1, 2], [1, 3], [1, 4], [2, 4], [3, 4], [3, 5], [4, 5]]"
      ]
     },
     "execution_count": 51,
     "metadata": {},
     "output_type": "execute_result"
    }
   ],
   "source": [
    "route = [[1, 2], [1, 3], [1, 4], [2, 4], [3, 4], [3, 5], [4, 5]]\n",
    "route"
   ]
  },
  {
   "cell_type": "code",
   "execution_count": 52,
   "id": "2df17bf5",
   "metadata": {},
   "outputs": [
    {
     "data": {
      "text/plain": [
       "[[1, 2],\n",
       " [1, 3],\n",
       " [1, 4],\n",
       " [2, 4],\n",
       " [3, 4],\n",
       " [3, 5],\n",
       " [4, 5],\n",
       " [2, 1],\n",
       " [3, 1],\n",
       " [4, 1],\n",
       " [4, 2],\n",
       " [4, 3],\n",
       " [5, 3],\n",
       " [5, 4]]"
      ]
     },
     "execution_count": 52,
     "metadata": {},
     "output_type": "execute_result"
    }
   ],
   "source": [
    "# 양방향이니까 반대로도 추가\n",
    "route += [list(reversed(sublist)) for sublist in route]\n",
    "route"
   ]
  },
  {
   "cell_type": "code",
   "execution_count": 53,
   "id": "6d43ef63",
   "metadata": {},
   "outputs": [],
   "source": [
    "# 시작점 1인거 구하기\n",
    "route_start1 = []\n",
    "count = 0\n",
    "for i in range(len(route)):\n",
    "    if route[i][0] == 1:\n",
    "        route_start1.append(route[i])        "
   ]
  },
  {
   "cell_type": "code",
   "execution_count": 54,
   "id": "ec781fa1",
   "metadata": {},
   "outputs": [
    {
     "data": {
      "text/plain": [
       "[[1, 2], [1, 3], [1, 4]]"
      ]
     },
     "execution_count": 54,
     "metadata": {},
     "output_type": "execute_result"
    }
   ],
   "source": [
    "route_start1"
   ]
  },
  {
   "cell_type": "code",
   "execution_count": 63,
   "id": "976e4835",
   "metadata": {},
   "outputs": [
    {
     "name": "stdout",
     "output_type": "stream",
     "text": [
      "[[1, 3, 5], [1, 3, 4], [1, 4, 3], [1, 4, 2], [1, 4, 5], [1, 2, 4]]\n"
     ]
    }
   ],
   "source": [
    "# 이어지는 것 구하기\n",
    "result = []\n",
    "\n",
    "for i in route_start1:\n",
    "    for j in route:\n",
    "        if i[1] == j[0]:\n",
    "            result.append([i[0], i[1], j[1]])\n",
    "\n",
    "result = list(set(map(tuple, result)))\n",
    "\n",
    "result = [list(item) for item in result]\n",
    "\n",
    "# 다시 1로 돌아가는 것 제외\n",
    "result = [item for item in result if item[0] != item[2]]\n",
    "print(result)\n"
   ]
  },
  {
   "cell_type": "code",
   "execution_count": 64,
   "id": "64987c1e",
   "metadata": {},
   "outputs": [
    {
     "name": "stdout",
     "output_type": "stream",
     "text": [
      "[[1, 3, 5]]\n"
     ]
    }
   ],
   "source": [
    "# k로 끝나는 것 구하기\n",
    "result = [i for i in result if i[-1] == k and all(val != 4 for val in i[1:-1])]\n",
    "print(result)"
   ]
  },
  {
   "cell_type": "code",
   "execution_count": 65,
   "id": "36adfa01",
   "metadata": {},
   "outputs": [
    {
     "data": {
      "text/plain": [
       "[[1, 3, 5, 4]]"
      ]
     },
     "execution_count": 65,
     "metadata": {},
     "output_type": "execute_result"
    }
   ],
   "source": [
    "# k에서 x로 가는 것이 있다면 x 추가\n",
    "if [k, x] in route:\n",
    "    result = [i + [x] for i in result]\n",
    "result"
   ]
  },
  {
   "cell_type": "code",
   "execution_count": 67,
   "id": "34dc6a3a",
   "metadata": {},
   "outputs": [
    {
     "name": "stdout",
     "output_type": "stream",
     "text": [
      "3\n"
     ]
    }
   ],
   "source": [
    "min_len = min(len(i) for i in result) -1\n",
    "print(min_len)"
   ]
  },
  {
   "cell_type": "code",
   "execution_count": null,
   "id": "4b608f0d",
   "metadata": {},
   "outputs": [],
   "source": []
  },
  {
   "cell_type": "code",
   "execution_count": 68,
   "id": "dbb80070",
   "metadata": {},
   "outputs": [
    {
     "name": "stdout",
     "output_type": "stream",
     "text": [
      "4 2\n",
      "1 3\n",
      "2 4\n",
      "3 4\n",
      "-1\n"
     ]
    }
   ],
   "source": [
    "n, m = map(int, input().split())\n",
    "\n",
    "route = []\n",
    "for i in range(m):\n",
    "    route.append(list(map(int, input().split())))\n",
    "    \n",
    "x, k = map(int, input().split())\n",
    "\n",
    "# 양방향이니까 반대로도 추가\n",
    "route += [list(reversed(sublist)) for sublist in route]\n",
    "\n",
    "# 시작점 1인거 구하기\n",
    "route_start1 = []\n",
    "count = 0\n",
    "for i in range(len(route)):\n",
    "    if route[i][0] == 1:\n",
    "        route_start1.append(route[i])        \n",
    "\n",
    "# 이어지는 것 구하기\n",
    "result = []\n",
    "\n",
    "for i in route_start1:\n",
    "    for j in route:\n",
    "        if i[1] == j[0]:\n",
    "            result.append([i[0], i[1], j[1]])\n",
    "\n",
    "result = list(set(map(tuple, result)))\n",
    "\n",
    "result = [list(item) for item in result]\n",
    "\n",
    "# 다시 1로 돌아가는 것 제외\n",
    "result = [item for item in result if item[0] != item[2]]\n",
    "\n",
    "# k로 끝나는 것 구하기\n",
    "result = [i for i in result if i[-1] == k and all(val != 4 for val in i[1:-1])]\n",
    "\n",
    "# k에서 x로 가는 것이 있다면 x 추가\n",
    "if [k, x] in route:\n",
    "    result = [i + [x] for i in result]\n",
    "    min_len = min(len(i) for i in result) -1\n",
    "    print(min_len)\n",
    "else:\n",
    "    print(-1)"
   ]
  }
 ],
 "metadata": {
  "kernelspec": {
   "display_name": "Python 3 (ipykernel)",
   "language": "python",
   "name": "python3"
  },
  "language_info": {
   "codemirror_mode": {
    "name": "ipython",
    "version": 3
   },
   "file_extension": ".py",
   "mimetype": "text/x-python",
   "name": "python",
   "nbconvert_exporter": "python",
   "pygments_lexer": "ipython3",
   "version": "3.11.5"
  }
 },
 "nbformat": 4,
 "nbformat_minor": 5
}
