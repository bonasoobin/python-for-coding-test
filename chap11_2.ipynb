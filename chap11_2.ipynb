{
 "cells": [
  {
   "cell_type": "markdown",
   "id": "2eb117c1-533f-4b10-828f-c5d41f76df18",
   "metadata": {},
   "source": [
    "### 곱하기 혹은 더하기"
   ]
  },
  {
   "cell_type": "markdown",
   "id": "a27b3661-ce9e-4081-84f8-ae4f4c3c184f",
   "metadata": {},
   "source": [
    "+ 각 자리가 숫자 (0부터 9)로만 이루어진 문자열 S가 주어짐\n",
    "+ 왼쪽부터 오른쪽으로 하나씩 모든 숫자를 확인하며 숫자 사이에 'x' 혹은 '+' 연산자를 넣어 가장 큰 수를 구하는 프로그램 작성\n",
    "+ 단, +보다 x를 먼저 계산하는 일반적인 방식과는 달리, 모든 연산은 왼쪽부터 순서대로 이루어짐\n",
    "\n",
    "**예시**   \n",
    "02984라는 숫자 주어짐 -> 만들어질 수 있는 가장 큰수는 ((((0+2)x9)x8)x4)로 576\n",
    "만들어질 수 있는 가장 큰 수는 항상 20억 이하의 정수가 되도록 입력이 주어짐\n",
    "\n",
    "**입력 조건**   \n",
    "첫째 줄에 여러 개의 숫자로 구성된 하나의 문자열 S가 주어짐 (1<=S의 길이<= 20)\n",
    "\n",
    "**출력 조건**     \n",
    "첫째 줄에 만들어질 수 있는 가장 큰 수 출력\n",
    " \n",
    "**입출력 예시 1**     \n",
    "02984 / 576\n",
    "\n",
    "**입출력 예시 2**  \n",
    "567 / 210"
   ]
  },
  {
   "cell_type": "code",
   "execution_count": 4,
   "id": "a7211e03-c797-4ba2-81c3-6d38bd5534ef",
   "metadata": {},
   "outputs": [
    {
     "name": "stdin",
     "output_type": "stream",
     "text": [
      " 02984\n"
     ]
    },
    {
     "name": "stdout",
     "output_type": "stream",
     "text": [
      "576\n",
      "실행 시간: 0.0 초\n"
     ]
    }
   ],
   "source": [
    "# 숫자 입력받아서 한자리씩 쪼개기\n",
    "n = int(input())\n",
    "num_list = list(map(int, str(n)))\n",
    "\n",
    "import time \n",
    "start_time = time.time()  # 시작 시간 \n",
    "\n",
    "answer = 0\n",
    "for i in range(len(num_list)-1):    # 처음엔 첫번째 숫자랑 두번째 숫자가지고 연산할거니까 len(num_list)-1\n",
    "    if i == 0:                                       # 제일 처음 연산할 때\n",
    "        if num_list[i] == 0 | num_list[i+1] == 0:    # 첫번째,두번째 숫자 둘 중에 하나라도 0이면\n",
    "            answer = num_list[i] + num_list[i+1]     # answer = 두 숫자 더한 값\n",
    "        else:                                        # 둘 다 0 아니면 \n",
    "            answer = num_list[i] * num_list[i+1]     # answer = 두 숫자 곱한 값\n",
    "    else:                                            # 연산 두번째부터는\n",
    "        if answer == 0 | num_list[i+1] == 0:         # 두 숫자 더한값이나 곱한값이 0이거나 세번째 숫자가 0이면\n",
    "            answer += num_list[i+1]                  # answer += 세번째 숫자\n",
    "        else:\n",
    "            answer *= num_list[i+1]                  # answer *= 세번째 숫자 ~ 이렇게 끝까지하기\n",
    " \n",
    "print(answer)\n",
    "\n",
    "end_time = time.time()  # 종료 시간 \n",
    "# 실행 시간 출력\n",
    "running_time = end_time - start_time\n",
    "print(f\"실행 시간: {running_time} 초\")"
   ]
  },
  {
   "cell_type": "code",
   "execution_count": 6,
   "id": "a2d9ce65-dc59-4b2a-a6bd-a4916b42d8b3",
   "metadata": {},
   "outputs": [
    {
     "name": "stdin",
     "output_type": "stream",
     "text": [
      " 567\n"
     ]
    },
    {
     "name": "stdout",
     "output_type": "stream",
     "text": [
      "210\n",
      "실행 시간: 0.0 초\n"
     ]
    }
   ],
   "source": [
    "# 숫자 입력받아서 한자리씩 쪼개기\n",
    "n = int(input())\n",
    "num_list = list(map(int, str(n)))\n",
    "\n",
    "import time \n",
    "start_time = time.time()  # 시작 시간 \n",
    "\n",
    "answer = 0\n",
    "for i in range(len(num_list)-1):    # 처음엔 첫번째 숫자랑 두번째 숫자가지고 연산할거니까 len(num_list)-1\n",
    "    if i == 0:                                       # 제일 처음 연산할 때\n",
    "        if num_list[i] == 0 | num_list[i+1] == 0:    # 첫번째,두번째 숫자 둘 중에 하나라도 0이면\n",
    "            answer = num_list[i] + num_list[i+1]     # answer = 두 숫자 더한 값\n",
    "        else:                                        # 둘 다 0 아니면 \n",
    "            answer = num_list[i] * num_list[i+1]     # answer = 두 숫자 곱한 값\n",
    "    else:                                            # 연산 두번째부터는\n",
    "        if answer == 0 | num_list[i+1] == 0:         # 두 숫자 더한값이나 곱한값이 0이거나 세번째 숫자가 0이면\n",
    "            answer += num_list[i+1]                  # answer += 세번째 숫자\n",
    "        else:\n",
    "            answer *= num_list[i+1]                  # answer *= 세번째 숫자 ~ 이렇게 끝까지하기\n",
    " \n",
    "print(answer)\n",
    "\n",
    "end_time = time.time()  # 종료 시간 \n",
    "# 실행 시간 출력\n",
    "running_time = end_time - start_time\n",
    "print(f\"실행 시간: {running_time} 초\")"
   ]
  }
 ],
 "metadata": {
  "kernelspec": {
   "display_name": "Python 3 (ipykernel)",
   "language": "python",
   "name": "python3"
  },
  "language_info": {
   "codemirror_mode": {
    "name": "ipython",
    "version": 3
   },
   "file_extension": ".py",
   "mimetype": "text/x-python",
   "name": "python",
   "nbconvert_exporter": "python",
   "pygments_lexer": "ipython3",
   "version": "3.9.18"
  }
 },
 "nbformat": 4,
 "nbformat_minor": 5
}
