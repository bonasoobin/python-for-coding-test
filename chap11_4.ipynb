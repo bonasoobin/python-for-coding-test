{
 "cells": [
  {
   "cell_type": "markdown",
   "id": "9705ca8c-78db-43bd-bd97-410d959949ef",
   "metadata": {},
   "source": [
    "### 만들 수 없는 금액"
   ]
  },
  {
   "cell_type": "markdown",
   "id": "cef67eab-76bb-4918-8c57-91145af772a7",
   "metadata": {},
   "source": [
    "+ N개의 동전 가지고 있음  \n",
    "+ N개의 동전을 이용하여 만들 수 없는 양의 정수 금액 중 최솟값을 구하는 프로그램 작성하기\n",
    "\n",
    "**예시 1**   \n",
    "N = 5일 때,    \n",
    " 각 동전이 각각 3원, 2원, 1원, 1원, 9원짜리 동전이라 가정하기   \n",
    " 이 때, 만들 수 없는 양의 정수 금액 중 최솟값은 8원\n",
    "\n",
    "**예시 2**   \n",
    "N = 3일 때,  \n",
    " 각 동전이 각각 3원, 5원, 7원짜리 동전이라 가정하기    \n",
    " 이 때, 만들 수 없는 양의 정수 금액 중 최솟값은 1원  \n",
    "\n",
    "**입력 조건**     \n",
    "첫째 줄에 동전의 개수를 나타내는 양의 정수 N이 주어짐(1<=N<=1000)  \n",
    "둘째 줄에 각 동전의 화폐 단위를 나타내는 N개의 자연수가 주어짐(각 자연수를 공백으로 구분, 각 화폐 단위 1000000 이하의 자연수)\n",
    "    \n",
    "**출력 조건**       \n",
    "첫째 줄에 주어진 동전들로 만들 수 없는 양의 정수 금액 중 최솟값 출력\n",
    " \n",
    "**입력 예시**       \n",
    "5  \n",
    "3 2 1 1 9\n",
    "\n",
    "**출력 예시**  \n",
    "8"
   ]
  },
  {
   "cell_type": "code",
   "execution_count": 49,
   "id": "eee3b9c9-249c-479e-8377-c1df6cf2f8cb",
   "metadata": {},
   "outputs": [
    {
     "name": "stdin",
     "output_type": "stream",
     "text": [
      " 5\n",
      " 3 2 1 1 9\n"
     ]
    },
    {
     "name": "stdout",
     "output_type": "stream",
     "text": [
      "8\n",
      "실행 시간: 0.0010023117065429688 초\n"
     ]
    }
   ],
   "source": [
    "import itertools\n",
    "\n",
    "n = int(input())\n",
    "num_list = sorted(map(int, input().split()))\n",
    "\n",
    "import time \n",
    "start_time = time.time()  # 시작 시간 \n",
    "\n",
    "a = []\n",
    "# nCr 조합 형태로 i개씩 뽑아서 더한 후 빈 리스트에 저장\n",
    "for i in range(1,len(num_list)+1):\n",
    "    nCr = itertools.combinations(num_list, i)\n",
    "    result = [sum(pair) for pair in nCr]\n",
    "    result = list(set(result))\n",
    "    for j in range(len(result)):\n",
    "        a.append(result[j])\n",
    "# 리스트 중복 제거 / 리스트로 만들기 / 정렬\n",
    "a = sorted(list(set(a)))\n",
    "\n",
    "# 최솟값 구하기\n",
    "min_value = 1\n",
    "# 1에서 1씩 더했을 때 리스트에 없는 값이면 최솟값\n",
    "for i in range(len(a)):\n",
    "    if a[i] != min_value:\n",
    "        break\n",
    "    else:\n",
    "        min_value += 1\n",
    "     \n",
    "print(min_value)\n",
    "\n",
    "\n",
    "end_time = time.time()  # 종료 시간 \n",
    "# 실행 시간 출력\n",
    "running_time = end_time - start_time\n",
    "print(f\"실행 시간: {running_time} 초\")"
   ]
  }
 ],
 "metadata": {
  "kernelspec": {
   "display_name": "Python 3 (ipykernel)",
   "language": "python",
   "name": "python3"
  },
  "language_info": {
   "codemirror_mode": {
    "name": "ipython",
    "version": 3
   },
   "file_extension": ".py",
   "mimetype": "text/x-python",
   "name": "python",
   "nbconvert_exporter": "python",
   "pygments_lexer": "ipython3",
   "version": "3.9.18"
  }
 },
 "nbformat": 4,
 "nbformat_minor": 5
}
