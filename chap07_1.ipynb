{
 "cells": [
  {
   "cell_type": "markdown",
   "id": "def858da-9f03-4b45-b494-d0918190c363",
   "metadata": {},
   "source": [
    "### 부품 찾기"
   ]
  },
  {
   "cell_type": "code",
   "execution_count": 1,
   "id": "b1a5d593-9404-46ca-8101-18122ad664da",
   "metadata": {},
   "outputs": [],
   "source": [
    "# N개의 부품, M개 종류의 부품\n",
    "\n",
    "# 입력 조건\n",
    "# 첫째 줄에 정수 N이 주어짐 (1<=N<=1000000)\n",
    "# 둘째 줄에 공백으로 구분하여 N개의 정수가 주어짐 (1<=정수<=1000000)\n",
    "# 셋째 줄에 정수 M이 주어짐 (1<=M<=100000)\n",
    "# 넷째 줄에 공백으로 구분하여 M개의 정수가 주어짐 (1<=정수<=1000000)\n",
    "\n",
    "# 출력 조건\n",
    "# 첫째 줄에 공백으로 구분하여 각 부품이 존재하면 yes를, 없으면 no 출력\n",
    "\n",
    "# 입력 예시\n",
    "# 5\n",
    "# 8 3 7 9 2\n",
    "# 3\n",
    "# 5 7 9\n",
    "\n",
    "# 출력 예시\n",
    "# no yes yes"
   ]
  },
  {
   "cell_type": "code",
   "execution_count": 37,
   "id": "4a0a7cdf-b101-4520-98c7-25ba65345721",
   "metadata": {},
   "outputs": [
    {
     "name": "stdin",
     "output_type": "stream",
     "text": [
      " 5\n",
      " 8 3 7 9 2\n",
      " 3\n",
      " 5 7 9\n"
     ]
    },
    {
     "name": "stdout",
     "output_type": "stream",
     "text": [
      "no yes yes "
     ]
    }
   ],
   "source": [
    "# n 입력받기\n",
    "n = int(input())\n",
    "\n",
    "# n개의 정수 입력받기\n",
    "nlist = list(map(int, input().split()))\n",
    "\n",
    "# m 입력받기\n",
    "m = int(input())\n",
    "\n",
    "# m개의 정수 입력받기\n",
    "mlist = list(map(int, input().split()))\n",
    "\n",
    "# for문 돌리기\n",
    "for i in mlist:                      # mlist 개수만큼 for문 돌리기\n",
    "    count = 0                        # count = 0으로 초기화\n",
    "    for j in nlist:                  # nlist 개수만큼 for문 돌리기\n",
    "        if i == j:                   # 만약 nlist의 i와 mlist의 j가 같다면\n",
    "            count += 1               # count 1증가\n",
    "    \n",
    "    if count == 1:                   # 만약 count가 1이라면\n",
    "        print('yes', end = ' ')      # 부품이 존재한다는 뜻이니까 yes 출력\n",
    "    else:                            # count가 1이 아니라면\n",
    "        print('no', end = ' ')       # 부품이 존재하지 않으니까 no출력"
   ]
  }
 ],
 "metadata": {
  "kernelspec": {
   "display_name": "Python 3 (ipykernel)",
   "language": "python",
   "name": "python3"
  },
  "language_info": {
   "codemirror_mode": {
    "name": "ipython",
    "version": 3
   },
   "file_extension": ".py",
   "mimetype": "text/x-python",
   "name": "python",
   "nbconvert_exporter": "python",
   "pygments_lexer": "ipython3",
   "version": "3.9.18"
  }
 },
 "nbformat": 4,
 "nbformat_minor": 5
}
