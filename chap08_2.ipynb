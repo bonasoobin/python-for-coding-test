{
 "cells": [
  {
   "cell_type": "markdown",
   "id": "d07861f8",
   "metadata": {},
   "source": [
    "### 개미전사"
   ]
  },
  {
   "cell_type": "markdown",
   "id": "5f2aaa0b",
   "metadata": {},
   "source": [
    "+ 여러 개의 식량창고가 있으며 식량창고는 일직선으로 이어져 있음\n",
    "+ 각 식량창고에는 정해진 수의 식량을 저장하고 있으며 개미 전사는 식량 창고를 선택적으로 약탈하여 식량을 빼앗을 예정\n",
    "+ 메뚜기 정찰병들은 일직선상에 존재하는 식량창고 중에서 서로 인접한 식량창고가 공격받으면 바로 알아챌 수 있음\n",
    "+ 개미 전사가 정찰병에게 들키지 않고 식량창고를 약탈하기 위해서는 최소한 한 칸 이상 떨어진 식량창고를 약탈해야 함\n",
    "\n",
    "**예시**    \n",
    "{1, 3, 1, 5}  \n",
    "개미 전사는 두 번째 식량창고와 네 번째 식량창고를 선택했을 때 최댓값인 총 8개의 식량을 빼앗을 수 있음  \n",
    "개미 전사는 식량창고가 이렇게 일직선상일 때 최대한 많은 식량을 얻기를 원함\n",
    "\n",
    "+ 개미 전사를 위해 식량창고 N개에 대한 정보가 주어졌을 때 얻을 수 있는 식량의 최댓값을 구하는 프로그램을 작성하기\n",
    "\n",
    "**입력 조건**  \n",
    "+ 첫째 줄에 식량창고의 개수 N이 주어짐(3 <= N <= 100)\n",
    "+ 둘째 줄에 공백으로 구분되어 각 식량창고에 저장된 식량의 개수 K가 주어짐(0 <= K <= 1,000)\n",
    "\n",
    "**출력 조건**  \n",
    "+ 첫째 줄에 개미 전사가 얻을 수 있는 식량의 최댓값을 출력하시오\n",
    "\n",
    "**입력 예시**  \n",
    "4  \n",
    "1 3 1 5   \n",
    "\n",
    "**출력 예시**  \n",
    "8  "
   ]
  },
  {
   "cell_type": "code",
   "execution_count": 18,
   "id": "c172a7ad",
   "metadata": {},
   "outputs": [
    {
     "name": "stdout",
     "output_type": "stream",
     "text": [
      "4\n",
      "1 3 1 5\n",
      "8\n"
     ]
    }
   ],
   "source": [
    "import itertools\n",
    "\n",
    "n = int(input())\n",
    "k = list(map(int, input().split()))\n",
    "\n",
    "num = []\n",
    "for i in range(len(k)):\n",
    "    num.append(i)\n",
    "\n",
    "# nCr 조합 형태로 2개씩 뽑기\n",
    "nCr = itertools.combinations(num, 2)\n",
    "\n",
    "# 바로 옆에 창고 아니면 진짜 리스트에 추가해주기\n",
    "com = []\n",
    "for c in nCr:\n",
    "    if abs(c[0] - c[1]) != 1:\n",
    "        com.append(c)\n",
    "#print(com) # [(0, 2), (0, 3), (1, 3)]\n",
    "\n",
    "# 최댓값 바꿔주기\n",
    "max = 0\n",
    "for i in range(len(com)):\n",
    "    if (k[com[i][0]] + k[com[i][1]]) > max:\n",
    "        max = k[com[i][0]] + k[com[i][1]]\n",
    "print(max)"
   ]
  }
 ],
 "metadata": {
  "kernelspec": {
   "display_name": "Python 3 (ipykernel)",
   "language": "python",
   "name": "python3"
  },
  "language_info": {
   "codemirror_mode": {
    "name": "ipython",
    "version": 3
   },
   "file_extension": ".py",
   "mimetype": "text/x-python",
   "name": "python",
   "nbconvert_exporter": "python",
   "pygments_lexer": "ipython3",
   "version": "3.11.5"
  }
 },
 "nbformat": 4,
 "nbformat_minor": 5
}
