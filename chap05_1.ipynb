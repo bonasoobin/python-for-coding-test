{
 "cells": [
  {
   "cell_type": "markdown",
   "id": "8f019fbd-c4a6-4663-9005-b10d7b248b51",
   "metadata": {},
   "source": [
    "### 음료수 얼려 먹기"
   ]
  },
  {
   "cell_type": "code",
   "execution_count": 1,
   "id": "17815bb6-69de-4bab-a8db-a6a080830bc2",
   "metadata": {},
   "outputs": [],
   "source": [
    "# NxM 크기의 얼음 틀 (구멍이 뚫려 있는 부분은 0, 칸막이가 존재하는 부분은 1로 표시)\n",
    "# 구멍이 뚫려 있는 부분끼리 상하좌우로 붙어있는 경우 서로 연결되어 있는 것으로 간주\n",
    "# 얼음 틀의 모양이 주어졌을 때 생성되는 총 아이스크림의 개수를 구하는 프로그램 작성하기\n",
    "\n",
    "# 입력 조건\n",
    "# 첫 번째 줄에 얼음 틀의 세로 길이 N과 가로 길이 M이 주어짐(1<= N,M <= 1000)\n",
    "# 두 번째 줄부터 N+1번째 줄까지 얼음 틀의 형태가 주어짐\n",
    "# 이때 구멍이 뚫려있는 부분은 0, 그렇지 않은 부분은 1\n",
    "\n",
    "# 출력 조건\n",
    "# 한 번에 만들 수 있는 아이스크림의 개수를 출력\n",
    "\n",
    "# 입력 예시\n",
    "# 15 14\n",
    "# 00000111100000\n",
    "# 11111101111110\n",
    "# 11011101101110\n",
    "# 11011101100000\n",
    "# 11011111111111\n",
    "# 11011111111100\n",
    "# 11000000011111\n",
    "# 01111111111111\n",
    "# 00000000011111\n",
    "# 01111111111000\n",
    "# 00011111111000\n",
    "# 00000001111000\n",
    "# 11111111110011\n",
    "# 11100011111111\n",
    "# 11100011111111\n",
    "\n",
    "# 출력 예시 8"
   ]
  },
  {
   "cell_type": "code",
   "execution_count": 24,
   "id": "436040fc-4686-462f-8a79-160fe9bb0e17",
   "metadata": {},
   "outputs": [
    {
     "name": "stdin",
     "output_type": "stream",
     "text": [
      " 15 14\n",
      " 00000111100000\n",
      " 11111101111110\n",
      " 11011101101110\n",
      " 11011101100000\n",
      " 11011111111111\n",
      " 11011111111100\n",
      " 11000000011111\n",
      " 01111111111111\n",
      " 00000000011111\n",
      " 01111111111000\n",
      " 00011111111000\n",
      " 00000001111000\n",
      " 11111111110011\n",
      " 11100011111111\n",
      " 11100011111111\n"
     ]
    },
    {
     "name": "stdout",
     "output_type": "stream",
     "text": [
      "8\n"
     ]
    }
   ],
   "source": [
    "n, m = map(int, input().split())\n",
    "\n",
    "frame = []\n",
    "for _ in range(n):\n",
    "    a = list(map(int, input()))\n",
    "    frame.append(a)\n",
    "\n",
    "\n",
    "def dfs(x,y):\n",
    "    # x,y 좌표가 0보다 작거나같거나 입력받은 값보다 크거나같으면 False 반환\n",
    "    if (x<=-1) or (x>=n) or (y<=-1) or (y>=m):\n",
    "        return False\n",
    "        \n",
    "    # frame[x][y]가 0이면 (흔적 없었으면) 1로 바꿔주기\n",
    "    if frame[x][y] == 0:\n",
    "        frame[x][y] = 1\n",
    "\n",
    "        # 상하좌우도 재귀함수 호출\n",
    "        dfs(x-1,y)\n",
    "        dfs(x+1,y)\n",
    "        dfs(x,y-1)\n",
    "        dfs(x,y+1)\n",
    "\n",
    "        # 이제 왔다 간 흔적 있으니까 True로 바꿔주기\n",
    "        return True\n",
    "    return False\n",
    "\n",
    "\n",
    "count = 0\n",
    "for i in range(n):\n",
    "    for j in range(m):\n",
    "        # True일때는 count 하나 늘려주기\n",
    "        if dfs(i,j) is True:\n",
    "            count += 1\n",
    "print(count)"
   ]
  }
 ],
 "metadata": {
  "kernelspec": {
   "display_name": "Python 3 (ipykernel)",
   "language": "python",
   "name": "python3"
  },
  "language_info": {
   "codemirror_mode": {
    "name": "ipython",
    "version": 3
   },
   "file_extension": ".py",
   "mimetype": "text/x-python",
   "name": "python",
   "nbconvert_exporter": "python",
   "pygments_lexer": "ipython3",
   "version": "3.9.18"
  }
 },
 "nbformat": 4,
 "nbformat_minor": 5
}
