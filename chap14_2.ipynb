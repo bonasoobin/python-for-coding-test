{
 "cells": [
  {
   "cell_type": "markdown",
   "id": "f563f943-c391-4b9a-aded-a4ff6ca3fc0b",
   "metadata": {},
   "source": [
    "### 안테나"
   ]
  },
  {
   "cell_type": "markdown",
   "id": "3f4ac86e-3e28-4457-acd3-e9818e601af4",
   "metadata": {},
   "source": [
    "[백준 링크](https://www.acmicpc.net/problem/18310) []"
   ]
  },
  {
   "cell_type": "markdown",
   "id": "36006bbd-5117-449d-9650-35e0606e54a0",
   "metadata": {},
   "source": [
    "+ 일직선 상의 마을에 여러 채의 집이 위치해 있음\n",
    "+ 특정 위치의 집에 특별히 한 개의 안테나를 설치하기로 결정함\n",
    "+ 효율성을 위해 안테나로부터 모든 집까지의 거리의 총합이 최소가 되도록 설치하려고 함\n",
    "+ 안테나는 집이 위치한 곳에만 설치할 수 있고, 논리적으로 동일한 위치에 여러 개의 집이 존재하는 것이 가능\n",
    "\n",
    "+ 집들의 위치 값이 주어질 때, 안테나를 설치할 위치를 선택하는 프로그램 작성하기\n",
    "\n",
    "**예시**  \n",
    "N=4 / 위치 1,5,7,9일 때,    \n",
    "5의 위치에 설치했을 때, 안테나로부터 모든 집까지 거리의 총합이 (4+0+2+4) = 10으로 최소가 됨\n",
    "\n",
    "**입력 조건**   \n",
    "+ 첫째 줄에 집의 수 N이 자연수로 주어짐(1<=N<=200,000)  \n",
    "+ 둘째 줄에 N채의 집에 위치가 공백으로 구분되어 1 이상 100,000 이하의 자연수로 주어짐  \n",
    "\n",
    "**출력 조건**  \n",
    "+ 첫째 줄에 안테나를 설치할 위치의 값을 출력함  \n",
    "+ 단, 안테나를 설치할 수 있는 위치 값으로 여러 개의 값이 도출될 경우 가장 작은 값 출력   \n",
    "\n",
    "**입력 예시**  \n",
    "4  \n",
    "5 1 7 9  \n",
    "\n",
    "**출력 예시**  \n",
    "5  "
   ]
  },
  {
   "cell_type": "code",
   "execution_count": 32,
   "id": "7861d052-454f-4221-8ff6-0eefdefb30a2",
   "metadata": {},
   "outputs": [
    {
     "name": "stdin",
     "output_type": "stream",
     "text": [
      " 4\n",
      " 5 1 7 9\n"
     ]
    },
    {
     "name": "stdout",
     "output_type": "stream",
     "text": [
      "5\n"
     ]
    }
   ],
   "source": [
    "# 메모리 초과\n",
    "n = int(input())\n",
    "home = list(map(int, input().split()))\n",
    "\n",
    "# 안테나와 집까지의 거리 구하기\n",
    "distance = []\n",
    "for i in range(len(home)):\n",
    "    antenna = home[i]\n",
    "    distance1 = []\n",
    "    for j in range(len(home)):\n",
    "        distance1.append(abs(home[j]-antenna))\n",
    "    distance.append(distance1)\n",
    "    # [[0, 4, 2, 4], [4, 0, 6, 8], [2, 6, 0, 2], [4, 8, 2, 0]]\n",
    "\n",
    "# 거리 총합 구하기\n",
    "for i in range(len(distance)):\n",
    "    distance[i] = sum(distance[i])\n",
    "    # [10, 18, 10, 14]\n",
    "\n",
    "# 최솟값과 같다면 minn 리스트에 추가하기\n",
    "minn = []\n",
    "for i in range(len(distance)):\n",
    "    if min(distance) == distance[i]:\n",
    "        minn.append(i)\n",
    "\n",
    "# 최솟값이 하나라면 출력, 아니라면 더 작은 수 출력\n",
    "if len(minn) == 1:\n",
    "    answer = home[minn]\n",
    "    print(answer)\n",
    "else:\n",
    "    answer = 99999\n",
    "    for i in range(len(minn)):\n",
    "        if home[minn[i]] < answer:\n",
    "            answer = home[minn[i]]\n",
    "    print(answer)"
   ]
  },
  {
   "cell_type": "code",
   "execution_count": 33,
   "id": "57dd01c5-f7de-475c-be18-f798fb4b8889",
   "metadata": {},
   "outputs": [
    {
     "name": "stdin",
     "output_type": "stream",
     "text": [
      " 4\n",
      " 5 1 7 9\n"
     ]
    },
    {
     "name": "stdout",
     "output_type": "stream",
     "text": [
      "5\n"
     ]
    }
   ],
   "source": [
    "# 시간초과\n",
    "n = int(input())\n",
    "home = list(map(int, input().split()))\n",
    "\n",
    "# 집까지의 거리 구해서 바로 더하기\n",
    "distance = []\n",
    "for i in range(len(home)):\n",
    "    antenna = home[i]\n",
    "    distance1 = 0\n",
    "    for j in range(len(home)):\n",
    "        distance1 += abs(home[j]-antenna)\n",
    "    distance.append(distance1)\n",
    "    # [10, 18, 10, 14]\n",
    "\n",
    "# 최솟값이랑 같다면 minn 리스트에 추가\n",
    "minn = []\n",
    "for i in range(len(distance)):\n",
    "    if min(distance) == distance[i]:\n",
    "        minn.append(i)\n",
    "\n",
    "# 최솟값이 하나라면 그대로 출력, 아니라면 더 작은 수 출력\n",
    "if len(minn) == 1:\n",
    "    answer = home[minn]\n",
    "    print(answer)\n",
    "else:\n",
    "    answer = 99999\n",
    "    for i in range(len(minn)):\n",
    "        if home[minn[i]] < answer:\n",
    "            answer = home[minn[i]]\n",
    "    print(answer)"
   ]
  },
  {
   "cell_type": "code",
   "execution_count": 49,
   "id": "b5e93bb4-8b15-4962-ad6d-4cde31f62380",
   "metadata": {},
   "outputs": [
    {
     "name": "stdin",
     "output_type": "stream",
     "text": [
      " 4\n",
      " 5 1 7 9\n"
     ]
    },
    {
     "name": "stdout",
     "output_type": "stream",
     "text": [
      "5\n"
     ]
    }
   ],
   "source": [
    "# 정답\n",
    "n = int(input())\n",
    "home = list(map(int, input().split()))\n",
    "\n",
    "home.sort()\n",
    "# 중간값이 가장 효율적인 곳이니까 중앙값 구하기..\n",
    "print(home[(n-1)//2])\n"
   ]
  },
  {
   "cell_type": "markdown",
   "id": "dee511f7-2b90-4d07-9b89-fb2d9af0b213",
   "metadata": {},
   "source": [
    "<img src=\"a.png\" width=\"900\" height=\"500\"/>"
   ]
  }
 ],
 "metadata": {
  "kernelspec": {
   "display_name": "Python 3 (ipykernel)",
   "language": "python",
   "name": "python3"
  },
  "language_info": {
   "codemirror_mode": {
    "name": "ipython",
    "version": 3
   },
   "file_extension": ".py",
   "mimetype": "text/x-python",
   "name": "python",
   "nbconvert_exporter": "python",
   "pygments_lexer": "ipython3",
   "version": "3.9.18"
  }
 },
 "nbformat": 4,
 "nbformat_minor": 5
}
