{
 "cells": [
  {
   "cell_type": "markdown",
   "id": "1785b13d-dd74-47a6-b56e-52ba4ff4a5ab",
   "metadata": {},
   "source": [
    "### 자물쇠와 열쇠"
   ]
  },
  {
   "cell_type": "markdown",
   "id": "d347e958-66b7-44b4-801b-9fccf5e7302f",
   "metadata": {},
   "source": [
    "[프로그래머스 링크](https://school.programmers.co.kr/learn/courses/30/lessons/60059) []"
   ]
  },
  {
   "cell_type": "markdown",
   "id": "bfc2cb67-2afd-406f-9da8-59448c387acd",
   "metadata": {},
   "source": [
    "+ 잠겨있는 자물쇠는 격자 한 칸의 크기가 1x1인 NxN 크기의 정사각 격자 형태이고,  \n",
    "  특이한 모양의 열쇠는 MxM 크기인 정사각 격자 형태로 되어있음\n",
    "\n",
    "+ 자물쇠에는 홈이 파여 있고 열쇠 또한 홈과 돌기 부분이 있음\n",
    "+ 열쇠는 회전과 이동이 가능하며 열쇠의 돌기 부분을 자물쇠의 홈 부분에 딱 맞게 채우면 자물쇠가 열리는 구조\n",
    "+ 자물쇠 영역을 벗어난 부분에 있는 열쇠의 홈과 돌기는 자물쇠를 여는 데 영향을 주지는 않지만,  \n",
    "  자물쇠 영역 내에서는 열쇠의 돌기 부분과 자물쇠의 홈 부분이 정확히 일치해야 하며  \n",
    "  열쇠의 돌기와 자물쇠의 돌기가 만나서는 안됨\n",
    "+ 자물쇠의 모든 홈을 채워 비어있는 곳이 없어야 자물쇠를 열 수 있음\n",
    "\n",
    "+ 열쇠를 나타내는 2차원 배열 key와 자물쇠를 나타내는 2차원 배열 lock이 매개변수로 주어질 때,  \n",
    "  열쇠로 자물쇠를 열 수 있으면 true를, 열 수 없으면 false를 return 하도록 solution 함수 작성하기\n",
    "\n",
    "  \n",
    "**제한 사항**          \n",
    "+ key는 MxM (3<=M<=20, M은 자연수) 크기 2차원 배열\n",
    "+ lock은 NxN (3<=N<=20, M은 자연수) 크기 2차원 배열\n",
    "+ M은 항상 N이하\n",
    "+ key와 lock의 원소는 0 또는 1로 이루어져 있음(0은 홈 부분, 1은 돌기 부분)\n",
    "  \n",
    "**입출력 예시**  \n",
    "key : [[0,0,0], [1,0,0], [0,1,1]]  \n",
    "lock : [[1,1,1], [1,1,0], [1,0,1]]  \n",
    "result : true\n",
    "\n",
    "**입출력 예시에 대한 설명**  \n",
    " key를 시계 방향으로 90도 회전하고, 오른쪽으로 한 칸, 아래로 한 칸 이동하면 lock의 홈 부분을 정확히 모두 채울 수 있음"
   ]
  },
  {
   "cell_type": "markdown",
   "id": "c11a7563-34f3-413e-b4c1-bc8fce95f2cc",
   "metadata": {},
   "source": [
    "<img src=\"a.jpg\" width=\"500\" height=\"500\"/>"
   ]
  },
  {
   "cell_type": "code",
   "execution_count": null,
   "id": "54baacfe-74b0-4462-bf9d-72e3cffc86d4",
   "metadata": {},
   "outputs": [],
   "source": [
    "def solution(key, lock):\n",
    "    key = list(map(list, zip(*key[::-1])))"
   ]
  },
  {
   "cell_type": "code",
   "execution_count": 15,
   "id": "674e97ea-f381-4c66-ad9b-f9e3fcb39980",
   "metadata": {},
   "outputs": [
    {
     "name": "stdout",
     "output_type": "stream",
     "text": [
      "[[0, 0, 0], [1, 0, 0], [0, 1, 1]]\n",
      "[[0, 1, 0], [1, 0, 0], [1, 0, 0]]\n",
      "[[1, 1, 0], [0, 0, 1], [0, 0, 0]]\n",
      "[[0, 0, 1], [0, 0, 1], [0, 1, 0]]\n"
     ]
    }
   ],
   "source": [
    "key=[[0,0,0], [1,0,0], [0,1,1]]\n",
    "lock=[[1,1,1], [1,1,0], [1,0,1]]  \n",
    "\n",
    "clockwise = [key] # 시계방향으로 회전한거 저장하기\n",
    "for _ in range(3):\n",
    "    key = list(map(list, zip(*key[::-1])))\n",
    "    clockwise.append(key)\n",
    "'''\n",
    "print(clockwise)\n",
    "[[[0, 0, 0], [1, 0, 0], [0, 1, 1]], [[0, 1, 0], [1, 0, 0], [1, 0, 0]], [[1, 1, 0], [0, 0, 1], [0, 0, 0]], [[0, 0, 1], [0, 0, 1], [0, 1, 0]]]\n",
    "'''\n",
    "\n",
    "for i in range(len(clockwise)):\n",
    "    "
   ]
  },
  {
   "cell_type": "code",
   "execution_count": null,
   "id": "51a4983d-fec5-4eb4-8748-85b4c009e3e7",
   "metadata": {},
   "outputs": [],
   "source": []
  },
  {
   "cell_type": "code",
   "execution_count": 35,
   "id": "bdeacf48-d154-4854-a120-824ece81181a",
   "metadata": {},
   "outputs": [],
   "source": [
    "# 답안\n",
    "\n",
    "# 2차원 리스트 90도 회전\n",
    "def rotate_a_matrix_by_90_degree(a):\n",
    "    n = len(a) # 행 길이 계산\n",
    "    m = len(a[0]) # 열 길이 계산\n",
    "    result = [[0] * n for _ in range(m)] # 결과 리스트\n",
    "    for i in range(n):\n",
    "        for j in range(m):\n",
    "            result[j][n-i-1] = a[i][j]\n",
    "    return result\n",
    "\n",
    "\n",
    "# 자물쇠의 중간 부분이 모두 1인지 확인\n",
    "def check(new_lock):\n",
    "    lock_length = len(new_lock) // 3\n",
    "    for i in range(lock_length, lock_length*2):\n",
    "        for j in range(lock_length, lock_length*2):\n",
    "            if new_lock[i][j] != 1:\n",
    "                return False\n",
    "        return True\n",
    "\n",
    "def solution(key, lock):\n",
    "    n = len(lock)\n",
    "    m = len(key)\n",
    "    # 자물쇠의 크기를 기존의 3배로 변환\n",
    "    new_lock = [[0] * (n*3) for _ in range(n*3)]\n",
    "    # 새로운 자물쇠의 중앙 부분에 기존의 자물쇠 넣기\n",
    "    for i in range(n):\n",
    "        for j in range(n):\n",
    "            new_lock[i+n][j+n] = lock[i][j]\n",
    "    # 4가지 방향에 대해서 확인\n",
    "    for rotation in range(4):\n",
    "        key = rotate_a_matrix_by_90_degree(key) # 열쇠 회전\n",
    "        for x in range(n*2):\n",
    "            for y in range(n*2):\n",
    "                # 자물쇠에 열쇠를 끼워 넣기\n",
    "                for i in range(m):\n",
    "                    for j in range(m):\n",
    "                        new_lock[x+i][y+j] += key[i][j]\n",
    "                # 새로운 자물쇠에 열쇠가 정확히 들어맞는지 검사\n",
    "                if check(new_lock) == True:\n",
    "                    return True\n",
    "                # 자물쇠에서 열쇠를 다시 빼기\n",
    "                for i in range(m):\n",
    "                    for j in range(m):\n",
    "                        new_lock[x+i][y+j] -= key[i][j]\n",
    "    return False"
   ]
  },
  {
   "cell_type": "code",
   "execution_count": 36,
   "id": "67493cfd-e55d-4aa2-90df-c11c3ddf6da3",
   "metadata": {},
   "outputs": [
    {
     "data": {
      "text/plain": [
       "True"
      ]
     },
     "execution_count": 36,
     "metadata": {},
     "output_type": "execute_result"
    }
   ],
   "source": [
    "solution([[0,0,0], [1,0,0], [0,1,1]], [[1,1,1], [1,1,0], [1,0,1]])"
   ]
  }
 ],
 "metadata": {
  "kernelspec": {
   "display_name": "Python 3 (ipykernel)",
   "language": "python",
   "name": "python3"
  },
  "language_info": {
   "codemirror_mode": {
    "name": "ipython",
    "version": 3
   },
   "file_extension": ".py",
   "mimetype": "text/x-python",
   "name": "python",
   "nbconvert_exporter": "python",
   "pygments_lexer": "ipython3",
   "version": "3.9.18"
  }
 },
 "nbformat": 4,
 "nbformat_minor": 5
}
