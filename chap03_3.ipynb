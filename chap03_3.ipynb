{
 "cells": [
  {
   "cell_type": "code",
   "execution_count": null,
   "id": "a37b1dfb-ddaa-456d-9cd3-5b7f973b8858",
   "metadata": {},
   "outputs": [],
   "source": [
    "### 1이 될 때까지\n",
    "\n",
    "# 입력 조건\n",
    "# 첫째 줄에 N(2 <= N <= 100000)과 K(2 <= K <= 100000)가 공백으로 구분되며 각각 자연수로 주어짐\n",
    "# 이때 입력으로 주어지는 N은 항상 K보다 크거나 같음\n",
    "\n",
    "# 출력 조건 \n",
    "# 첫째 줄에 N이 1이 될 때까지 1번 혹은 2번의 과정을 수행해야 하는 횟수의 최솟값 출력\n",
    "\n",
    "# 문제\n",
    "# 어떠한 수 N이 1이 될 때까지 다음의 두 과정 중 하나를 반복적으로 선택하여 수행하려고 한다.\n",
    "# 단, 두번째 연산은 N이 K로 나누어떨어질 때만 선택할 수 있다.\n",
    "# 1. N에서 1을 뺀다\n",
    "# 2. N을 K로 나눈다"
   ]
  },
  {
   "cell_type": "code",
   "execution_count": 5,
   "id": "0923c647-9304-478a-ac37-70d837391c8f",
   "metadata": {},
   "outputs": [
    {
     "name": "stdin",
     "output_type": "stream",
     "text": [
      " 25 5\n"
     ]
    }
   ],
   "source": [
    "n, k = map(int, input().split())"
   ]
  },
  {
   "cell_type": "code",
   "execution_count": 6,
   "id": "b8877b01-0c4c-4c1d-b96d-24b3f30eff97",
   "metadata": {},
   "outputs": [
    {
     "name": "stdout",
     "output_type": "stream",
     "text": [
      "2\n"
     ]
    }
   ],
   "source": [
    "count = 0\n",
    "\n",
    "while True:\n",
    "    if n % k == 0:\n",
    "        n = int(n/k)\n",
    "        count += 1\n",
    "        if n == 1 :\n",
    "            break\n",
    "    else:\n",
    "        n -= 1\n",
    "        count += 1\n",
    "        if n == 1 :\n",
    "            break\n",
    "print(count)"
   ]
  },
  {
   "cell_type": "code",
   "execution_count": null,
   "id": "87671c4e-a55a-4e69-afcd-974658393da4",
   "metadata": {},
   "outputs": [],
   "source": []
  },
  {
   "cell_type": "code",
   "execution_count": null,
   "id": "8feec712-ded3-450d-89c5-b43e6322d706",
   "metadata": {},
   "outputs": [],
   "source": []
  },
  {
   "cell_type": "code",
   "execution_count": null,
   "id": "d85f82a0-63b3-4728-943b-114ff1d087f5",
   "metadata": {},
   "outputs": [],
   "source": []
  }
 ],
 "metadata": {
  "kernelspec": {
   "display_name": "Python 3 (ipykernel)",
   "language": "python",
   "name": "python3"
  },
  "language_info": {
   "codemirror_mode": {
    "name": "ipython",
    "version": 3
   },
   "file_extension": ".py",
   "mimetype": "text/x-python",
   "name": "python",
   "nbconvert_exporter": "python",
   "pygments_lexer": "ipython3",
   "version": "3.9.18"
  }
 },
 "nbformat": 4,
 "nbformat_minor": 5
}
