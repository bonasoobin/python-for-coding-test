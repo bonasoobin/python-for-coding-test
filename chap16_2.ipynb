{
 "cells": [
  {
   "cell_type": "markdown",
   "id": "b2a1340e",
   "metadata": {},
   "source": [
    "### 정수 삼각형"
   ]
  },
  {
   "cell_type": "markdown",
   "id": "1664c692",
   "metadata": {},
   "source": [
    "+ 맨 위층 7부터 시작해서 아래에 있는 수 중 하나를 선택하여 아래층으로 내려올 때,  \n",
    "  이제까지 선택된 수의 합이 최대가 되는 경로를 구하는 프로그램을 작성하기\n",
    "+ 아래층에 있는 수는 현재 층에서 선택된 수의 대각선 왼쪽 또는 대각선 오른쪽에 있는 것 중에서만 선택할 수 있음\n",
    "\n",
    "+ 삼각형의 크기는 1 이상 500 이하\n",
    "+ 삼각형을 이루고 있는 각 수는 모두 정수이며, 그 값의 범위는 0 이상 9999 이하\n",
    "\n",
    "**입력 조건**\n",
    "+ 첫째 줄에 삼각형의 크기 n(1 <= n <= 500)이 주어지고, 둘째 줄부터 n+1번째 줄까지 정수 삼각형이 주어짐\n",
    "\n",
    "**출력 조건**  \n",
    "+ 첫째 줄에 합이 최대가 되는 경로에 있는 수의 합을 출력\n",
    "\n",
    "**입력 예시**  \n",
    "5  \n",
    "7  \n",
    "3 8  \n",
    "8 1 0  \n",
    "2 7 4 4  \n",
    "4 5 2 6 5  \n",
    "\n",
    "**출력 예시**  \n",
    "30"
   ]
  },
  {
   "cell_type": "code",
   "execution_count": 21,
   "id": "f66b21e2",
   "metadata": {},
   "outputs": [
    {
     "name": "stdout",
     "output_type": "stream",
     "text": [
      "5\n",
      "7\n",
      "3 8\n",
      "8 1 0\n",
      "2 7 4 4\n",
      "4 5 2 6 5\n",
      "30\n"
     ]
    }
   ],
   "source": [
    "n = int(input())\n",
    "triangle = []\n",
    "for _ in range(n):\n",
    "    triangle.append(list(map(int, input().split())))\n",
    "\n",
    "triangle_complete = []\n",
    "for i in range(len(triangle)):\n",
    "    triangle_ing = []\n",
    "    if len(triangle[i]) == 1:\n",
    "        triangle_ing.append(triangle[i][0])\n",
    "        \n",
    "    elif len(triangle[i]) == 2:\n",
    "        triangle_ing.append(triangle_complete[i-1][0] + triangle[i][0])\n",
    "        triangle_ing.append(triangle_complete[i-1][0] + triangle[i][1])\n",
    "\n",
    "    else:\n",
    "        triangle_ing.append(triangle_complete[i-1][0] + triangle[i][0])\n",
    "        for j in range(1, len(triangle[i])-1):\n",
    "            triangle_ing.append(max(triangle_complete[i-1][j-1] + triangle[i][j], triangle_complete[i-1][j] + triangle[i][j]))\n",
    "        triangle_ing.append(triangle_complete[i-1][-1] + triangle[i][-1])\n",
    "        \n",
    "    triangle_complete.append(triangle_ing)\n",
    "    \n",
    "print(max(triangle_complete[-1]))"
   ]
  },
  {
   "cell_type": "code",
   "execution_count": 5,
   "id": "877120df",
   "metadata": {},
   "outputs": [
    {
     "name": "stdout",
     "output_type": "stream",
     "text": [
      "5\n",
      "7\n",
      "3 8\n",
      "8 1 0\n",
      "2 7 4 4\n",
      "4 5 2 6 5\n",
      "30\n"
     ]
    }
   ],
   "source": [
    "# 정답\n",
    "n = int(input())\n",
    "dp = []\n",
    "for _ in range(n):\n",
    "    dp.append(list(map(int, input().split())))\n",
    "    \n",
    "for i in range(1, n):\n",
    "    for j in range(i+1):\n",
    "        if j == 0: # 왼쪽 위에서 내려오는경우\n",
    "            up_left = 0\n",
    "        else:\n",
    "            up_left = dp[i-1][j-1]\n",
    "        if j == i: # 왼쪽 대각선\n",
    "            up = 0\n",
    "        else:\n",
    "            up = dp[i-1][j]\n",
    "        dp[i][j] = dp[i][j] + max(up_left, up)\n",
    "print(max(dp[n-1]))"
   ]
  }
 ],
 "metadata": {
  "kernelspec": {
   "display_name": "Python 3 (ipykernel)",
   "language": "python",
   "name": "python3"
  },
  "language_info": {
   "codemirror_mode": {
    "name": "ipython",
    "version": 3
   },
   "file_extension": ".py",
   "mimetype": "text/x-python",
   "name": "python",
   "nbconvert_exporter": "python",
   "pygments_lexer": "ipython3",
   "version": "3.11.5"
  }
 },
 "nbformat": 4,
 "nbformat_minor": 5
}
