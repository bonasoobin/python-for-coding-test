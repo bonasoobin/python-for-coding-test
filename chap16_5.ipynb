{
 "cells": [
  {
   "cell_type": "markdown",
   "id": "bf677ac8",
   "metadata": {},
   "source": [
    "### 못생긴 수 "
   ]
  },
  {
   "cell_type": "code",
   "execution_count": 19,
   "id": "c93b32fa",
   "metadata": {},
   "outputs": [
    {
     "name": "stdout",
     "output_type": "stream",
     "text": [
      "10\n",
      "12\n"
     ]
    }
   ],
   "source": [
    "n = int(input())\n",
    "\n",
    "# 소수 구하기\n",
    "def factorization(n):\n",
    "    factors = []\n",
    "    i = 2\n",
    "    while i<=n:\n",
    "        if n%i == 0:\n",
    "            factors.append(i)\n",
    "            n = n/i\n",
    "        else:\n",
    "            i = i+1\n",
    "    return factors\n",
    "\n",
    "a = [1]\n",
    "j = 2\n",
    "while True:\n",
    "    f = factorization(j)\n",
    "    if set(f) in ({2}, {3}, {5}, {2, 3}, {2, 5}, {3, 5}, {2, 3, 5}):\n",
    "        a.append(j)\n",
    "    j += 1\n",
    "    if len(a) == n:\n",
    "        break\n",
    "print(a[-1])"
   ]
  },
  {
   "cell_type": "code",
   "execution_count": 20,
   "id": "a876c989",
   "metadata": {},
   "outputs": [
    {
     "name": "stdout",
     "output_type": "stream",
     "text": [
      "4\n",
      "4\n"
     ]
    }
   ],
   "source": [
    "n = int(input())\n",
    "\n",
    "# 소수 구하기\n",
    "def factorization(n):\n",
    "    factors = []\n",
    "    i = 2\n",
    "    while i<=n:\n",
    "        if n%i == 0:\n",
    "            factors.append(i)\n",
    "            n = n/i\n",
    "        else:\n",
    "            i = i+1\n",
    "    return factors\n",
    "\n",
    "a = [1]\n",
    "j = 2\n",
    "while True:\n",
    "    f = factorization(j)\n",
    "    if set(f) in ({2}, {3}, {5}, {2, 3}, {2, 5}, {3, 5}, {2, 3, 5}):\n",
    "        a.append(j)\n",
    "    j += 1\n",
    "    if len(a) == n:\n",
    "        break\n",
    "print(a[-1])"
   ]
  },
  {
   "cell_type": "code",
   "execution_count": 21,
   "id": "3d7f0e35",
   "metadata": {},
   "outputs": [
    {
     "name": "stdout",
     "output_type": "stream",
     "text": [
      "7\n",
      "8\n"
     ]
    }
   ],
   "source": [
    "n = int(input())\n",
    "\n",
    "# 소수 구하기\n",
    "def factorization(n):\n",
    "    factors = []\n",
    "    i = 2\n",
    "    while i<=n:\n",
    "        if n%i == 0:\n",
    "            factors.append(i)\n",
    "            n = n/i\n",
    "        else:\n",
    "            i = i+1\n",
    "    return factors\n",
    "\n",
    "a = [1]\n",
    "j = 2\n",
    "while True:\n",
    "    f = factorization(j)\n",
    "    if set(f) in ({2}, {3}, {5}, {2, 3}, {2, 5}, {3, 5}, {2, 3, 5}):\n",
    "        a.append(j)\n",
    "    j += 1\n",
    "    if len(a) == n:\n",
    "        break\n",
    "print(a[-1])"
   ]
  }
 ],
 "metadata": {
  "kernelspec": {
   "display_name": "Python 3 (ipykernel)",
   "language": "python",
   "name": "python3"
  },
  "language_info": {
   "codemirror_mode": {
    "name": "ipython",
    "version": 3
   },
   "file_extension": ".py",
   "mimetype": "text/x-python",
   "name": "python",
   "nbconvert_exporter": "python",
   "pygments_lexer": "ipython3",
   "version": "3.11.5"
  }
 },
 "nbformat": 4,
 "nbformat_minor": 5
}
