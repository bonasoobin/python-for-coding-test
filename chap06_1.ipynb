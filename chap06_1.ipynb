{
 "cells": [
  {
   "cell_type": "markdown",
   "id": "810a29bc-1782-48d2-88b9-6cb27ceaecea",
   "metadata": {},
   "source": [
    "### 위에서 아래로"
   ]
  },
  {
   "cell_type": "code",
   "execution_count": 1,
   "id": "1f080ff1-603e-4eab-ab66-d77587503fb6",
   "metadata": {},
   "outputs": [],
   "source": [
    "# 입력 조건\n",
    "# 첫째 줄에 수열에 속해있는 수의 개수 N이 주어짐 (1<=N<=500)\n",
    "# 둘째 줄부터 N+1번째 줄까지 N개의 수가 입력 됨 (범위 1이상 100000이하 자연수)\n",
    "\n",
    "# 출력 조건\n",
    "# 입력으로 이루어진 수열이 내림차순으로 정렬된 결과를 공백으로 구분하여 출력하기\n",
    "\n",
    "# 입력 예시\n",
    "# 3\n",
    "# 15\n",
    "# 27\n",
    "# 12\n",
    "\n",
    "# 출력 예시\n",
    "# 27 15 12"
   ]
  },
  {
   "cell_type": "code",
   "execution_count": 8,
   "id": "76404a3a-7ca8-45b6-a1f4-551b59cc319b",
   "metadata": {},
   "outputs": [
    {
     "name": "stdin",
     "output_type": "stream",
     "text": [
      " 3\n",
      " 15\n",
      " 27\n",
      " 12\n"
     ]
    },
    {
     "name": "stdout",
     "output_type": "stream",
     "text": [
      "27 15 12 "
     ]
    }
   ],
   "source": [
    "# n 입력 받기\n",
    "n = int(input())\n",
    "\n",
    "# n개의 수 입력 받아서 a 리스트에 저장\n",
    "a = []\n",
    "for _ in range(n):\n",
    "    b = int(input())\n",
    "    a.append(b)\n",
    "\n",
    "# a를 내림차순으로 다시 정렬 (현재 a는 [27,15,12])\n",
    "a = sorted(a, reverse = True)\n",
    "\n",
    "# 리스트에서 한개씩 꺼내서 출력\n",
    "for i in a:\n",
    "    print(i, end = ' ')"
   ]
  }
 ],
 "metadata": {
  "kernelspec": {
   "display_name": "Python 3 (ipykernel)",
   "language": "python",
   "name": "python3"
  },
  "language_info": {
   "codemirror_mode": {
    "name": "ipython",
    "version": 3
   },
   "file_extension": ".py",
   "mimetype": "text/x-python",
   "name": "python",
   "nbconvert_exporter": "python",
   "pygments_lexer": "ipython3",
   "version": "3.9.18"
  }
 },
 "nbformat": 4,
 "nbformat_minor": 5
}
